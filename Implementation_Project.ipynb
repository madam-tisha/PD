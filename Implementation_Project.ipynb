{
  "nbformat": 4,
  "nbformat_minor": 0,
  "metadata": {
    "colab": {
      "name": "Implementation_Project.ipynb",
      "provenance": [],
      "collapsed_sections": []
    },
    "kernelspec": {
      "name": "python3",
      "display_name": "Python 3"
    },
    "language_info": {
      "name": "python"
    },
    "accelerator": "TPU",
    "gpuClass": "standard"
  },
  "cells": [
    {
      "cell_type": "markdown",
      "source": [
        "DATA COLLECTION AND ANALYSIS"
      ],
      "metadata": {
        "id": "WPGJ7ZZAGjkd"
      }
    },
    {
      "cell_type": "code",
      "source": [
        "from google.colab import drive\n",
        "drive.mount('/content/drive')"
      ],
      "metadata": {
        "colab": {
          "base_uri": "https://localhost:8080/"
        },
        "id": "hIwD2MN5eV8V",
        "outputId": "5f736063-89f2-4e2b-e956-75687d51aee2"
      },
      "execution_count": null,
      "outputs": [
        {
          "output_type": "stream",
          "name": "stdout",
          "text": [
            "Drive already mounted at /content/drive; to attempt to forcibly remount, call drive.mount(\"/content/drive\", force_remount=True).\n"
          ]
        }
      ]
    },
    {
      "cell_type": "code",
      "execution_count": null,
      "metadata": {
        "id": "cAayryGrB1yb"
      },
      "outputs": [],
      "source": [
        "import numpy as np\n",
        "import pandas as pd\n",
        "path=\"/content/Parkinsson disease.csv\"\n",
        "PD=pd.read_csv(path)\n"
      ]
    },
    {
      "cell_type": "code",
      "source": [
        "PD.head()"
      ],
      "metadata": {
        "colab": {
          "base_uri": "https://localhost:8080/",
          "height": 299
        },
        "id": "XqAlrDTE4x2c",
        "outputId": "e33f58b8-4230-4c5b-b265-1c3d0ce6bbc4"
      },
      "execution_count": null,
      "outputs": [
        {
          "output_type": "execute_result",
          "data": {
            "text/plain": [
              "             name  MDVP:Fo(Hz)  MDVP:Fhi(Hz)  MDVP:Flo(Hz)  MDVP:Jitter(%)  \\\n",
              "0  phon_R01_S01_1      119.992       157.302        74.997         0.00784   \n",
              "1  phon_R01_S01_2      122.400       148.650       113.819         0.00968   \n",
              "2  phon_R01_S01_3      116.682       131.111       111.555         0.01050   \n",
              "3  phon_R01_S01_4      116.676       137.871       111.366         0.00997   \n",
              "4  phon_R01_S01_5      116.014       141.781       110.655         0.01284   \n",
              "\n",
              "   MDVP:Jitter(Abs)  MDVP:RAP  MDVP:PPQ  Jitter:DDP  MDVP:Shimmer  ...  \\\n",
              "0           0.00007   0.00370   0.00554     0.01109       0.04374  ...   \n",
              "1           0.00008   0.00465   0.00696     0.01394       0.06134  ...   \n",
              "2           0.00009   0.00544   0.00781     0.01633       0.05233  ...   \n",
              "3           0.00009   0.00502   0.00698     0.01505       0.05492  ...   \n",
              "4           0.00011   0.00655   0.00908     0.01966       0.06425  ...   \n",
              "\n",
              "   Shimmer:DDA      NHR     HNR  status      RPDE       DFA   spread1  \\\n",
              "0      0.06545  0.02211  21.033       1  0.414783  0.815285 -4.813031   \n",
              "1      0.09403  0.01929  19.085       1  0.458359  0.819521 -4.075192   \n",
              "2      0.08270  0.01309  20.651       1  0.429895  0.825288 -4.443179   \n",
              "3      0.08771  0.01353  20.644       1  0.434969  0.819235 -4.117501   \n",
              "4      0.10470  0.01767  19.649       1  0.417356  0.823484 -3.747787   \n",
              "\n",
              "    spread2        D2       PPE  \n",
              "0  0.266482  2.301442  0.284654  \n",
              "1  0.335590  2.486855  0.368674  \n",
              "2  0.311173  2.342259  0.332634  \n",
              "3  0.334147  2.405554  0.368975  \n",
              "4  0.234513  2.332180  0.410335  \n",
              "\n",
              "[5 rows x 24 columns]"
            ],
            "text/html": [
              "\n",
              "  <div id=\"df-1718a13e-0580-440c-8c28-65f7d60cab1a\">\n",
              "    <div class=\"colab-df-container\">\n",
              "      <div>\n",
              "<style scoped>\n",
              "    .dataframe tbody tr th:only-of-type {\n",
              "        vertical-align: middle;\n",
              "    }\n",
              "\n",
              "    .dataframe tbody tr th {\n",
              "        vertical-align: top;\n",
              "    }\n",
              "\n",
              "    .dataframe thead th {\n",
              "        text-align: right;\n",
              "    }\n",
              "</style>\n",
              "<table border=\"1\" class=\"dataframe\">\n",
              "  <thead>\n",
              "    <tr style=\"text-align: right;\">\n",
              "      <th></th>\n",
              "      <th>name</th>\n",
              "      <th>MDVP:Fo(Hz)</th>\n",
              "      <th>MDVP:Fhi(Hz)</th>\n",
              "      <th>MDVP:Flo(Hz)</th>\n",
              "      <th>MDVP:Jitter(%)</th>\n",
              "      <th>MDVP:Jitter(Abs)</th>\n",
              "      <th>MDVP:RAP</th>\n",
              "      <th>MDVP:PPQ</th>\n",
              "      <th>Jitter:DDP</th>\n",
              "      <th>MDVP:Shimmer</th>\n",
              "      <th>...</th>\n",
              "      <th>Shimmer:DDA</th>\n",
              "      <th>NHR</th>\n",
              "      <th>HNR</th>\n",
              "      <th>status</th>\n",
              "      <th>RPDE</th>\n",
              "      <th>DFA</th>\n",
              "      <th>spread1</th>\n",
              "      <th>spread2</th>\n",
              "      <th>D2</th>\n",
              "      <th>PPE</th>\n",
              "    </tr>\n",
              "  </thead>\n",
              "  <tbody>\n",
              "    <tr>\n",
              "      <th>0</th>\n",
              "      <td>phon_R01_S01_1</td>\n",
              "      <td>119.992</td>\n",
              "      <td>157.302</td>\n",
              "      <td>74.997</td>\n",
              "      <td>0.00784</td>\n",
              "      <td>0.00007</td>\n",
              "      <td>0.00370</td>\n",
              "      <td>0.00554</td>\n",
              "      <td>0.01109</td>\n",
              "      <td>0.04374</td>\n",
              "      <td>...</td>\n",
              "      <td>0.06545</td>\n",
              "      <td>0.02211</td>\n",
              "      <td>21.033</td>\n",
              "      <td>1</td>\n",
              "      <td>0.414783</td>\n",
              "      <td>0.815285</td>\n",
              "      <td>-4.813031</td>\n",
              "      <td>0.266482</td>\n",
              "      <td>2.301442</td>\n",
              "      <td>0.284654</td>\n",
              "    </tr>\n",
              "    <tr>\n",
              "      <th>1</th>\n",
              "      <td>phon_R01_S01_2</td>\n",
              "      <td>122.400</td>\n",
              "      <td>148.650</td>\n",
              "      <td>113.819</td>\n",
              "      <td>0.00968</td>\n",
              "      <td>0.00008</td>\n",
              "      <td>0.00465</td>\n",
              "      <td>0.00696</td>\n",
              "      <td>0.01394</td>\n",
              "      <td>0.06134</td>\n",
              "      <td>...</td>\n",
              "      <td>0.09403</td>\n",
              "      <td>0.01929</td>\n",
              "      <td>19.085</td>\n",
              "      <td>1</td>\n",
              "      <td>0.458359</td>\n",
              "      <td>0.819521</td>\n",
              "      <td>-4.075192</td>\n",
              "      <td>0.335590</td>\n",
              "      <td>2.486855</td>\n",
              "      <td>0.368674</td>\n",
              "    </tr>\n",
              "    <tr>\n",
              "      <th>2</th>\n",
              "      <td>phon_R01_S01_3</td>\n",
              "      <td>116.682</td>\n",
              "      <td>131.111</td>\n",
              "      <td>111.555</td>\n",
              "      <td>0.01050</td>\n",
              "      <td>0.00009</td>\n",
              "      <td>0.00544</td>\n",
              "      <td>0.00781</td>\n",
              "      <td>0.01633</td>\n",
              "      <td>0.05233</td>\n",
              "      <td>...</td>\n",
              "      <td>0.08270</td>\n",
              "      <td>0.01309</td>\n",
              "      <td>20.651</td>\n",
              "      <td>1</td>\n",
              "      <td>0.429895</td>\n",
              "      <td>0.825288</td>\n",
              "      <td>-4.443179</td>\n",
              "      <td>0.311173</td>\n",
              "      <td>2.342259</td>\n",
              "      <td>0.332634</td>\n",
              "    </tr>\n",
              "    <tr>\n",
              "      <th>3</th>\n",
              "      <td>phon_R01_S01_4</td>\n",
              "      <td>116.676</td>\n",
              "      <td>137.871</td>\n",
              "      <td>111.366</td>\n",
              "      <td>0.00997</td>\n",
              "      <td>0.00009</td>\n",
              "      <td>0.00502</td>\n",
              "      <td>0.00698</td>\n",
              "      <td>0.01505</td>\n",
              "      <td>0.05492</td>\n",
              "      <td>...</td>\n",
              "      <td>0.08771</td>\n",
              "      <td>0.01353</td>\n",
              "      <td>20.644</td>\n",
              "      <td>1</td>\n",
              "      <td>0.434969</td>\n",
              "      <td>0.819235</td>\n",
              "      <td>-4.117501</td>\n",
              "      <td>0.334147</td>\n",
              "      <td>2.405554</td>\n",
              "      <td>0.368975</td>\n",
              "    </tr>\n",
              "    <tr>\n",
              "      <th>4</th>\n",
              "      <td>phon_R01_S01_5</td>\n",
              "      <td>116.014</td>\n",
              "      <td>141.781</td>\n",
              "      <td>110.655</td>\n",
              "      <td>0.01284</td>\n",
              "      <td>0.00011</td>\n",
              "      <td>0.00655</td>\n",
              "      <td>0.00908</td>\n",
              "      <td>0.01966</td>\n",
              "      <td>0.06425</td>\n",
              "      <td>...</td>\n",
              "      <td>0.10470</td>\n",
              "      <td>0.01767</td>\n",
              "      <td>19.649</td>\n",
              "      <td>1</td>\n",
              "      <td>0.417356</td>\n",
              "      <td>0.823484</td>\n",
              "      <td>-3.747787</td>\n",
              "      <td>0.234513</td>\n",
              "      <td>2.332180</td>\n",
              "      <td>0.410335</td>\n",
              "    </tr>\n",
              "  </tbody>\n",
              "</table>\n",
              "<p>5 rows × 24 columns</p>\n",
              "</div>\n",
              "      <button class=\"colab-df-convert\" onclick=\"convertToInteractive('df-1718a13e-0580-440c-8c28-65f7d60cab1a')\"\n",
              "              title=\"Convert this dataframe to an interactive table.\"\n",
              "              style=\"display:none;\">\n",
              "        \n",
              "  <svg xmlns=\"http://www.w3.org/2000/svg\" height=\"24px\"viewBox=\"0 0 24 24\"\n",
              "       width=\"24px\">\n",
              "    <path d=\"M0 0h24v24H0V0z\" fill=\"none\"/>\n",
              "    <path d=\"M18.56 5.44l.94 2.06.94-2.06 2.06-.94-2.06-.94-.94-2.06-.94 2.06-2.06.94zm-11 1L8.5 8.5l.94-2.06 2.06-.94-2.06-.94L8.5 2.5l-.94 2.06-2.06.94zm10 10l.94 2.06.94-2.06 2.06-.94-2.06-.94-.94-2.06-.94 2.06-2.06.94z\"/><path d=\"M17.41 7.96l-1.37-1.37c-.4-.4-.92-.59-1.43-.59-.52 0-1.04.2-1.43.59L10.3 9.45l-7.72 7.72c-.78.78-.78 2.05 0 2.83L4 21.41c.39.39.9.59 1.41.59.51 0 1.02-.2 1.41-.59l7.78-7.78 2.81-2.81c.8-.78.8-2.07 0-2.86zM5.41 20L4 18.59l7.72-7.72 1.47 1.35L5.41 20z\"/>\n",
              "  </svg>\n",
              "      </button>\n",
              "      \n",
              "  <style>\n",
              "    .colab-df-container {\n",
              "      display:flex;\n",
              "      flex-wrap:wrap;\n",
              "      gap: 12px;\n",
              "    }\n",
              "\n",
              "    .colab-df-convert {\n",
              "      background-color: #E8F0FE;\n",
              "      border: none;\n",
              "      border-radius: 50%;\n",
              "      cursor: pointer;\n",
              "      display: none;\n",
              "      fill: #1967D2;\n",
              "      height: 32px;\n",
              "      padding: 0 0 0 0;\n",
              "      width: 32px;\n",
              "    }\n",
              "\n",
              "    .colab-df-convert:hover {\n",
              "      background-color: #E2EBFA;\n",
              "      box-shadow: 0px 1px 2px rgba(60, 64, 67, 0.3), 0px 1px 3px 1px rgba(60, 64, 67, 0.15);\n",
              "      fill: #174EA6;\n",
              "    }\n",
              "\n",
              "    [theme=dark] .colab-df-convert {\n",
              "      background-color: #3B4455;\n",
              "      fill: #D2E3FC;\n",
              "    }\n",
              "\n",
              "    [theme=dark] .colab-df-convert:hover {\n",
              "      background-color: #434B5C;\n",
              "      box-shadow: 0px 1px 3px 1px rgba(0, 0, 0, 0.15);\n",
              "      filter: drop-shadow(0px 1px 2px rgba(0, 0, 0, 0.3));\n",
              "      fill: #FFFFFF;\n",
              "    }\n",
              "  </style>\n",
              "\n",
              "      <script>\n",
              "        const buttonEl =\n",
              "          document.querySelector('#df-1718a13e-0580-440c-8c28-65f7d60cab1a button.colab-df-convert');\n",
              "        buttonEl.style.display =\n",
              "          google.colab.kernel.accessAllowed ? 'block' : 'none';\n",
              "\n",
              "        async function convertToInteractive(key) {\n",
              "          const element = document.querySelector('#df-1718a13e-0580-440c-8c28-65f7d60cab1a');\n",
              "          const dataTable =\n",
              "            await google.colab.kernel.invokeFunction('convertToInteractive',\n",
              "                                                     [key], {});\n",
              "          if (!dataTable) return;\n",
              "\n",
              "          const docLinkHtml = 'Like what you see? Visit the ' +\n",
              "            '<a target=\"_blank\" href=https://colab.research.google.com/notebooks/data_table.ipynb>data table notebook</a>'\n",
              "            + ' to learn more about interactive tables.';\n",
              "          element.innerHTML = '';\n",
              "          dataTable['output_type'] = 'display_data';\n",
              "          await google.colab.output.renderOutput(dataTable, element);\n",
              "          const docLink = document.createElement('div');\n",
              "          docLink.innerHTML = docLinkHtml;\n",
              "          element.appendChild(docLink);\n",
              "        }\n",
              "      </script>\n",
              "    </div>\n",
              "  </div>\n",
              "  "
            ]
          },
          "metadata": {},
          "execution_count": 4
        }
      ]
    },
    {
      "cell_type": "code",
      "source": [
        "PD.info()"
      ],
      "metadata": {
        "colab": {
          "base_uri": "https://localhost:8080/"
        },
        "id": "XI9ME1Kj43zJ",
        "outputId": "e6960133-d080-42eb-b4be-293fdf4b3d20"
      },
      "execution_count": null,
      "outputs": [
        {
          "output_type": "stream",
          "name": "stdout",
          "text": [
            "<class 'pandas.core.frame.DataFrame'>\n",
            "RangeIndex: 195 entries, 0 to 194\n",
            "Data columns (total 24 columns):\n",
            " #   Column            Non-Null Count  Dtype  \n",
            "---  ------            --------------  -----  \n",
            " 0   name              195 non-null    object \n",
            " 1   MDVP:Fo(Hz)       195 non-null    float64\n",
            " 2   MDVP:Fhi(Hz)      195 non-null    float64\n",
            " 3   MDVP:Flo(Hz)      195 non-null    float64\n",
            " 4   MDVP:Jitter(%)    195 non-null    float64\n",
            " 5   MDVP:Jitter(Abs)  195 non-null    float64\n",
            " 6   MDVP:RAP          195 non-null    float64\n",
            " 7   MDVP:PPQ          195 non-null    float64\n",
            " 8   Jitter:DDP        195 non-null    float64\n",
            " 9   MDVP:Shimmer      195 non-null    float64\n",
            " 10  MDVP:Shimmer(dB)  195 non-null    float64\n",
            " 11  Shimmer:APQ3      195 non-null    float64\n",
            " 12  Shimmer:APQ5      195 non-null    float64\n",
            " 13  MDVP:APQ          195 non-null    float64\n",
            " 14  Shimmer:DDA       195 non-null    float64\n",
            " 15  NHR               195 non-null    float64\n",
            " 16  HNR               195 non-null    float64\n",
            " 17  status            195 non-null    int64  \n",
            " 18  RPDE              195 non-null    float64\n",
            " 19  DFA               195 non-null    float64\n",
            " 20  spread1           195 non-null    float64\n",
            " 21  spread2           195 non-null    float64\n",
            " 22  D2                195 non-null    float64\n",
            " 23  PPE               195 non-null    float64\n",
            "dtypes: float64(22), int64(1), object(1)\n",
            "memory usage: 36.7+ KB\n"
          ]
        }
      ]
    },
    {
      "cell_type": "code",
      "source": [
        "PD.describe()"
      ],
      "metadata": {
        "colab": {
          "base_uri": "https://localhost:8080/",
          "height": 393
        },
        "id": "RW4Wj9u949Jm",
        "outputId": "10aa3878-015b-40b2-ca16-203cea118911"
      },
      "execution_count": null,
      "outputs": [
        {
          "output_type": "execute_result",
          "data": {
            "text/plain": [
              "       MDVP:Fo(Hz)  MDVP:Fhi(Hz)  MDVP:Flo(Hz)  MDVP:Jitter(%)  \\\n",
              "count   195.000000    195.000000    195.000000      195.000000   \n",
              "mean    154.228641    197.104918    116.324631        0.006220   \n",
              "std      41.390065     91.491548     43.521413        0.004848   \n",
              "min      88.333000    102.145000     65.476000        0.001680   \n",
              "25%     117.572000    134.862500     84.291000        0.003460   \n",
              "50%     148.790000    175.829000    104.315000        0.004940   \n",
              "75%     182.769000    224.205500    140.018500        0.007365   \n",
              "max     260.105000    592.030000    239.170000        0.033160   \n",
              "\n",
              "       MDVP:Jitter(Abs)    MDVP:RAP    MDVP:PPQ  Jitter:DDP  MDVP:Shimmer  \\\n",
              "count        195.000000  195.000000  195.000000  195.000000    195.000000   \n",
              "mean           0.000044    0.003306    0.003446    0.009920      0.029709   \n",
              "std            0.000035    0.002968    0.002759    0.008903      0.018857   \n",
              "min            0.000007    0.000680    0.000920    0.002040      0.009540   \n",
              "25%            0.000020    0.001660    0.001860    0.004985      0.016505   \n",
              "50%            0.000030    0.002500    0.002690    0.007490      0.022970   \n",
              "75%            0.000060    0.003835    0.003955    0.011505      0.037885   \n",
              "max            0.000260    0.021440    0.019580    0.064330      0.119080   \n",
              "\n",
              "       MDVP:Shimmer(dB)  ...  Shimmer:DDA         NHR         HNR      status  \\\n",
              "count        195.000000  ...   195.000000  195.000000  195.000000  195.000000   \n",
              "mean           0.282251  ...     0.046993    0.024847   21.885974    0.753846   \n",
              "std            0.194877  ...     0.030459    0.040418    4.425764    0.431878   \n",
              "min            0.085000  ...     0.013640    0.000650    8.441000    0.000000   \n",
              "25%            0.148500  ...     0.024735    0.005925   19.198000    1.000000   \n",
              "50%            0.221000  ...     0.038360    0.011660   22.085000    1.000000   \n",
              "75%            0.350000  ...     0.060795    0.025640   25.075500    1.000000   \n",
              "max            1.302000  ...     0.169420    0.314820   33.047000    1.000000   \n",
              "\n",
              "             RPDE         DFA     spread1     spread2          D2         PPE  \n",
              "count  195.000000  195.000000  195.000000  195.000000  195.000000  195.000000  \n",
              "mean     0.498536    0.718099   -5.684397    0.226510    2.381826    0.206552  \n",
              "std      0.103942    0.055336    1.090208    0.083406    0.382799    0.090119  \n",
              "min      0.256570    0.574282   -7.964984    0.006274    1.423287    0.044539  \n",
              "25%      0.421306    0.674758   -6.450096    0.174351    2.099125    0.137451  \n",
              "50%      0.495954    0.722254   -5.720868    0.218885    2.361532    0.194052  \n",
              "75%      0.587562    0.761881   -5.046192    0.279234    2.636456    0.252980  \n",
              "max      0.685151    0.825288   -2.434031    0.450493    3.671155    0.527367  \n",
              "\n",
              "[8 rows x 23 columns]"
            ],
            "text/html": [
              "\n",
              "  <div id=\"df-3af67e98-d87c-45e5-9f40-33eb301de1df\">\n",
              "    <div class=\"colab-df-container\">\n",
              "      <div>\n",
              "<style scoped>\n",
              "    .dataframe tbody tr th:only-of-type {\n",
              "        vertical-align: middle;\n",
              "    }\n",
              "\n",
              "    .dataframe tbody tr th {\n",
              "        vertical-align: top;\n",
              "    }\n",
              "\n",
              "    .dataframe thead th {\n",
              "        text-align: right;\n",
              "    }\n",
              "</style>\n",
              "<table border=\"1\" class=\"dataframe\">\n",
              "  <thead>\n",
              "    <tr style=\"text-align: right;\">\n",
              "      <th></th>\n",
              "      <th>MDVP:Fo(Hz)</th>\n",
              "      <th>MDVP:Fhi(Hz)</th>\n",
              "      <th>MDVP:Flo(Hz)</th>\n",
              "      <th>MDVP:Jitter(%)</th>\n",
              "      <th>MDVP:Jitter(Abs)</th>\n",
              "      <th>MDVP:RAP</th>\n",
              "      <th>MDVP:PPQ</th>\n",
              "      <th>Jitter:DDP</th>\n",
              "      <th>MDVP:Shimmer</th>\n",
              "      <th>MDVP:Shimmer(dB)</th>\n",
              "      <th>...</th>\n",
              "      <th>Shimmer:DDA</th>\n",
              "      <th>NHR</th>\n",
              "      <th>HNR</th>\n",
              "      <th>status</th>\n",
              "      <th>RPDE</th>\n",
              "      <th>DFA</th>\n",
              "      <th>spread1</th>\n",
              "      <th>spread2</th>\n",
              "      <th>D2</th>\n",
              "      <th>PPE</th>\n",
              "    </tr>\n",
              "  </thead>\n",
              "  <tbody>\n",
              "    <tr>\n",
              "      <th>count</th>\n",
              "      <td>195.000000</td>\n",
              "      <td>195.000000</td>\n",
              "      <td>195.000000</td>\n",
              "      <td>195.000000</td>\n",
              "      <td>195.000000</td>\n",
              "      <td>195.000000</td>\n",
              "      <td>195.000000</td>\n",
              "      <td>195.000000</td>\n",
              "      <td>195.000000</td>\n",
              "      <td>195.000000</td>\n",
              "      <td>...</td>\n",
              "      <td>195.000000</td>\n",
              "      <td>195.000000</td>\n",
              "      <td>195.000000</td>\n",
              "      <td>195.000000</td>\n",
              "      <td>195.000000</td>\n",
              "      <td>195.000000</td>\n",
              "      <td>195.000000</td>\n",
              "      <td>195.000000</td>\n",
              "      <td>195.000000</td>\n",
              "      <td>195.000000</td>\n",
              "    </tr>\n",
              "    <tr>\n",
              "      <th>mean</th>\n",
              "      <td>154.228641</td>\n",
              "      <td>197.104918</td>\n",
              "      <td>116.324631</td>\n",
              "      <td>0.006220</td>\n",
              "      <td>0.000044</td>\n",
              "      <td>0.003306</td>\n",
              "      <td>0.003446</td>\n",
              "      <td>0.009920</td>\n",
              "      <td>0.029709</td>\n",
              "      <td>0.282251</td>\n",
              "      <td>...</td>\n",
              "      <td>0.046993</td>\n",
              "      <td>0.024847</td>\n",
              "      <td>21.885974</td>\n",
              "      <td>0.753846</td>\n",
              "      <td>0.498536</td>\n",
              "      <td>0.718099</td>\n",
              "      <td>-5.684397</td>\n",
              "      <td>0.226510</td>\n",
              "      <td>2.381826</td>\n",
              "      <td>0.206552</td>\n",
              "    </tr>\n",
              "    <tr>\n",
              "      <th>std</th>\n",
              "      <td>41.390065</td>\n",
              "      <td>91.491548</td>\n",
              "      <td>43.521413</td>\n",
              "      <td>0.004848</td>\n",
              "      <td>0.000035</td>\n",
              "      <td>0.002968</td>\n",
              "      <td>0.002759</td>\n",
              "      <td>0.008903</td>\n",
              "      <td>0.018857</td>\n",
              "      <td>0.194877</td>\n",
              "      <td>...</td>\n",
              "      <td>0.030459</td>\n",
              "      <td>0.040418</td>\n",
              "      <td>4.425764</td>\n",
              "      <td>0.431878</td>\n",
              "      <td>0.103942</td>\n",
              "      <td>0.055336</td>\n",
              "      <td>1.090208</td>\n",
              "      <td>0.083406</td>\n",
              "      <td>0.382799</td>\n",
              "      <td>0.090119</td>\n",
              "    </tr>\n",
              "    <tr>\n",
              "      <th>min</th>\n",
              "      <td>88.333000</td>\n",
              "      <td>102.145000</td>\n",
              "      <td>65.476000</td>\n",
              "      <td>0.001680</td>\n",
              "      <td>0.000007</td>\n",
              "      <td>0.000680</td>\n",
              "      <td>0.000920</td>\n",
              "      <td>0.002040</td>\n",
              "      <td>0.009540</td>\n",
              "      <td>0.085000</td>\n",
              "      <td>...</td>\n",
              "      <td>0.013640</td>\n",
              "      <td>0.000650</td>\n",
              "      <td>8.441000</td>\n",
              "      <td>0.000000</td>\n",
              "      <td>0.256570</td>\n",
              "      <td>0.574282</td>\n",
              "      <td>-7.964984</td>\n",
              "      <td>0.006274</td>\n",
              "      <td>1.423287</td>\n",
              "      <td>0.044539</td>\n",
              "    </tr>\n",
              "    <tr>\n",
              "      <th>25%</th>\n",
              "      <td>117.572000</td>\n",
              "      <td>134.862500</td>\n",
              "      <td>84.291000</td>\n",
              "      <td>0.003460</td>\n",
              "      <td>0.000020</td>\n",
              "      <td>0.001660</td>\n",
              "      <td>0.001860</td>\n",
              "      <td>0.004985</td>\n",
              "      <td>0.016505</td>\n",
              "      <td>0.148500</td>\n",
              "      <td>...</td>\n",
              "      <td>0.024735</td>\n",
              "      <td>0.005925</td>\n",
              "      <td>19.198000</td>\n",
              "      <td>1.000000</td>\n",
              "      <td>0.421306</td>\n",
              "      <td>0.674758</td>\n",
              "      <td>-6.450096</td>\n",
              "      <td>0.174351</td>\n",
              "      <td>2.099125</td>\n",
              "      <td>0.137451</td>\n",
              "    </tr>\n",
              "    <tr>\n",
              "      <th>50%</th>\n",
              "      <td>148.790000</td>\n",
              "      <td>175.829000</td>\n",
              "      <td>104.315000</td>\n",
              "      <td>0.004940</td>\n",
              "      <td>0.000030</td>\n",
              "      <td>0.002500</td>\n",
              "      <td>0.002690</td>\n",
              "      <td>0.007490</td>\n",
              "      <td>0.022970</td>\n",
              "      <td>0.221000</td>\n",
              "      <td>...</td>\n",
              "      <td>0.038360</td>\n",
              "      <td>0.011660</td>\n",
              "      <td>22.085000</td>\n",
              "      <td>1.000000</td>\n",
              "      <td>0.495954</td>\n",
              "      <td>0.722254</td>\n",
              "      <td>-5.720868</td>\n",
              "      <td>0.218885</td>\n",
              "      <td>2.361532</td>\n",
              "      <td>0.194052</td>\n",
              "    </tr>\n",
              "    <tr>\n",
              "      <th>75%</th>\n",
              "      <td>182.769000</td>\n",
              "      <td>224.205500</td>\n",
              "      <td>140.018500</td>\n",
              "      <td>0.007365</td>\n",
              "      <td>0.000060</td>\n",
              "      <td>0.003835</td>\n",
              "      <td>0.003955</td>\n",
              "      <td>0.011505</td>\n",
              "      <td>0.037885</td>\n",
              "      <td>0.350000</td>\n",
              "      <td>...</td>\n",
              "      <td>0.060795</td>\n",
              "      <td>0.025640</td>\n",
              "      <td>25.075500</td>\n",
              "      <td>1.000000</td>\n",
              "      <td>0.587562</td>\n",
              "      <td>0.761881</td>\n",
              "      <td>-5.046192</td>\n",
              "      <td>0.279234</td>\n",
              "      <td>2.636456</td>\n",
              "      <td>0.252980</td>\n",
              "    </tr>\n",
              "    <tr>\n",
              "      <th>max</th>\n",
              "      <td>260.105000</td>\n",
              "      <td>592.030000</td>\n",
              "      <td>239.170000</td>\n",
              "      <td>0.033160</td>\n",
              "      <td>0.000260</td>\n",
              "      <td>0.021440</td>\n",
              "      <td>0.019580</td>\n",
              "      <td>0.064330</td>\n",
              "      <td>0.119080</td>\n",
              "      <td>1.302000</td>\n",
              "      <td>...</td>\n",
              "      <td>0.169420</td>\n",
              "      <td>0.314820</td>\n",
              "      <td>33.047000</td>\n",
              "      <td>1.000000</td>\n",
              "      <td>0.685151</td>\n",
              "      <td>0.825288</td>\n",
              "      <td>-2.434031</td>\n",
              "      <td>0.450493</td>\n",
              "      <td>3.671155</td>\n",
              "      <td>0.527367</td>\n",
              "    </tr>\n",
              "  </tbody>\n",
              "</table>\n",
              "<p>8 rows × 23 columns</p>\n",
              "</div>\n",
              "      <button class=\"colab-df-convert\" onclick=\"convertToInteractive('df-3af67e98-d87c-45e5-9f40-33eb301de1df')\"\n",
              "              title=\"Convert this dataframe to an interactive table.\"\n",
              "              style=\"display:none;\">\n",
              "        \n",
              "  <svg xmlns=\"http://www.w3.org/2000/svg\" height=\"24px\"viewBox=\"0 0 24 24\"\n",
              "       width=\"24px\">\n",
              "    <path d=\"M0 0h24v24H0V0z\" fill=\"none\"/>\n",
              "    <path d=\"M18.56 5.44l.94 2.06.94-2.06 2.06-.94-2.06-.94-.94-2.06-.94 2.06-2.06.94zm-11 1L8.5 8.5l.94-2.06 2.06-.94-2.06-.94L8.5 2.5l-.94 2.06-2.06.94zm10 10l.94 2.06.94-2.06 2.06-.94-2.06-.94-.94-2.06-.94 2.06-2.06.94z\"/><path d=\"M17.41 7.96l-1.37-1.37c-.4-.4-.92-.59-1.43-.59-.52 0-1.04.2-1.43.59L10.3 9.45l-7.72 7.72c-.78.78-.78 2.05 0 2.83L4 21.41c.39.39.9.59 1.41.59.51 0 1.02-.2 1.41-.59l7.78-7.78 2.81-2.81c.8-.78.8-2.07 0-2.86zM5.41 20L4 18.59l7.72-7.72 1.47 1.35L5.41 20z\"/>\n",
              "  </svg>\n",
              "      </button>\n",
              "      \n",
              "  <style>\n",
              "    .colab-df-container {\n",
              "      display:flex;\n",
              "      flex-wrap:wrap;\n",
              "      gap: 12px;\n",
              "    }\n",
              "\n",
              "    .colab-df-convert {\n",
              "      background-color: #E8F0FE;\n",
              "      border: none;\n",
              "      border-radius: 50%;\n",
              "      cursor: pointer;\n",
              "      display: none;\n",
              "      fill: #1967D2;\n",
              "      height: 32px;\n",
              "      padding: 0 0 0 0;\n",
              "      width: 32px;\n",
              "    }\n",
              "\n",
              "    .colab-df-convert:hover {\n",
              "      background-color: #E2EBFA;\n",
              "      box-shadow: 0px 1px 2px rgba(60, 64, 67, 0.3), 0px 1px 3px 1px rgba(60, 64, 67, 0.15);\n",
              "      fill: #174EA6;\n",
              "    }\n",
              "\n",
              "    [theme=dark] .colab-df-convert {\n",
              "      background-color: #3B4455;\n",
              "      fill: #D2E3FC;\n",
              "    }\n",
              "\n",
              "    [theme=dark] .colab-df-convert:hover {\n",
              "      background-color: #434B5C;\n",
              "      box-shadow: 0px 1px 3px 1px rgba(0, 0, 0, 0.15);\n",
              "      filter: drop-shadow(0px 1px 2px rgba(0, 0, 0, 0.3));\n",
              "      fill: #FFFFFF;\n",
              "    }\n",
              "  </style>\n",
              "\n",
              "      <script>\n",
              "        const buttonEl =\n",
              "          document.querySelector('#df-3af67e98-d87c-45e5-9f40-33eb301de1df button.colab-df-convert');\n",
              "        buttonEl.style.display =\n",
              "          google.colab.kernel.accessAllowed ? 'block' : 'none';\n",
              "\n",
              "        async function convertToInteractive(key) {\n",
              "          const element = document.querySelector('#df-3af67e98-d87c-45e5-9f40-33eb301de1df');\n",
              "          const dataTable =\n",
              "            await google.colab.kernel.invokeFunction('convertToInteractive',\n",
              "                                                     [key], {});\n",
              "          if (!dataTable) return;\n",
              "\n",
              "          const docLinkHtml = 'Like what you see? Visit the ' +\n",
              "            '<a target=\"_blank\" href=https://colab.research.google.com/notebooks/data_table.ipynb>data table notebook</a>'\n",
              "            + ' to learn more about interactive tables.';\n",
              "          element.innerHTML = '';\n",
              "          dataTable['output_type'] = 'display_data';\n",
              "          await google.colab.output.renderOutput(dataTable, element);\n",
              "          const docLink = document.createElement('div');\n",
              "          docLink.innerHTML = docLinkHtml;\n",
              "          element.appendChild(docLink);\n",
              "        }\n",
              "      </script>\n",
              "    </div>\n",
              "  </div>\n",
              "  "
            ]
          },
          "metadata": {},
          "execution_count": 6
        }
      ]
    },
    {
      "cell_type": "code",
      "source": [
        "PD"
      ],
      "metadata": {
        "colab": {
          "base_uri": "https://localhost:8080/",
          "height": 488
        },
        "id": "jmGv5jo66VRH",
        "outputId": "ea2c4e35-ed36-4b55-e0e9-d71ddd5a9f24"
      },
      "execution_count": null,
      "outputs": [
        {
          "output_type": "execute_result",
          "data": {
            "text/plain": [
              "               name  MDVP:Fo(Hz)  MDVP:Fhi(Hz)  MDVP:Flo(Hz)  MDVP:Jitter(%)  \\\n",
              "0    phon_R01_S01_1      119.992       157.302        74.997         0.00784   \n",
              "1    phon_R01_S01_2      122.400       148.650       113.819         0.00968   \n",
              "2    phon_R01_S01_3      116.682       131.111       111.555         0.01050   \n",
              "3    phon_R01_S01_4      116.676       137.871       111.366         0.00997   \n",
              "4    phon_R01_S01_5      116.014       141.781       110.655         0.01284   \n",
              "..              ...          ...           ...           ...             ...   \n",
              "190  phon_R01_S50_2      174.188       230.978        94.261         0.00459   \n",
              "191  phon_R01_S50_3      209.516       253.017        89.488         0.00564   \n",
              "192  phon_R01_S50_4      174.688       240.005        74.287         0.01360   \n",
              "193  phon_R01_S50_5      198.764       396.961        74.904         0.00740   \n",
              "194  phon_R01_S50_6      214.289       260.277        77.973         0.00567   \n",
              "\n",
              "     MDVP:Jitter(Abs)  MDVP:RAP  MDVP:PPQ  Jitter:DDP  MDVP:Shimmer  ...  \\\n",
              "0             0.00007   0.00370   0.00554     0.01109       0.04374  ...   \n",
              "1             0.00008   0.00465   0.00696     0.01394       0.06134  ...   \n",
              "2             0.00009   0.00544   0.00781     0.01633       0.05233  ...   \n",
              "3             0.00009   0.00502   0.00698     0.01505       0.05492  ...   \n",
              "4             0.00011   0.00655   0.00908     0.01966       0.06425  ...   \n",
              "..                ...       ...       ...         ...           ...  ...   \n",
              "190           0.00003   0.00263   0.00259     0.00790       0.04087  ...   \n",
              "191           0.00003   0.00331   0.00292     0.00994       0.02751  ...   \n",
              "192           0.00008   0.00624   0.00564     0.01873       0.02308  ...   \n",
              "193           0.00004   0.00370   0.00390     0.01109       0.02296  ...   \n",
              "194           0.00003   0.00295   0.00317     0.00885       0.01884  ...   \n",
              "\n",
              "     Shimmer:DDA      NHR     HNR  status      RPDE       DFA   spread1  \\\n",
              "0        0.06545  0.02211  21.033       1  0.414783  0.815285 -4.813031   \n",
              "1        0.09403  0.01929  19.085       1  0.458359  0.819521 -4.075192   \n",
              "2        0.08270  0.01309  20.651       1  0.429895  0.825288 -4.443179   \n",
              "3        0.08771  0.01353  20.644       1  0.434969  0.819235 -4.117501   \n",
              "4        0.10470  0.01767  19.649       1  0.417356  0.823484 -3.747787   \n",
              "..           ...      ...     ...     ...       ...       ...       ...   \n",
              "190      0.07008  0.02764  19.517       0  0.448439  0.657899 -6.538586   \n",
              "191      0.04812  0.01810  19.147       0  0.431674  0.683244 -6.195325   \n",
              "192      0.03804  0.10715  17.883       0  0.407567  0.655683 -6.787197   \n",
              "193      0.03794  0.07223  19.020       0  0.451221  0.643956 -6.744577   \n",
              "194      0.03078  0.04398  21.209       0  0.462803  0.664357 -5.724056   \n",
              "\n",
              "      spread2        D2       PPE  \n",
              "0    0.266482  2.301442  0.284654  \n",
              "1    0.335590  2.486855  0.368674  \n",
              "2    0.311173  2.342259  0.332634  \n",
              "3    0.334147  2.405554  0.368975  \n",
              "4    0.234513  2.332180  0.410335  \n",
              "..        ...       ...       ...  \n",
              "190  0.121952  2.657476  0.133050  \n",
              "191  0.129303  2.784312  0.168895  \n",
              "192  0.158453  2.679772  0.131728  \n",
              "193  0.207454  2.138608  0.123306  \n",
              "194  0.190667  2.555477  0.148569  \n",
              "\n",
              "[195 rows x 24 columns]"
            ],
            "text/html": [
              "\n",
              "  <div id=\"df-e14f0583-62da-4420-9611-2380999f0b04\">\n",
              "    <div class=\"colab-df-container\">\n",
              "      <div>\n",
              "<style scoped>\n",
              "    .dataframe tbody tr th:only-of-type {\n",
              "        vertical-align: middle;\n",
              "    }\n",
              "\n",
              "    .dataframe tbody tr th {\n",
              "        vertical-align: top;\n",
              "    }\n",
              "\n",
              "    .dataframe thead th {\n",
              "        text-align: right;\n",
              "    }\n",
              "</style>\n",
              "<table border=\"1\" class=\"dataframe\">\n",
              "  <thead>\n",
              "    <tr style=\"text-align: right;\">\n",
              "      <th></th>\n",
              "      <th>name</th>\n",
              "      <th>MDVP:Fo(Hz)</th>\n",
              "      <th>MDVP:Fhi(Hz)</th>\n",
              "      <th>MDVP:Flo(Hz)</th>\n",
              "      <th>MDVP:Jitter(%)</th>\n",
              "      <th>MDVP:Jitter(Abs)</th>\n",
              "      <th>MDVP:RAP</th>\n",
              "      <th>MDVP:PPQ</th>\n",
              "      <th>Jitter:DDP</th>\n",
              "      <th>MDVP:Shimmer</th>\n",
              "      <th>...</th>\n",
              "      <th>Shimmer:DDA</th>\n",
              "      <th>NHR</th>\n",
              "      <th>HNR</th>\n",
              "      <th>status</th>\n",
              "      <th>RPDE</th>\n",
              "      <th>DFA</th>\n",
              "      <th>spread1</th>\n",
              "      <th>spread2</th>\n",
              "      <th>D2</th>\n",
              "      <th>PPE</th>\n",
              "    </tr>\n",
              "  </thead>\n",
              "  <tbody>\n",
              "    <tr>\n",
              "      <th>0</th>\n",
              "      <td>phon_R01_S01_1</td>\n",
              "      <td>119.992</td>\n",
              "      <td>157.302</td>\n",
              "      <td>74.997</td>\n",
              "      <td>0.00784</td>\n",
              "      <td>0.00007</td>\n",
              "      <td>0.00370</td>\n",
              "      <td>0.00554</td>\n",
              "      <td>0.01109</td>\n",
              "      <td>0.04374</td>\n",
              "      <td>...</td>\n",
              "      <td>0.06545</td>\n",
              "      <td>0.02211</td>\n",
              "      <td>21.033</td>\n",
              "      <td>1</td>\n",
              "      <td>0.414783</td>\n",
              "      <td>0.815285</td>\n",
              "      <td>-4.813031</td>\n",
              "      <td>0.266482</td>\n",
              "      <td>2.301442</td>\n",
              "      <td>0.284654</td>\n",
              "    </tr>\n",
              "    <tr>\n",
              "      <th>1</th>\n",
              "      <td>phon_R01_S01_2</td>\n",
              "      <td>122.400</td>\n",
              "      <td>148.650</td>\n",
              "      <td>113.819</td>\n",
              "      <td>0.00968</td>\n",
              "      <td>0.00008</td>\n",
              "      <td>0.00465</td>\n",
              "      <td>0.00696</td>\n",
              "      <td>0.01394</td>\n",
              "      <td>0.06134</td>\n",
              "      <td>...</td>\n",
              "      <td>0.09403</td>\n",
              "      <td>0.01929</td>\n",
              "      <td>19.085</td>\n",
              "      <td>1</td>\n",
              "      <td>0.458359</td>\n",
              "      <td>0.819521</td>\n",
              "      <td>-4.075192</td>\n",
              "      <td>0.335590</td>\n",
              "      <td>2.486855</td>\n",
              "      <td>0.368674</td>\n",
              "    </tr>\n",
              "    <tr>\n",
              "      <th>2</th>\n",
              "      <td>phon_R01_S01_3</td>\n",
              "      <td>116.682</td>\n",
              "      <td>131.111</td>\n",
              "      <td>111.555</td>\n",
              "      <td>0.01050</td>\n",
              "      <td>0.00009</td>\n",
              "      <td>0.00544</td>\n",
              "      <td>0.00781</td>\n",
              "      <td>0.01633</td>\n",
              "      <td>0.05233</td>\n",
              "      <td>...</td>\n",
              "      <td>0.08270</td>\n",
              "      <td>0.01309</td>\n",
              "      <td>20.651</td>\n",
              "      <td>1</td>\n",
              "      <td>0.429895</td>\n",
              "      <td>0.825288</td>\n",
              "      <td>-4.443179</td>\n",
              "      <td>0.311173</td>\n",
              "      <td>2.342259</td>\n",
              "      <td>0.332634</td>\n",
              "    </tr>\n",
              "    <tr>\n",
              "      <th>3</th>\n",
              "      <td>phon_R01_S01_4</td>\n",
              "      <td>116.676</td>\n",
              "      <td>137.871</td>\n",
              "      <td>111.366</td>\n",
              "      <td>0.00997</td>\n",
              "      <td>0.00009</td>\n",
              "      <td>0.00502</td>\n",
              "      <td>0.00698</td>\n",
              "      <td>0.01505</td>\n",
              "      <td>0.05492</td>\n",
              "      <td>...</td>\n",
              "      <td>0.08771</td>\n",
              "      <td>0.01353</td>\n",
              "      <td>20.644</td>\n",
              "      <td>1</td>\n",
              "      <td>0.434969</td>\n",
              "      <td>0.819235</td>\n",
              "      <td>-4.117501</td>\n",
              "      <td>0.334147</td>\n",
              "      <td>2.405554</td>\n",
              "      <td>0.368975</td>\n",
              "    </tr>\n",
              "    <tr>\n",
              "      <th>4</th>\n",
              "      <td>phon_R01_S01_5</td>\n",
              "      <td>116.014</td>\n",
              "      <td>141.781</td>\n",
              "      <td>110.655</td>\n",
              "      <td>0.01284</td>\n",
              "      <td>0.00011</td>\n",
              "      <td>0.00655</td>\n",
              "      <td>0.00908</td>\n",
              "      <td>0.01966</td>\n",
              "      <td>0.06425</td>\n",
              "      <td>...</td>\n",
              "      <td>0.10470</td>\n",
              "      <td>0.01767</td>\n",
              "      <td>19.649</td>\n",
              "      <td>1</td>\n",
              "      <td>0.417356</td>\n",
              "      <td>0.823484</td>\n",
              "      <td>-3.747787</td>\n",
              "      <td>0.234513</td>\n",
              "      <td>2.332180</td>\n",
              "      <td>0.410335</td>\n",
              "    </tr>\n",
              "    <tr>\n",
              "      <th>...</th>\n",
              "      <td>...</td>\n",
              "      <td>...</td>\n",
              "      <td>...</td>\n",
              "      <td>...</td>\n",
              "      <td>...</td>\n",
              "      <td>...</td>\n",
              "      <td>...</td>\n",
              "      <td>...</td>\n",
              "      <td>...</td>\n",
              "      <td>...</td>\n",
              "      <td>...</td>\n",
              "      <td>...</td>\n",
              "      <td>...</td>\n",
              "      <td>...</td>\n",
              "      <td>...</td>\n",
              "      <td>...</td>\n",
              "      <td>...</td>\n",
              "      <td>...</td>\n",
              "      <td>...</td>\n",
              "      <td>...</td>\n",
              "      <td>...</td>\n",
              "    </tr>\n",
              "    <tr>\n",
              "      <th>190</th>\n",
              "      <td>phon_R01_S50_2</td>\n",
              "      <td>174.188</td>\n",
              "      <td>230.978</td>\n",
              "      <td>94.261</td>\n",
              "      <td>0.00459</td>\n",
              "      <td>0.00003</td>\n",
              "      <td>0.00263</td>\n",
              "      <td>0.00259</td>\n",
              "      <td>0.00790</td>\n",
              "      <td>0.04087</td>\n",
              "      <td>...</td>\n",
              "      <td>0.07008</td>\n",
              "      <td>0.02764</td>\n",
              "      <td>19.517</td>\n",
              "      <td>0</td>\n",
              "      <td>0.448439</td>\n",
              "      <td>0.657899</td>\n",
              "      <td>-6.538586</td>\n",
              "      <td>0.121952</td>\n",
              "      <td>2.657476</td>\n",
              "      <td>0.133050</td>\n",
              "    </tr>\n",
              "    <tr>\n",
              "      <th>191</th>\n",
              "      <td>phon_R01_S50_3</td>\n",
              "      <td>209.516</td>\n",
              "      <td>253.017</td>\n",
              "      <td>89.488</td>\n",
              "      <td>0.00564</td>\n",
              "      <td>0.00003</td>\n",
              "      <td>0.00331</td>\n",
              "      <td>0.00292</td>\n",
              "      <td>0.00994</td>\n",
              "      <td>0.02751</td>\n",
              "      <td>...</td>\n",
              "      <td>0.04812</td>\n",
              "      <td>0.01810</td>\n",
              "      <td>19.147</td>\n",
              "      <td>0</td>\n",
              "      <td>0.431674</td>\n",
              "      <td>0.683244</td>\n",
              "      <td>-6.195325</td>\n",
              "      <td>0.129303</td>\n",
              "      <td>2.784312</td>\n",
              "      <td>0.168895</td>\n",
              "    </tr>\n",
              "    <tr>\n",
              "      <th>192</th>\n",
              "      <td>phon_R01_S50_4</td>\n",
              "      <td>174.688</td>\n",
              "      <td>240.005</td>\n",
              "      <td>74.287</td>\n",
              "      <td>0.01360</td>\n",
              "      <td>0.00008</td>\n",
              "      <td>0.00624</td>\n",
              "      <td>0.00564</td>\n",
              "      <td>0.01873</td>\n",
              "      <td>0.02308</td>\n",
              "      <td>...</td>\n",
              "      <td>0.03804</td>\n",
              "      <td>0.10715</td>\n",
              "      <td>17.883</td>\n",
              "      <td>0</td>\n",
              "      <td>0.407567</td>\n",
              "      <td>0.655683</td>\n",
              "      <td>-6.787197</td>\n",
              "      <td>0.158453</td>\n",
              "      <td>2.679772</td>\n",
              "      <td>0.131728</td>\n",
              "    </tr>\n",
              "    <tr>\n",
              "      <th>193</th>\n",
              "      <td>phon_R01_S50_5</td>\n",
              "      <td>198.764</td>\n",
              "      <td>396.961</td>\n",
              "      <td>74.904</td>\n",
              "      <td>0.00740</td>\n",
              "      <td>0.00004</td>\n",
              "      <td>0.00370</td>\n",
              "      <td>0.00390</td>\n",
              "      <td>0.01109</td>\n",
              "      <td>0.02296</td>\n",
              "      <td>...</td>\n",
              "      <td>0.03794</td>\n",
              "      <td>0.07223</td>\n",
              "      <td>19.020</td>\n",
              "      <td>0</td>\n",
              "      <td>0.451221</td>\n",
              "      <td>0.643956</td>\n",
              "      <td>-6.744577</td>\n",
              "      <td>0.207454</td>\n",
              "      <td>2.138608</td>\n",
              "      <td>0.123306</td>\n",
              "    </tr>\n",
              "    <tr>\n",
              "      <th>194</th>\n",
              "      <td>phon_R01_S50_6</td>\n",
              "      <td>214.289</td>\n",
              "      <td>260.277</td>\n",
              "      <td>77.973</td>\n",
              "      <td>0.00567</td>\n",
              "      <td>0.00003</td>\n",
              "      <td>0.00295</td>\n",
              "      <td>0.00317</td>\n",
              "      <td>0.00885</td>\n",
              "      <td>0.01884</td>\n",
              "      <td>...</td>\n",
              "      <td>0.03078</td>\n",
              "      <td>0.04398</td>\n",
              "      <td>21.209</td>\n",
              "      <td>0</td>\n",
              "      <td>0.462803</td>\n",
              "      <td>0.664357</td>\n",
              "      <td>-5.724056</td>\n",
              "      <td>0.190667</td>\n",
              "      <td>2.555477</td>\n",
              "      <td>0.148569</td>\n",
              "    </tr>\n",
              "  </tbody>\n",
              "</table>\n",
              "<p>195 rows × 24 columns</p>\n",
              "</div>\n",
              "      <button class=\"colab-df-convert\" onclick=\"convertToInteractive('df-e14f0583-62da-4420-9611-2380999f0b04')\"\n",
              "              title=\"Convert this dataframe to an interactive table.\"\n",
              "              style=\"display:none;\">\n",
              "        \n",
              "  <svg xmlns=\"http://www.w3.org/2000/svg\" height=\"24px\"viewBox=\"0 0 24 24\"\n",
              "       width=\"24px\">\n",
              "    <path d=\"M0 0h24v24H0V0z\" fill=\"none\"/>\n",
              "    <path d=\"M18.56 5.44l.94 2.06.94-2.06 2.06-.94-2.06-.94-.94-2.06-.94 2.06-2.06.94zm-11 1L8.5 8.5l.94-2.06 2.06-.94-2.06-.94L8.5 2.5l-.94 2.06-2.06.94zm10 10l.94 2.06.94-2.06 2.06-.94-2.06-.94-.94-2.06-.94 2.06-2.06.94z\"/><path d=\"M17.41 7.96l-1.37-1.37c-.4-.4-.92-.59-1.43-.59-.52 0-1.04.2-1.43.59L10.3 9.45l-7.72 7.72c-.78.78-.78 2.05 0 2.83L4 21.41c.39.39.9.59 1.41.59.51 0 1.02-.2 1.41-.59l7.78-7.78 2.81-2.81c.8-.78.8-2.07 0-2.86zM5.41 20L4 18.59l7.72-7.72 1.47 1.35L5.41 20z\"/>\n",
              "  </svg>\n",
              "      </button>\n",
              "      \n",
              "  <style>\n",
              "    .colab-df-container {\n",
              "      display:flex;\n",
              "      flex-wrap:wrap;\n",
              "      gap: 12px;\n",
              "    }\n",
              "\n",
              "    .colab-df-convert {\n",
              "      background-color: #E8F0FE;\n",
              "      border: none;\n",
              "      border-radius: 50%;\n",
              "      cursor: pointer;\n",
              "      display: none;\n",
              "      fill: #1967D2;\n",
              "      height: 32px;\n",
              "      padding: 0 0 0 0;\n",
              "      width: 32px;\n",
              "    }\n",
              "\n",
              "    .colab-df-convert:hover {\n",
              "      background-color: #E2EBFA;\n",
              "      box-shadow: 0px 1px 2px rgba(60, 64, 67, 0.3), 0px 1px 3px 1px rgba(60, 64, 67, 0.15);\n",
              "      fill: #174EA6;\n",
              "    }\n",
              "\n",
              "    [theme=dark] .colab-df-convert {\n",
              "      background-color: #3B4455;\n",
              "      fill: #D2E3FC;\n",
              "    }\n",
              "\n",
              "    [theme=dark] .colab-df-convert:hover {\n",
              "      background-color: #434B5C;\n",
              "      box-shadow: 0px 1px 3px 1px rgba(0, 0, 0, 0.15);\n",
              "      filter: drop-shadow(0px 1px 2px rgba(0, 0, 0, 0.3));\n",
              "      fill: #FFFFFF;\n",
              "    }\n",
              "  </style>\n",
              "\n",
              "      <script>\n",
              "        const buttonEl =\n",
              "          document.querySelector('#df-e14f0583-62da-4420-9611-2380999f0b04 button.colab-df-convert');\n",
              "        buttonEl.style.display =\n",
              "          google.colab.kernel.accessAllowed ? 'block' : 'none';\n",
              "\n",
              "        async function convertToInteractive(key) {\n",
              "          const element = document.querySelector('#df-e14f0583-62da-4420-9611-2380999f0b04');\n",
              "          const dataTable =\n",
              "            await google.colab.kernel.invokeFunction('convertToInteractive',\n",
              "                                                     [key], {});\n",
              "          if (!dataTable) return;\n",
              "\n",
              "          const docLinkHtml = 'Like what you see? Visit the ' +\n",
              "            '<a target=\"_blank\" href=https://colab.research.google.com/notebooks/data_table.ipynb>data table notebook</a>'\n",
              "            + ' to learn more about interactive tables.';\n",
              "          element.innerHTML = '';\n",
              "          dataTable['output_type'] = 'display_data';\n",
              "          await google.colab.output.renderOutput(dataTable, element);\n",
              "          const docLink = document.createElement('div');\n",
              "          docLink.innerHTML = docLinkHtml;\n",
              "          element.appendChild(docLink);\n",
              "        }\n",
              "      </script>\n",
              "    </div>\n",
              "  </div>\n",
              "  "
            ]
          },
          "metadata": {},
          "execution_count": 7
        }
      ]
    },
    {
      "cell_type": "code",
      "source": [
        "len(PD.name.unique())"
      ],
      "metadata": {
        "colab": {
          "base_uri": "https://localhost:8080/"
        },
        "id": "KQlsCR_g6aBn",
        "outputId": "8522af0b-963f-4391-ccaf-8483e2f2e6e6"
      },
      "execution_count": 10,
      "outputs": [
        {
          "output_type": "execute_result",
          "data": {
            "text/plain": [
              "195"
            ]
          },
          "metadata": {},
          "execution_count": 10
        }
      ]
    },
    {
      "cell_type": "code",
      "source": [
        "len(PD.status.unique())"
      ],
      "metadata": {
        "colab": {
          "base_uri": "https://localhost:8080/"
        },
        "id": "Vu0fNbTR6jR1",
        "outputId": "dfa17b8e-0f4f-4874-dda7-58dcefdaf5f8"
      },
      "execution_count": 11,
      "outputs": [
        {
          "output_type": "execute_result",
          "data": {
            "text/plain": [
              "2"
            ]
          },
          "metadata": {},
          "execution_count": 11
        }
      ]
    },
    {
      "cell_type": "code",
      "source": [
        "PD.isnull().sum()"
      ],
      "metadata": {
        "colab": {
          "base_uri": "https://localhost:8080/"
        },
        "id": "Mr7xtEAt-Z39",
        "outputId": "5b0cf8a2-a76c-4c08-a1fe-c8aa2b386005"
      },
      "execution_count": 12,
      "outputs": [
        {
          "output_type": "execute_result",
          "data": {
            "text/plain": [
              "name                0\n",
              "MDVP:Fo(Hz)         0\n",
              "MDVP:Fhi(Hz)        0\n",
              "MDVP:Flo(Hz)        0\n",
              "MDVP:Jitter(%)      0\n",
              "MDVP:Jitter(Abs)    0\n",
              "MDVP:RAP            0\n",
              "MDVP:PPQ            0\n",
              "Jitter:DDP          0\n",
              "MDVP:Shimmer        0\n",
              "MDVP:Shimmer(dB)    0\n",
              "Shimmer:APQ3        0\n",
              "Shimmer:APQ5        0\n",
              "MDVP:APQ            0\n",
              "Shimmer:DDA         0\n",
              "NHR                 0\n",
              "HNR                 0\n",
              "status              0\n",
              "RPDE                0\n",
              "DFA                 0\n",
              "spread1             0\n",
              "spread2             0\n",
              "D2                  0\n",
              "PPE                 0\n",
              "dtype: int64"
            ]
          },
          "metadata": {},
          "execution_count": 12
        }
      ]
    },
    {
      "cell_type": "code",
      "source": [
        "PD.columns"
      ],
      "metadata": {
        "colab": {
          "base_uri": "https://localhost:8080/"
        },
        "id": "YEE6sKui_4-6",
        "outputId": "bd2c2575-7e38-4916-dbd9-ef42efc39786"
      },
      "execution_count": 13,
      "outputs": [
        {
          "output_type": "execute_result",
          "data": {
            "text/plain": [
              "Index(['name', 'MDVP:Fo(Hz)', 'MDVP:Fhi(Hz)', 'MDVP:Flo(Hz)', 'MDVP:Jitter(%)',\n",
              "       'MDVP:Jitter(Abs)', 'MDVP:RAP', 'MDVP:PPQ', 'Jitter:DDP',\n",
              "       'MDVP:Shimmer', 'MDVP:Shimmer(dB)', 'Shimmer:APQ3', 'Shimmer:APQ5',\n",
              "       'MDVP:APQ', 'Shimmer:DDA', 'NHR', 'HNR', 'status', 'RPDE', 'DFA',\n",
              "       'spread1', 'spread2', 'D2', 'PPE'],\n",
              "      dtype='object')"
            ]
          },
          "metadata": {},
          "execution_count": 13
        }
      ]
    },
    {
      "cell_type": "code",
      "source": [
        "PD.shape"
      ],
      "metadata": {
        "colab": {
          "base_uri": "https://localhost:8080/"
        },
        "id": "wVTlQZ-RAJC0",
        "outputId": "90a7f064-6b5a-42a7-8fca-a1cdd39e139d"
      },
      "execution_count": 43,
      "outputs": [
        {
          "output_type": "execute_result",
          "data": {
            "text/plain": [
              "(195, 24)"
            ]
          },
          "metadata": {},
          "execution_count": 43
        }
      ]
    },
    {
      "cell_type": "code",
      "source": [
        "PD.groupby('status').mean()"
      ],
      "metadata": {
        "colab": {
          "base_uri": "https://localhost:8080/",
          "height": 237
        },
        "id": "mYgDNxUhBaml",
        "outputId": "41258d58-2c4d-478c-d782-91ce5efaad4e"
      },
      "execution_count": 15,
      "outputs": [
        {
          "output_type": "execute_result",
          "data": {
            "text/plain": [
              "        MDVP:Fo(Hz)  MDVP:Fhi(Hz)  MDVP:Flo(Hz)  MDVP:Jitter(%)  \\\n",
              "status                                                            \n",
              "0        181.937771    223.636750    145.207292        0.003866   \n",
              "1        145.180762    188.441463    106.893558        0.006989   \n",
              "\n",
              "        MDVP:Jitter(Abs)  MDVP:RAP  MDVP:PPQ  Jitter:DDP  MDVP:Shimmer  \\\n",
              "status                                                                   \n",
              "0               0.000023  0.001925  0.002056    0.005776      0.017615   \n",
              "1               0.000051  0.003757  0.003900    0.011273      0.033658   \n",
              "\n",
              "        MDVP:Shimmer(dB)  ...  MDVP:APQ  Shimmer:DDA       NHR        HNR  \\\n",
              "status                    ...                                               \n",
              "0               0.162958  ...  0.013305     0.028511  0.011483  24.678750   \n",
              "1               0.321204  ...  0.027600     0.053027  0.029211  20.974048   \n",
              "\n",
              "            RPDE       DFA   spread1   spread2        D2       PPE  \n",
              "status                                                              \n",
              "0       0.442552  0.695716 -6.759264  0.160292  2.154491  0.123017  \n",
              "1       0.516816  0.725408 -5.333420  0.248133  2.456058  0.233828  \n",
              "\n",
              "[2 rows x 22 columns]"
            ],
            "text/html": [
              "\n",
              "  <div id=\"df-e154fc8b-85e3-4d03-a5c6-9c7eaf4312d0\">\n",
              "    <div class=\"colab-df-container\">\n",
              "      <div>\n",
              "<style scoped>\n",
              "    .dataframe tbody tr th:only-of-type {\n",
              "        vertical-align: middle;\n",
              "    }\n",
              "\n",
              "    .dataframe tbody tr th {\n",
              "        vertical-align: top;\n",
              "    }\n",
              "\n",
              "    .dataframe thead th {\n",
              "        text-align: right;\n",
              "    }\n",
              "</style>\n",
              "<table border=\"1\" class=\"dataframe\">\n",
              "  <thead>\n",
              "    <tr style=\"text-align: right;\">\n",
              "      <th></th>\n",
              "      <th>MDVP:Fo(Hz)</th>\n",
              "      <th>MDVP:Fhi(Hz)</th>\n",
              "      <th>MDVP:Flo(Hz)</th>\n",
              "      <th>MDVP:Jitter(%)</th>\n",
              "      <th>MDVP:Jitter(Abs)</th>\n",
              "      <th>MDVP:RAP</th>\n",
              "      <th>MDVP:PPQ</th>\n",
              "      <th>Jitter:DDP</th>\n",
              "      <th>MDVP:Shimmer</th>\n",
              "      <th>MDVP:Shimmer(dB)</th>\n",
              "      <th>...</th>\n",
              "      <th>MDVP:APQ</th>\n",
              "      <th>Shimmer:DDA</th>\n",
              "      <th>NHR</th>\n",
              "      <th>HNR</th>\n",
              "      <th>RPDE</th>\n",
              "      <th>DFA</th>\n",
              "      <th>spread1</th>\n",
              "      <th>spread2</th>\n",
              "      <th>D2</th>\n",
              "      <th>PPE</th>\n",
              "    </tr>\n",
              "    <tr>\n",
              "      <th>status</th>\n",
              "      <th></th>\n",
              "      <th></th>\n",
              "      <th></th>\n",
              "      <th></th>\n",
              "      <th></th>\n",
              "      <th></th>\n",
              "      <th></th>\n",
              "      <th></th>\n",
              "      <th></th>\n",
              "      <th></th>\n",
              "      <th></th>\n",
              "      <th></th>\n",
              "      <th></th>\n",
              "      <th></th>\n",
              "      <th></th>\n",
              "      <th></th>\n",
              "      <th></th>\n",
              "      <th></th>\n",
              "      <th></th>\n",
              "      <th></th>\n",
              "      <th></th>\n",
              "    </tr>\n",
              "  </thead>\n",
              "  <tbody>\n",
              "    <tr>\n",
              "      <th>0</th>\n",
              "      <td>181.937771</td>\n",
              "      <td>223.636750</td>\n",
              "      <td>145.207292</td>\n",
              "      <td>0.003866</td>\n",
              "      <td>0.000023</td>\n",
              "      <td>0.001925</td>\n",
              "      <td>0.002056</td>\n",
              "      <td>0.005776</td>\n",
              "      <td>0.017615</td>\n",
              "      <td>0.162958</td>\n",
              "      <td>...</td>\n",
              "      <td>0.013305</td>\n",
              "      <td>0.028511</td>\n",
              "      <td>0.011483</td>\n",
              "      <td>24.678750</td>\n",
              "      <td>0.442552</td>\n",
              "      <td>0.695716</td>\n",
              "      <td>-6.759264</td>\n",
              "      <td>0.160292</td>\n",
              "      <td>2.154491</td>\n",
              "      <td>0.123017</td>\n",
              "    </tr>\n",
              "    <tr>\n",
              "      <th>1</th>\n",
              "      <td>145.180762</td>\n",
              "      <td>188.441463</td>\n",
              "      <td>106.893558</td>\n",
              "      <td>0.006989</td>\n",
              "      <td>0.000051</td>\n",
              "      <td>0.003757</td>\n",
              "      <td>0.003900</td>\n",
              "      <td>0.011273</td>\n",
              "      <td>0.033658</td>\n",
              "      <td>0.321204</td>\n",
              "      <td>...</td>\n",
              "      <td>0.027600</td>\n",
              "      <td>0.053027</td>\n",
              "      <td>0.029211</td>\n",
              "      <td>20.974048</td>\n",
              "      <td>0.516816</td>\n",
              "      <td>0.725408</td>\n",
              "      <td>-5.333420</td>\n",
              "      <td>0.248133</td>\n",
              "      <td>2.456058</td>\n",
              "      <td>0.233828</td>\n",
              "    </tr>\n",
              "  </tbody>\n",
              "</table>\n",
              "<p>2 rows × 22 columns</p>\n",
              "</div>\n",
              "      <button class=\"colab-df-convert\" onclick=\"convertToInteractive('df-e154fc8b-85e3-4d03-a5c6-9c7eaf4312d0')\"\n",
              "              title=\"Convert this dataframe to an interactive table.\"\n",
              "              style=\"display:none;\">\n",
              "        \n",
              "  <svg xmlns=\"http://www.w3.org/2000/svg\" height=\"24px\"viewBox=\"0 0 24 24\"\n",
              "       width=\"24px\">\n",
              "    <path d=\"M0 0h24v24H0V0z\" fill=\"none\"/>\n",
              "    <path d=\"M18.56 5.44l.94 2.06.94-2.06 2.06-.94-2.06-.94-.94-2.06-.94 2.06-2.06.94zm-11 1L8.5 8.5l.94-2.06 2.06-.94-2.06-.94L8.5 2.5l-.94 2.06-2.06.94zm10 10l.94 2.06.94-2.06 2.06-.94-2.06-.94-.94-2.06-.94 2.06-2.06.94z\"/><path d=\"M17.41 7.96l-1.37-1.37c-.4-.4-.92-.59-1.43-.59-.52 0-1.04.2-1.43.59L10.3 9.45l-7.72 7.72c-.78.78-.78 2.05 0 2.83L4 21.41c.39.39.9.59 1.41.59.51 0 1.02-.2 1.41-.59l7.78-7.78 2.81-2.81c.8-.78.8-2.07 0-2.86zM5.41 20L4 18.59l7.72-7.72 1.47 1.35L5.41 20z\"/>\n",
              "  </svg>\n",
              "      </button>\n",
              "      \n",
              "  <style>\n",
              "    .colab-df-container {\n",
              "      display:flex;\n",
              "      flex-wrap:wrap;\n",
              "      gap: 12px;\n",
              "    }\n",
              "\n",
              "    .colab-df-convert {\n",
              "      background-color: #E8F0FE;\n",
              "      border: none;\n",
              "      border-radius: 50%;\n",
              "      cursor: pointer;\n",
              "      display: none;\n",
              "      fill: #1967D2;\n",
              "      height: 32px;\n",
              "      padding: 0 0 0 0;\n",
              "      width: 32px;\n",
              "    }\n",
              "\n",
              "    .colab-df-convert:hover {\n",
              "      background-color: #E2EBFA;\n",
              "      box-shadow: 0px 1px 2px rgba(60, 64, 67, 0.3), 0px 1px 3px 1px rgba(60, 64, 67, 0.15);\n",
              "      fill: #174EA6;\n",
              "    }\n",
              "\n",
              "    [theme=dark] .colab-df-convert {\n",
              "      background-color: #3B4455;\n",
              "      fill: #D2E3FC;\n",
              "    }\n",
              "\n",
              "    [theme=dark] .colab-df-convert:hover {\n",
              "      background-color: #434B5C;\n",
              "      box-shadow: 0px 1px 3px 1px rgba(0, 0, 0, 0.15);\n",
              "      filter: drop-shadow(0px 1px 2px rgba(0, 0, 0, 0.3));\n",
              "      fill: #FFFFFF;\n",
              "    }\n",
              "  </style>\n",
              "\n",
              "      <script>\n",
              "        const buttonEl =\n",
              "          document.querySelector('#df-e154fc8b-85e3-4d03-a5c6-9c7eaf4312d0 button.colab-df-convert');\n",
              "        buttonEl.style.display =\n",
              "          google.colab.kernel.accessAllowed ? 'block' : 'none';\n",
              "\n",
              "        async function convertToInteractive(key) {\n",
              "          const element = document.querySelector('#df-e154fc8b-85e3-4d03-a5c6-9c7eaf4312d0');\n",
              "          const dataTable =\n",
              "            await google.colab.kernel.invokeFunction('convertToInteractive',\n",
              "                                                     [key], {});\n",
              "          if (!dataTable) return;\n",
              "\n",
              "          const docLinkHtml = 'Like what you see? Visit the ' +\n",
              "            '<a target=\"_blank\" href=https://colab.research.google.com/notebooks/data_table.ipynb>data table notebook</a>'\n",
              "            + ' to learn more about interactive tables.';\n",
              "          element.innerHTML = '';\n",
              "          dataTable['output_type'] = 'display_data';\n",
              "          await google.colab.output.renderOutput(dataTable, element);\n",
              "          const docLink = document.createElement('div');\n",
              "          docLink.innerHTML = docLinkHtml;\n",
              "          element.appendChild(docLink);\n",
              "        }\n",
              "      </script>\n",
              "    </div>\n",
              "  </div>\n",
              "  "
            ]
          },
          "metadata": {},
          "execution_count": 15
        }
      ]
    },
    {
      "cell_type": "markdown",
      "source": [
        "SCALLING THE INPUTS"
      ],
      "metadata": {
        "id": "3rlzYM00DpAT"
      }
    },
    {
      "cell_type": "code",
      "source": [
        "X = PD.drop(columns=['name','status'], axis=1)\n"
      ],
      "metadata": {
        "id": "GMhHEyFfBpZm"
      },
      "execution_count": 16,
      "outputs": []
    },
    {
      "cell_type": "code",
      "source": [
        "X"
      ],
      "metadata": {
        "colab": {
          "base_uri": "https://localhost:8080/",
          "height": 488
        },
        "id": "IWRyWxUPCWOu",
        "outputId": "4d865c33-61d4-46d8-f37c-0d55e48f2a88"
      },
      "execution_count": 17,
      "outputs": [
        {
          "output_type": "execute_result",
          "data": {
            "text/plain": [
              "     MDVP:Fo(Hz)  MDVP:Fhi(Hz)  MDVP:Flo(Hz)  MDVP:Jitter(%)  \\\n",
              "0        119.992       157.302        74.997         0.00784   \n",
              "1        122.400       148.650       113.819         0.00968   \n",
              "2        116.682       131.111       111.555         0.01050   \n",
              "3        116.676       137.871       111.366         0.00997   \n",
              "4        116.014       141.781       110.655         0.01284   \n",
              "..           ...           ...           ...             ...   \n",
              "190      174.188       230.978        94.261         0.00459   \n",
              "191      209.516       253.017        89.488         0.00564   \n",
              "192      174.688       240.005        74.287         0.01360   \n",
              "193      198.764       396.961        74.904         0.00740   \n",
              "194      214.289       260.277        77.973         0.00567   \n",
              "\n",
              "     MDVP:Jitter(Abs)  MDVP:RAP  MDVP:PPQ  Jitter:DDP  MDVP:Shimmer  \\\n",
              "0             0.00007   0.00370   0.00554     0.01109       0.04374   \n",
              "1             0.00008   0.00465   0.00696     0.01394       0.06134   \n",
              "2             0.00009   0.00544   0.00781     0.01633       0.05233   \n",
              "3             0.00009   0.00502   0.00698     0.01505       0.05492   \n",
              "4             0.00011   0.00655   0.00908     0.01966       0.06425   \n",
              "..                ...       ...       ...         ...           ...   \n",
              "190           0.00003   0.00263   0.00259     0.00790       0.04087   \n",
              "191           0.00003   0.00331   0.00292     0.00994       0.02751   \n",
              "192           0.00008   0.00624   0.00564     0.01873       0.02308   \n",
              "193           0.00004   0.00370   0.00390     0.01109       0.02296   \n",
              "194           0.00003   0.00295   0.00317     0.00885       0.01884   \n",
              "\n",
              "     MDVP:Shimmer(dB)  ...  MDVP:APQ  Shimmer:DDA      NHR     HNR      RPDE  \\\n",
              "0               0.426  ...   0.02971      0.06545  0.02211  21.033  0.414783   \n",
              "1               0.626  ...   0.04368      0.09403  0.01929  19.085  0.458359   \n",
              "2               0.482  ...   0.03590      0.08270  0.01309  20.651  0.429895   \n",
              "3               0.517  ...   0.03772      0.08771  0.01353  20.644  0.434969   \n",
              "4               0.584  ...   0.04465      0.10470  0.01767  19.649  0.417356   \n",
              "..                ...  ...       ...          ...      ...     ...       ...   \n",
              "190             0.405  ...   0.02745      0.07008  0.02764  19.517  0.448439   \n",
              "191             0.263  ...   0.01879      0.04812  0.01810  19.147  0.431674   \n",
              "192             0.256  ...   0.01667      0.03804  0.10715  17.883  0.407567   \n",
              "193             0.241  ...   0.01588      0.03794  0.07223  19.020  0.451221   \n",
              "194             0.190  ...   0.01373      0.03078  0.04398  21.209  0.462803   \n",
              "\n",
              "          DFA   spread1   spread2        D2       PPE  \n",
              "0    0.815285 -4.813031  0.266482  2.301442  0.284654  \n",
              "1    0.819521 -4.075192  0.335590  2.486855  0.368674  \n",
              "2    0.825288 -4.443179  0.311173  2.342259  0.332634  \n",
              "3    0.819235 -4.117501  0.334147  2.405554  0.368975  \n",
              "4    0.823484 -3.747787  0.234513  2.332180  0.410335  \n",
              "..        ...       ...       ...       ...       ...  \n",
              "190  0.657899 -6.538586  0.121952  2.657476  0.133050  \n",
              "191  0.683244 -6.195325  0.129303  2.784312  0.168895  \n",
              "192  0.655683 -6.787197  0.158453  2.679772  0.131728  \n",
              "193  0.643956 -6.744577  0.207454  2.138608  0.123306  \n",
              "194  0.664357 -5.724056  0.190667  2.555477  0.148569  \n",
              "\n",
              "[195 rows x 22 columns]"
            ],
            "text/html": [
              "\n",
              "  <div id=\"df-5eef41c6-5b2b-4d2f-81a8-f18ca4c1abf1\">\n",
              "    <div class=\"colab-df-container\">\n",
              "      <div>\n",
              "<style scoped>\n",
              "    .dataframe tbody tr th:only-of-type {\n",
              "        vertical-align: middle;\n",
              "    }\n",
              "\n",
              "    .dataframe tbody tr th {\n",
              "        vertical-align: top;\n",
              "    }\n",
              "\n",
              "    .dataframe thead th {\n",
              "        text-align: right;\n",
              "    }\n",
              "</style>\n",
              "<table border=\"1\" class=\"dataframe\">\n",
              "  <thead>\n",
              "    <tr style=\"text-align: right;\">\n",
              "      <th></th>\n",
              "      <th>MDVP:Fo(Hz)</th>\n",
              "      <th>MDVP:Fhi(Hz)</th>\n",
              "      <th>MDVP:Flo(Hz)</th>\n",
              "      <th>MDVP:Jitter(%)</th>\n",
              "      <th>MDVP:Jitter(Abs)</th>\n",
              "      <th>MDVP:RAP</th>\n",
              "      <th>MDVP:PPQ</th>\n",
              "      <th>Jitter:DDP</th>\n",
              "      <th>MDVP:Shimmer</th>\n",
              "      <th>MDVP:Shimmer(dB)</th>\n",
              "      <th>...</th>\n",
              "      <th>MDVP:APQ</th>\n",
              "      <th>Shimmer:DDA</th>\n",
              "      <th>NHR</th>\n",
              "      <th>HNR</th>\n",
              "      <th>RPDE</th>\n",
              "      <th>DFA</th>\n",
              "      <th>spread1</th>\n",
              "      <th>spread2</th>\n",
              "      <th>D2</th>\n",
              "      <th>PPE</th>\n",
              "    </tr>\n",
              "  </thead>\n",
              "  <tbody>\n",
              "    <tr>\n",
              "      <th>0</th>\n",
              "      <td>119.992</td>\n",
              "      <td>157.302</td>\n",
              "      <td>74.997</td>\n",
              "      <td>0.00784</td>\n",
              "      <td>0.00007</td>\n",
              "      <td>0.00370</td>\n",
              "      <td>0.00554</td>\n",
              "      <td>0.01109</td>\n",
              "      <td>0.04374</td>\n",
              "      <td>0.426</td>\n",
              "      <td>...</td>\n",
              "      <td>0.02971</td>\n",
              "      <td>0.06545</td>\n",
              "      <td>0.02211</td>\n",
              "      <td>21.033</td>\n",
              "      <td>0.414783</td>\n",
              "      <td>0.815285</td>\n",
              "      <td>-4.813031</td>\n",
              "      <td>0.266482</td>\n",
              "      <td>2.301442</td>\n",
              "      <td>0.284654</td>\n",
              "    </tr>\n",
              "    <tr>\n",
              "      <th>1</th>\n",
              "      <td>122.400</td>\n",
              "      <td>148.650</td>\n",
              "      <td>113.819</td>\n",
              "      <td>0.00968</td>\n",
              "      <td>0.00008</td>\n",
              "      <td>0.00465</td>\n",
              "      <td>0.00696</td>\n",
              "      <td>0.01394</td>\n",
              "      <td>0.06134</td>\n",
              "      <td>0.626</td>\n",
              "      <td>...</td>\n",
              "      <td>0.04368</td>\n",
              "      <td>0.09403</td>\n",
              "      <td>0.01929</td>\n",
              "      <td>19.085</td>\n",
              "      <td>0.458359</td>\n",
              "      <td>0.819521</td>\n",
              "      <td>-4.075192</td>\n",
              "      <td>0.335590</td>\n",
              "      <td>2.486855</td>\n",
              "      <td>0.368674</td>\n",
              "    </tr>\n",
              "    <tr>\n",
              "      <th>2</th>\n",
              "      <td>116.682</td>\n",
              "      <td>131.111</td>\n",
              "      <td>111.555</td>\n",
              "      <td>0.01050</td>\n",
              "      <td>0.00009</td>\n",
              "      <td>0.00544</td>\n",
              "      <td>0.00781</td>\n",
              "      <td>0.01633</td>\n",
              "      <td>0.05233</td>\n",
              "      <td>0.482</td>\n",
              "      <td>...</td>\n",
              "      <td>0.03590</td>\n",
              "      <td>0.08270</td>\n",
              "      <td>0.01309</td>\n",
              "      <td>20.651</td>\n",
              "      <td>0.429895</td>\n",
              "      <td>0.825288</td>\n",
              "      <td>-4.443179</td>\n",
              "      <td>0.311173</td>\n",
              "      <td>2.342259</td>\n",
              "      <td>0.332634</td>\n",
              "    </tr>\n",
              "    <tr>\n",
              "      <th>3</th>\n",
              "      <td>116.676</td>\n",
              "      <td>137.871</td>\n",
              "      <td>111.366</td>\n",
              "      <td>0.00997</td>\n",
              "      <td>0.00009</td>\n",
              "      <td>0.00502</td>\n",
              "      <td>0.00698</td>\n",
              "      <td>0.01505</td>\n",
              "      <td>0.05492</td>\n",
              "      <td>0.517</td>\n",
              "      <td>...</td>\n",
              "      <td>0.03772</td>\n",
              "      <td>0.08771</td>\n",
              "      <td>0.01353</td>\n",
              "      <td>20.644</td>\n",
              "      <td>0.434969</td>\n",
              "      <td>0.819235</td>\n",
              "      <td>-4.117501</td>\n",
              "      <td>0.334147</td>\n",
              "      <td>2.405554</td>\n",
              "      <td>0.368975</td>\n",
              "    </tr>\n",
              "    <tr>\n",
              "      <th>4</th>\n",
              "      <td>116.014</td>\n",
              "      <td>141.781</td>\n",
              "      <td>110.655</td>\n",
              "      <td>0.01284</td>\n",
              "      <td>0.00011</td>\n",
              "      <td>0.00655</td>\n",
              "      <td>0.00908</td>\n",
              "      <td>0.01966</td>\n",
              "      <td>0.06425</td>\n",
              "      <td>0.584</td>\n",
              "      <td>...</td>\n",
              "      <td>0.04465</td>\n",
              "      <td>0.10470</td>\n",
              "      <td>0.01767</td>\n",
              "      <td>19.649</td>\n",
              "      <td>0.417356</td>\n",
              "      <td>0.823484</td>\n",
              "      <td>-3.747787</td>\n",
              "      <td>0.234513</td>\n",
              "      <td>2.332180</td>\n",
              "      <td>0.410335</td>\n",
              "    </tr>\n",
              "    <tr>\n",
              "      <th>...</th>\n",
              "      <td>...</td>\n",
              "      <td>...</td>\n",
              "      <td>...</td>\n",
              "      <td>...</td>\n",
              "      <td>...</td>\n",
              "      <td>...</td>\n",
              "      <td>...</td>\n",
              "      <td>...</td>\n",
              "      <td>...</td>\n",
              "      <td>...</td>\n",
              "      <td>...</td>\n",
              "      <td>...</td>\n",
              "      <td>...</td>\n",
              "      <td>...</td>\n",
              "      <td>...</td>\n",
              "      <td>...</td>\n",
              "      <td>...</td>\n",
              "      <td>...</td>\n",
              "      <td>...</td>\n",
              "      <td>...</td>\n",
              "      <td>...</td>\n",
              "    </tr>\n",
              "    <tr>\n",
              "      <th>190</th>\n",
              "      <td>174.188</td>\n",
              "      <td>230.978</td>\n",
              "      <td>94.261</td>\n",
              "      <td>0.00459</td>\n",
              "      <td>0.00003</td>\n",
              "      <td>0.00263</td>\n",
              "      <td>0.00259</td>\n",
              "      <td>0.00790</td>\n",
              "      <td>0.04087</td>\n",
              "      <td>0.405</td>\n",
              "      <td>...</td>\n",
              "      <td>0.02745</td>\n",
              "      <td>0.07008</td>\n",
              "      <td>0.02764</td>\n",
              "      <td>19.517</td>\n",
              "      <td>0.448439</td>\n",
              "      <td>0.657899</td>\n",
              "      <td>-6.538586</td>\n",
              "      <td>0.121952</td>\n",
              "      <td>2.657476</td>\n",
              "      <td>0.133050</td>\n",
              "    </tr>\n",
              "    <tr>\n",
              "      <th>191</th>\n",
              "      <td>209.516</td>\n",
              "      <td>253.017</td>\n",
              "      <td>89.488</td>\n",
              "      <td>0.00564</td>\n",
              "      <td>0.00003</td>\n",
              "      <td>0.00331</td>\n",
              "      <td>0.00292</td>\n",
              "      <td>0.00994</td>\n",
              "      <td>0.02751</td>\n",
              "      <td>0.263</td>\n",
              "      <td>...</td>\n",
              "      <td>0.01879</td>\n",
              "      <td>0.04812</td>\n",
              "      <td>0.01810</td>\n",
              "      <td>19.147</td>\n",
              "      <td>0.431674</td>\n",
              "      <td>0.683244</td>\n",
              "      <td>-6.195325</td>\n",
              "      <td>0.129303</td>\n",
              "      <td>2.784312</td>\n",
              "      <td>0.168895</td>\n",
              "    </tr>\n",
              "    <tr>\n",
              "      <th>192</th>\n",
              "      <td>174.688</td>\n",
              "      <td>240.005</td>\n",
              "      <td>74.287</td>\n",
              "      <td>0.01360</td>\n",
              "      <td>0.00008</td>\n",
              "      <td>0.00624</td>\n",
              "      <td>0.00564</td>\n",
              "      <td>0.01873</td>\n",
              "      <td>0.02308</td>\n",
              "      <td>0.256</td>\n",
              "      <td>...</td>\n",
              "      <td>0.01667</td>\n",
              "      <td>0.03804</td>\n",
              "      <td>0.10715</td>\n",
              "      <td>17.883</td>\n",
              "      <td>0.407567</td>\n",
              "      <td>0.655683</td>\n",
              "      <td>-6.787197</td>\n",
              "      <td>0.158453</td>\n",
              "      <td>2.679772</td>\n",
              "      <td>0.131728</td>\n",
              "    </tr>\n",
              "    <tr>\n",
              "      <th>193</th>\n",
              "      <td>198.764</td>\n",
              "      <td>396.961</td>\n",
              "      <td>74.904</td>\n",
              "      <td>0.00740</td>\n",
              "      <td>0.00004</td>\n",
              "      <td>0.00370</td>\n",
              "      <td>0.00390</td>\n",
              "      <td>0.01109</td>\n",
              "      <td>0.02296</td>\n",
              "      <td>0.241</td>\n",
              "      <td>...</td>\n",
              "      <td>0.01588</td>\n",
              "      <td>0.03794</td>\n",
              "      <td>0.07223</td>\n",
              "      <td>19.020</td>\n",
              "      <td>0.451221</td>\n",
              "      <td>0.643956</td>\n",
              "      <td>-6.744577</td>\n",
              "      <td>0.207454</td>\n",
              "      <td>2.138608</td>\n",
              "      <td>0.123306</td>\n",
              "    </tr>\n",
              "    <tr>\n",
              "      <th>194</th>\n",
              "      <td>214.289</td>\n",
              "      <td>260.277</td>\n",
              "      <td>77.973</td>\n",
              "      <td>0.00567</td>\n",
              "      <td>0.00003</td>\n",
              "      <td>0.00295</td>\n",
              "      <td>0.00317</td>\n",
              "      <td>0.00885</td>\n",
              "      <td>0.01884</td>\n",
              "      <td>0.190</td>\n",
              "      <td>...</td>\n",
              "      <td>0.01373</td>\n",
              "      <td>0.03078</td>\n",
              "      <td>0.04398</td>\n",
              "      <td>21.209</td>\n",
              "      <td>0.462803</td>\n",
              "      <td>0.664357</td>\n",
              "      <td>-5.724056</td>\n",
              "      <td>0.190667</td>\n",
              "      <td>2.555477</td>\n",
              "      <td>0.148569</td>\n",
              "    </tr>\n",
              "  </tbody>\n",
              "</table>\n",
              "<p>195 rows × 22 columns</p>\n",
              "</div>\n",
              "      <button class=\"colab-df-convert\" onclick=\"convertToInteractive('df-5eef41c6-5b2b-4d2f-81a8-f18ca4c1abf1')\"\n",
              "              title=\"Convert this dataframe to an interactive table.\"\n",
              "              style=\"display:none;\">\n",
              "        \n",
              "  <svg xmlns=\"http://www.w3.org/2000/svg\" height=\"24px\"viewBox=\"0 0 24 24\"\n",
              "       width=\"24px\">\n",
              "    <path d=\"M0 0h24v24H0V0z\" fill=\"none\"/>\n",
              "    <path d=\"M18.56 5.44l.94 2.06.94-2.06 2.06-.94-2.06-.94-.94-2.06-.94 2.06-2.06.94zm-11 1L8.5 8.5l.94-2.06 2.06-.94-2.06-.94L8.5 2.5l-.94 2.06-2.06.94zm10 10l.94 2.06.94-2.06 2.06-.94-2.06-.94-.94-2.06-.94 2.06-2.06.94z\"/><path d=\"M17.41 7.96l-1.37-1.37c-.4-.4-.92-.59-1.43-.59-.52 0-1.04.2-1.43.59L10.3 9.45l-7.72 7.72c-.78.78-.78 2.05 0 2.83L4 21.41c.39.39.9.59 1.41.59.51 0 1.02-.2 1.41-.59l7.78-7.78 2.81-2.81c.8-.78.8-2.07 0-2.86zM5.41 20L4 18.59l7.72-7.72 1.47 1.35L5.41 20z\"/>\n",
              "  </svg>\n",
              "      </button>\n",
              "      \n",
              "  <style>\n",
              "    .colab-df-container {\n",
              "      display:flex;\n",
              "      flex-wrap:wrap;\n",
              "      gap: 12px;\n",
              "    }\n",
              "\n",
              "    .colab-df-convert {\n",
              "      background-color: #E8F0FE;\n",
              "      border: none;\n",
              "      border-radius: 50%;\n",
              "      cursor: pointer;\n",
              "      display: none;\n",
              "      fill: #1967D2;\n",
              "      height: 32px;\n",
              "      padding: 0 0 0 0;\n",
              "      width: 32px;\n",
              "    }\n",
              "\n",
              "    .colab-df-convert:hover {\n",
              "      background-color: #E2EBFA;\n",
              "      box-shadow: 0px 1px 2px rgba(60, 64, 67, 0.3), 0px 1px 3px 1px rgba(60, 64, 67, 0.15);\n",
              "      fill: #174EA6;\n",
              "    }\n",
              "\n",
              "    [theme=dark] .colab-df-convert {\n",
              "      background-color: #3B4455;\n",
              "      fill: #D2E3FC;\n",
              "    }\n",
              "\n",
              "    [theme=dark] .colab-df-convert:hover {\n",
              "      background-color: #434B5C;\n",
              "      box-shadow: 0px 1px 3px 1px rgba(0, 0, 0, 0.15);\n",
              "      filter: drop-shadow(0px 1px 2px rgba(0, 0, 0, 0.3));\n",
              "      fill: #FFFFFF;\n",
              "    }\n",
              "  </style>\n",
              "\n",
              "      <script>\n",
              "        const buttonEl =\n",
              "          document.querySelector('#df-5eef41c6-5b2b-4d2f-81a8-f18ca4c1abf1 button.colab-df-convert');\n",
              "        buttonEl.style.display =\n",
              "          google.colab.kernel.accessAllowed ? 'block' : 'none';\n",
              "\n",
              "        async function convertToInteractive(key) {\n",
              "          const element = document.querySelector('#df-5eef41c6-5b2b-4d2f-81a8-f18ca4c1abf1');\n",
              "          const dataTable =\n",
              "            await google.colab.kernel.invokeFunction('convertToInteractive',\n",
              "                                                     [key], {});\n",
              "          if (!dataTable) return;\n",
              "\n",
              "          const docLinkHtml = 'Like what you see? Visit the ' +\n",
              "            '<a target=\"_blank\" href=https://colab.research.google.com/notebooks/data_table.ipynb>data table notebook</a>'\n",
              "            + ' to learn more about interactive tables.';\n",
              "          element.innerHTML = '';\n",
              "          dataTable['output_type'] = 'display_data';\n",
              "          await google.colab.output.renderOutput(dataTable, element);\n",
              "          const docLink = document.createElement('div');\n",
              "          docLink.innerHTML = docLinkHtml;\n",
              "          element.appendChild(docLink);\n",
              "        }\n",
              "      </script>\n",
              "    </div>\n",
              "  </div>\n",
              "  "
            ]
          },
          "metadata": {},
          "execution_count": 17
        }
      ]
    },
    {
      "cell_type": "code",
      "source": [
        "Y=PD['status']"
      ],
      "metadata": {
        "id": "IT_m3UyTDF50"
      },
      "execution_count": 18,
      "outputs": []
    },
    {
      "cell_type": "code",
      "source": [
        "Y"
      ],
      "metadata": {
        "colab": {
          "base_uri": "https://localhost:8080/"
        },
        "id": "b725noTGDN-9",
        "outputId": "b511c5f5-33c6-42ec-c579-1ce0cc128d9f"
      },
      "execution_count": 19,
      "outputs": [
        {
          "output_type": "execute_result",
          "data": {
            "text/plain": [
              "0      1\n",
              "1      1\n",
              "2      1\n",
              "3      1\n",
              "4      1\n",
              "      ..\n",
              "190    0\n",
              "191    0\n",
              "192    0\n",
              "193    0\n",
              "194    0\n",
              "Name: status, Length: 195, dtype: int64"
            ]
          },
          "metadata": {},
          "execution_count": 19
        }
      ]
    },
    {
      "cell_type": "code",
      "source": [
        "from sklearn.preprocessing import StandardScaler"
      ],
      "metadata": {
        "id": "QyJDEM1xDZff"
      },
      "execution_count": 20,
      "outputs": []
    },
    {
      "cell_type": "code",
      "source": [
        "SC=StandardScaler()\n",
        "X=np.array(SC.fit_transform(X))"
      ],
      "metadata": {
        "id": "PsZ1oH93EdIN"
      },
      "execution_count": 21,
      "outputs": []
    },
    {
      "cell_type": "code",
      "source": [
        "X"
      ],
      "metadata": {
        "colab": {
          "base_uri": "https://localhost:8080/"
        },
        "id": "0qsobZiwGJk5",
        "outputId": "aaea1b0b-a71d-426b-c5ca-17b87053fd14"
      },
      "execution_count": 22,
      "outputs": [
        {
          "output_type": "execute_result",
          "data": {
            "text/plain": [
              "array([[-0.82929965, -0.43616456, -0.95203729, ...,  0.48047686,\n",
              "        -0.21053082,  0.86888575],\n",
              "       [-0.77097169, -0.53097409, -0.05772056, ...,  1.31118546,\n",
              "         0.27507712,  1.80360503],\n",
              "       [-0.90947638, -0.7231683 , -0.10987483, ...,  1.01768236,\n",
              "        -0.10362861,  1.40266141],\n",
              "       ...,\n",
              "       [ 0.49557839,  0.47010361, -0.96839309, ..., -0.81807931,\n",
              "         0.78033848, -0.83241014],\n",
              "       [ 1.07876114,  2.19004398, -0.95417967, ..., -0.22906571,\n",
              "        -0.63700298, -0.92610456],\n",
              "       [ 1.45481664,  0.69224632, -0.88348115, ..., -0.43085284,\n",
              "         0.45480231, -0.64505466]])"
            ]
          },
          "metadata": {},
          "execution_count": 22
        }
      ]
    },
    {
      "cell_type": "markdown",
      "source": [
        "TRAIN-TEST SPLIT"
      ],
      "metadata": {
        "id": "ezcTlL-uGe-2"
      }
    },
    {
      "cell_type": "code",
      "source": [
        "from sklearn.model_selection import train_test_split"
      ],
      "metadata": {
        "id": "WsfcTXn-G3t_"
      },
      "execution_count": 23,
      "outputs": []
    },
    {
      "cell_type": "code",
      "source": [
        "X_train, X_test, Y_train, Y_test = train_test_split(X, Y, test_size=0.2, random_state=10)"
      ],
      "metadata": {
        "id": "-gH6PbmoHMzs"
      },
      "execution_count": 24,
      "outputs": []
    },
    {
      "cell_type": "code",
      "source": [
        "print(X.shape, X_train.shape, X_test.shape)"
      ],
      "metadata": {
        "colab": {
          "base_uri": "https://localhost:8080/"
        },
        "id": "NYNNzHI3HfyM",
        "outputId": "a0964fb7-0cc8-4728-c03f-8f28e73a8d1a"
      },
      "execution_count": 25,
      "outputs": [
        {
          "output_type": "stream",
          "name": "stdout",
          "text": [
            "(195, 22) (156, 22) (39, 22)\n"
          ]
        }
      ]
    },
    {
      "cell_type": "code",
      "source": [
        "print(Y.shape,Y_test.shape,Y_train.shape)"
      ],
      "metadata": {
        "colab": {
          "base_uri": "https://localhost:8080/"
        },
        "id": "CXlxMVxvHsA8",
        "outputId": "fabcf06a-549a-4abd-832e-562453505092"
      },
      "execution_count": 26,
      "outputs": [
        {
          "output_type": "stream",
          "name": "stdout",
          "text": [
            "(195,) (39,) (156,)\n"
          ]
        }
      ]
    },
    {
      "cell_type": "code",
      "source": [
        "X_train=np.array(X_train)\n",
        "len(X_train)"
      ],
      "metadata": {
        "colab": {
          "base_uri": "https://localhost:8080/"
        },
        "id": "wWk-HwKJIMnO",
        "outputId": "117cf948-bd7f-4ade-8afb-897f045b719c"
      },
      "execution_count": 27,
      "outputs": [
        {
          "output_type": "execute_result",
          "data": {
            "text/plain": [
              "156"
            ]
          },
          "metadata": {},
          "execution_count": 27
        }
      ]
    },
    {
      "cell_type": "code",
      "source": [
        "Y_train=np.array(Y_train)\n",
        "len(Y_train)"
      ],
      "metadata": {
        "colab": {
          "base_uri": "https://localhost:8080/"
        },
        "id": "hOn4Zr3RIgZE",
        "outputId": "b93ddc9f-94fa-4299-89ab-e5f833913938"
      },
      "execution_count": 28,
      "outputs": [
        {
          "output_type": "execute_result",
          "data": {
            "text/plain": [
              "156"
            ]
          },
          "metadata": {},
          "execution_count": 28
        }
      ]
    },
    {
      "cell_type": "code",
      "source": [
        "X_test=np.array(X_test)\n",
        "len(X_test)"
      ],
      "metadata": {
        "colab": {
          "base_uri": "https://localhost:8080/"
        },
        "id": "WtfYmLHeInZb",
        "outputId": "4a5eccaf-878a-4d5d-86f7-66d6d7ed74ca"
      },
      "execution_count": 29,
      "outputs": [
        {
          "output_type": "execute_result",
          "data": {
            "text/plain": [
              "39"
            ]
          },
          "metadata": {},
          "execution_count": 29
        }
      ]
    },
    {
      "cell_type": "code",
      "source": [
        "Y_test=np.array(Y_test)\n",
        "len(Y_test)"
      ],
      "metadata": {
        "colab": {
          "base_uri": "https://localhost:8080/"
        },
        "id": "E16siuomIt8X",
        "outputId": "3e9a35ed-db4a-4fdb-a42f-b1ad5afb88e5"
      },
      "execution_count": 30,
      "outputs": [
        {
          "output_type": "execute_result",
          "data": {
            "text/plain": [
              "39"
            ]
          },
          "metadata": {},
          "execution_count": 30
        }
      ]
    },
    {
      "cell_type": "markdown",
      "source": [
        "Linear Regression Model"
      ],
      "metadata": {
        "id": "JQ0nY97hJPrb"
      }
    },
    {
      "cell_type": "code",
      "source": [
        "from sklearn.linear_model import LinearRegression\n",
        "Model_1=LinearRegression()"
      ],
      "metadata": {
        "id": "H50rvqEsJUTU"
      },
      "execution_count": 31,
      "outputs": []
    },
    {
      "cell_type": "code",
      "source": [
        "Model_1.fit(X_train,Y_train)"
      ],
      "metadata": {
        "colab": {
          "base_uri": "https://localhost:8080/"
        },
        "id": "P3J2Kd7jN68u",
        "outputId": "898625ce-d307-4d91-9439-8c45f50dde71"
      },
      "execution_count": 33,
      "outputs": [
        {
          "output_type": "execute_result",
          "data": {
            "text/plain": [
              "LinearRegression()"
            ]
          },
          "metadata": {},
          "execution_count": 33
        }
      ]
    },
    {
      "cell_type": "code",
      "source": [
        "Y_Predict_Model_1=Model_1.predict(X_test)\n",
        "Y_Predict_Model_1"
      ],
      "metadata": {
        "colab": {
          "base_uri": "https://localhost:8080/"
        },
        "id": "8EyjqOU9OWhb",
        "outputId": "78a6bf75-b6a7-4238-e339-79018794b7b9"
      },
      "execution_count": 34,
      "outputs": [
        {
          "output_type": "execute_result",
          "data": {
            "text/plain": [
              "array([0.51464502, 0.92291805, 1.08895196, 0.93072429, 0.39722818,\n",
              "       0.96450257, 0.51665718, 0.73428536, 0.96425774, 0.89648295,\n",
              "       0.54933081, 1.04009737, 1.02683814, 1.02090193, 0.52986194,\n",
              "       0.21476581, 1.07171961, 0.93419406, 0.55144217, 0.87538823,\n",
              "       1.17667136, 0.53241189, 0.40486539, 0.77032915, 0.94973256,\n",
              "       0.79196182, 0.95604616, 1.05056541, 0.02141046, 0.08635714,\n",
              "       0.86404109, 0.73424635, 1.07673007, 0.16402396, 0.26651789,\n",
              "       0.70248981, 0.5602687 , 0.96492844, 0.09659312])"
            ]
          },
          "metadata": {},
          "execution_count": 34
        }
      ]
    },
    {
      "cell_type": "code",
      "source": [
        "for i,j in enumerate(Y_Predict_Model_1):\n",
        "  if (j<0.5):\n",
        "    Y_Predict_Model_1[i]=0\n",
        "  else:\n",
        "   Y_Predict_Model_1[i]=1\n",
        "print(Y_Predict_Model_1)\n",
        "Y_Predict_Model_1.shape\n"
      ],
      "metadata": {
        "colab": {
          "base_uri": "https://localhost:8080/"
        },
        "id": "XrIXlxzhPM7D",
        "outputId": "14130f2f-9699-44ed-d860-06623b65ef65"
      },
      "execution_count": 35,
      "outputs": [
        {
          "output_type": "stream",
          "name": "stdout",
          "text": [
            "[1. 1. 1. 1. 0. 1. 1. 1. 1. 1. 1. 1. 1. 1. 1. 0. 1. 1. 1. 1. 1. 1. 0. 1.\n",
            " 1. 1. 1. 1. 0. 0. 1. 1. 1. 0. 0. 1. 1. 1. 0.]\n"
          ]
        },
        {
          "output_type": "execute_result",
          "data": {
            "text/plain": [
              "(39,)"
            ]
          },
          "metadata": {},
          "execution_count": 35
        }
      ]
    },
    {
      "cell_type": "code",
      "source": [
        "Y_test=np.array(Y_test)\n",
        "print(Y_test)\n",
        "Y_test.shape"
      ],
      "metadata": {
        "colab": {
          "base_uri": "https://localhost:8080/"
        },
        "id": "fg5fo6bbQTkF",
        "outputId": "abd72107-77e9-4b3b-9543-4f8144571bf9"
      },
      "execution_count": 36,
      "outputs": [
        {
          "output_type": "stream",
          "name": "stdout",
          "text": [
            "[1 1 1 1 0 1 0 1 1 1 1 1 1 1 1 0 1 1 1 1 1 0 0 1 1 1 1 1 0 0 1 1 1 0 0 1 0\n",
            " 1 0]\n"
          ]
        },
        {
          "output_type": "execute_result",
          "data": {
            "text/plain": [
              "(39,)"
            ]
          },
          "metadata": {},
          "execution_count": 36
        }
      ]
    },
    {
      "cell_type": "code",
      "source": [
        "print(\"X_test_array  Y_test\")\n",
        "for i,j in zip(Y_Predict_Model_1,Y_test):\n",
        "  print(i,\"          \",j)"
      ],
      "metadata": {
        "colab": {
          "base_uri": "https://localhost:8080/"
        },
        "id": "I4tEIK5VRqlJ",
        "outputId": "4b552ec2-8dfb-4490-dce9-8fc8136cd0b5"
      },
      "execution_count": 37,
      "outputs": [
        {
          "output_type": "stream",
          "name": "stdout",
          "text": [
            "X_test_array  Y_test\n",
            "1.0            1\n",
            "1.0            1\n",
            "1.0            1\n",
            "1.0            1\n",
            "0.0            0\n",
            "1.0            1\n",
            "1.0            0\n",
            "1.0            1\n",
            "1.0            1\n",
            "1.0            1\n",
            "1.0            1\n",
            "1.0            1\n",
            "1.0            1\n",
            "1.0            1\n",
            "1.0            1\n",
            "0.0            0\n",
            "1.0            1\n",
            "1.0            1\n",
            "1.0            1\n",
            "1.0            1\n",
            "1.0            1\n",
            "1.0            0\n",
            "0.0            0\n",
            "1.0            1\n",
            "1.0            1\n",
            "1.0            1\n",
            "1.0            1\n",
            "1.0            1\n",
            "0.0            0\n",
            "0.0            0\n",
            "1.0            1\n",
            "1.0            1\n",
            "1.0            1\n",
            "0.0            0\n",
            "0.0            0\n",
            "1.0            1\n",
            "1.0            0\n",
            "1.0            1\n",
            "0.0            0\n"
          ]
        }
      ]
    },
    {
      "cell_type": "code",
      "source": [
        "Accuracy=Model_1.score(X_test,Y_test)\n",
        "print(\"Linear Regression Model Accuracy:\",Accuracy)"
      ],
      "metadata": {
        "colab": {
          "base_uri": "https://localhost:8080/"
        },
        "id": "UBQ9bikdToj6",
        "outputId": "296135c4-dcc9-4259-f9d5-8109b159286f"
      },
      "execution_count": 38,
      "outputs": [
        {
          "output_type": "stream",
          "name": "stdout",
          "text": [
            "Linear Regression Model Accuracy: 0.6634994862742241\n"
          ]
        }
      ]
    },
    {
      "cell_type": "code",
      "source": [
        "Model_1.coef_"
      ],
      "metadata": {
        "colab": {
          "base_uri": "https://localhost:8080/"
        },
        "id": "Bu_O_QMHVdpK",
        "outputId": "f4f26cba-545b-4c8c-f810-23602d75727f"
      },
      "execution_count": 39,
      "outputs": [
        {
          "output_type": "execute_result",
          "data": {
            "text/plain": [
              "array([-1.04534118e-01, -8.64109626e-03, -8.47479945e-02, -8.42742504e-01,\n",
              "       -2.11212157e-01,  1.56884203e+01, -1.42137550e-01, -1.46054643e+01,\n",
              "        5.17532503e-01,  5.28230731e-02, -4.02387066e+01, -2.09417859e-01,\n",
              "       -7.79932356e-02,  4.00157133e+01, -9.44810447e-02, -4.34151524e-02,\n",
              "       -8.18391150e-02,  1.28448884e-02,  7.56285161e-02,  1.01698916e-01,\n",
              "        1.77072618e-02,  1.60954993e-01])"
            ]
          },
          "metadata": {},
          "execution_count": 39
        }
      ]
    },
    {
      "cell_type": "code",
      "source": [
        "Model_1.intercept_"
      ],
      "metadata": {
        "colab": {
          "base_uri": "https://localhost:8080/"
        },
        "id": "ZcpLK40TVh-8",
        "outputId": "0da8dc8d-2ef8-432e-eb5f-d372a36987fb"
      },
      "execution_count": 40,
      "outputs": [
        {
          "output_type": "execute_result",
          "data": {
            "text/plain": [
              "0.7534122263490167"
            ]
          },
          "metadata": {},
          "execution_count": 40
        }
      ]
    },
    {
      "cell_type": "code",
      "source": [
        "from sklearn.metrics import confusion_matrix\n",
        "import matplotlib.pyplot as plt\n"
      ],
      "metadata": {
        "id": "R-oRDxVkWOTT"
      },
      "execution_count": 45,
      "outputs": []
    },
    {
      "cell_type": "code",
      "source": [
        "CM=confusion_matrix(Y_test,Y_Predict_Model_1)\n",
        "import seaborn as sn\n",
        "plt.figure(figsize=(6,4))\n",
        "fg=sn.heatmap(CM,annot=True,cmap='Blues')\n",
        "figure=fg.get_figure()\n",
        "figure.savefig('LG.jpg',dpi=350)\n",
        "plt.xlabel(\"Predicted\")\n",
        "plt.ylabel(\"Actual\")\n",
        "plt.show()"
      ],
      "metadata": {
        "colab": {
          "base_uri": "https://localhost:8080/",
          "height": 279
        },
        "id": "-EpMwc5fXV7K",
        "outputId": "90da6413-a5dc-40d3-e8b6-52a49bcb0e30"
      },
      "execution_count": 44,
      "outputs": [
        {
          "output_type": "display_data",
          "data": {
            "text/plain": [
              "<Figure size 432x288 with 2 Axes>"
            ],
            "image/png": "[encoded data removed]"
          },
          "metadata": {
            "needs_background": "light"
          }
        }
      ]
    },
    {
      "cell_type": "markdown",
      "source": [
        "Logistic Regression Model"
      ],
      "metadata": {
        "id": "7k66aH0LcxtP"
      }
    },
    {
      "cell_type": "code",
      "source": [
        "from sklearn.linear_model import LogisticRegression\n"
      ],
      "metadata": {
        "id": "HB_Qpvizc2hS"
      },
      "execution_count": 46,
      "outputs": []
    },
    {
      "cell_type": "code",
      "source": [
        "Model_2=LogisticRegression()\n",
        "Model_2.fit(X_train,Y_train)"
      ],
      "metadata": {
        "colab": {
          "base_uri": "https://localhost:8080/"
        },
        "id": "Y9yDAklkdKIc",
        "outputId": "030169e6-ee29-40c9-c256-3b50bf0f02a1"
      },
      "execution_count": 47,
      "outputs": [
        {
          "output_type": "execute_result",
          "data": {
            "text/plain": [
              "LogisticRegression()"
            ]
          },
          "metadata": {},
          "execution_count": 47
        }
      ]
    },
    {
      "cell_type": "code",
      "source": [
        "Y_Predict_Model_2=Model_2.predict(X_test)\n",
        "Y_Predict_Model_2"
      ],
      "metadata": {
        "colab": {
          "base_uri": "https://localhost:8080/"
        },
        "id": "QL3_x0r8eNip",
        "outputId": "ed6e547a-048c-41b4-927c-93dc3f03cb33"
      },
      "execution_count": 48,
      "outputs": [
        {
          "output_type": "execute_result",
          "data": {
            "text/plain": [
              "array([1, 1, 1, 1, 0, 1, 0, 1, 1, 1, 1, 1, 1, 1, 1, 0, 1, 1, 0, 1, 1, 0,\n",
              "       0, 1, 1, 1, 1, 1, 0, 0, 1, 1, 1, 0, 0, 1, 0, 1, 0])"
            ]
          },
          "metadata": {},
          "execution_count": 48
        }
      ]
    },
    {
      "cell_type": "code",
      "source": [
        "Y_test"
      ],
      "metadata": {
        "colab": {
          "base_uri": "https://localhost:8080/"
        },
        "id": "6Ke4hYwFfYPi",
        "outputId": "9d8ed7bd-455c-4148-a659-284755ffe8b0"
      },
      "execution_count": 49,
      "outputs": [
        {
          "output_type": "execute_result",
          "data": {
            "text/plain": [
              "array([1, 1, 1, 1, 0, 1, 0, 1, 1, 1, 1, 1, 1, 1, 1, 0, 1, 1, 1, 1, 1, 0,\n",
              "       0, 1, 1, 1, 1, 1, 0, 0, 1, 1, 1, 0, 0, 1, 0, 1, 0])"
            ]
          },
          "metadata": {},
          "execution_count": 49
        }
      ]
    },
    {
      "cell_type": "code",
      "source": [
        "Accuracy_2=Model_2.score(X_test,Y_test)\n",
        "print(\"Logistic Regression Model Accuracy:\",Accuracy_2)"
      ],
      "metadata": {
        "colab": {
          "base_uri": "https://localhost:8080/"
        },
        "id": "UM7uwgh1flec",
        "outputId": "6cdc50c3-154c-4f63-bf8a-8ec24844dd81"
      },
      "execution_count": 50,
      "outputs": [
        {
          "output_type": "stream",
          "name": "stdout",
          "text": [
            "Logistic Regression Model Accuracy: 0.9743589743589743\n"
          ]
        }
      ]
    },
    {
      "cell_type": "code",
      "source": [
        "Model_2.predict_proba(X_test)"
      ],
      "metadata": {
        "colab": {
          "base_uri": "https://localhost:8080/"
        },
        "id": "U2dkwbuJfxip",
        "outputId": "b78da656-f66c-4084-c068-d052e293eb41"
      },
      "execution_count": 51,
      "outputs": [
        {
          "output_type": "execute_result",
          "data": {
            "text/plain": [
              "array([[6.04302356e-02, 9.39569764e-01],\n",
              "       [3.22125469e-03, 9.96778745e-01],\n",
              "       [1.50254202e-03, 9.98497458e-01],\n",
              "       [2.59753456e-02, 9.74024654e-01],\n",
              "       [5.76189480e-01, 4.23810520e-01],\n",
              "       [2.61914891e-03, 9.97380851e-01],\n",
              "       [7.34636224e-01, 2.65363776e-01],\n",
              "       [2.27997815e-02, 9.77200219e-01],\n",
              "       [1.53787217e-01, 8.46212783e-01],\n",
              "       [3.05365168e-03, 9.96946348e-01],\n",
              "       [4.45622835e-01, 5.54377165e-01],\n",
              "       [2.53908029e-02, 9.74609197e-01],\n",
              "       [7.04228379e-02, 9.29577162e-01],\n",
              "       [5.71461644e-02, 9.42853836e-01],\n",
              "       [2.57962987e-01, 7.42037013e-01],\n",
              "       [7.91088358e-01, 2.08911642e-01],\n",
              "       [7.27540850e-03, 9.92724592e-01],\n",
              "       [4.44811777e-02, 9.55518822e-01],\n",
              "       [5.88103262e-01, 4.11896738e-01],\n",
              "       [3.32999226e-03, 9.96670008e-01],\n",
              "       [2.44702351e-04, 9.99755298e-01],\n",
              "       [5.56339077e-01, 4.43660923e-01],\n",
              "       [6.99562434e-01, 3.00437566e-01],\n",
              "       [3.94903792e-02, 9.60509621e-01],\n",
              "       [4.36883644e-03, 9.95631164e-01],\n",
              "       [1.54327457e-01, 8.45672543e-01],\n",
              "       [1.64888962e-02, 9.83511104e-01],\n",
              "       [6.22560045e-04, 9.99377440e-01],\n",
              "       [9.07739647e-01, 9.22603532e-02],\n",
              "       [9.50248033e-01, 4.97519666e-02],\n",
              "       [4.25903823e-02, 9.57409618e-01],\n",
              "       [1.58446711e-01, 8.41553289e-01],\n",
              "       [4.40254150e-02, 9.55974585e-01],\n",
              "       [9.16494901e-01, 8.35050992e-02],\n",
              "       [7.27611002e-01, 2.72388998e-01],\n",
              "       [3.63898366e-01, 6.36101634e-01],\n",
              "       [6.55703453e-01, 3.44296547e-01],\n",
              "       [1.41646900e-02, 9.85835310e-01],\n",
              "       [8.52785824e-01, 1.47214176e-01]])"
            ]
          },
          "metadata": {},
          "execution_count": 51
        }
      ]
    },
    {
      "cell_type": "code",
      "source": [
        "CM=confusion_matrix(Y_test,Y_Predict_Model_2)\n",
        "plt.figure(figsize=(6,4))\n",
        "fg=sn.heatmap(CM,annot=True,cmap='Blues')\n",
        "figure=fg.get_figure()\n",
        "figure.savefig('LoGi.jpg',dpi=350)\n",
        "plt.xlabel(\"Predicted\")\n",
        "plt.ylabel(\"Actual\")\n",
        "plt.show()"
      ],
      "metadata": {
        "colab": {
          "base_uri": "https://localhost:8080/",
          "height": 279
        },
        "id": "l2iDJJyBf9ec",
        "outputId": "91751011-8d5e-4ad5-dcb2-a5a7f06356e0"
      },
      "execution_count": 52,
      "outputs": [
        {
          "output_type": "display_data",
          "data": {
            "text/plain": [
              "<Figure size 432x288 with 2 Axes>"
            ],
            "image/png": "[encoded data removed]"
          },
          "metadata": {
            "needs_background": "light"
          }
        }
      ]
    },
    {
      "cell_type": "markdown",
      "source": [
        "Decision Tree Model"
      ],
      "metadata": {
        "id": "AN_9ZaHMgnLH"
      }
    },
    {
      "cell_type": "code",
      "source": [
        "from sklearn import tree"
      ],
      "metadata": {
        "id": "QhdfpL_EiDay"
      },
      "execution_count": 53,
      "outputs": []
    },
    {
      "cell_type": "code",
      "source": [
        "Model_3=tree.DecisionTreeClassifier()\n",
        "Model_3.fit(X_train,Y_train)"
      ],
      "metadata": {
        "colab": {
          "base_uri": "https://localhost:8080/"
        },
        "id": "C6YPffOAifUw",
        "outputId": "5939b02b-dbab-4bdc-8dc5-fd155464d62f"
      },
      "execution_count": 54,
      "outputs": [
        {
          "output_type": "execute_result",
          "data": {
            "text/plain": [
              "DecisionTreeClassifier()"
            ]
          },
          "metadata": {},
          "execution_count": 54
        }
      ]
    },
    {
      "cell_type": "code",
      "source": [
        "Y_Predict_Model_3=Model_3.predict(X_test)\n",
        "Y_Predict_Model_3"
      ],
      "metadata": {
        "colab": {
          "base_uri": "https://localhost:8080/"
        },
        "id": "uswvR4zmjMWw",
        "outputId": "f4304b2a-6b25-4329-ea78-8d9a3ef0b5d6"
      },
      "execution_count": 55,
      "outputs": [
        {
          "output_type": "execute_result",
          "data": {
            "text/plain": [
              "array([1, 1, 1, 1, 1, 1, 0, 1, 1, 1, 1, 1, 1, 1, 1, 0, 1, 1, 1, 1, 1, 0,\n",
              "       0, 0, 1, 1, 1, 1, 1, 0, 1, 1, 1, 0, 0, 1, 0, 1, 0])"
            ]
          },
          "metadata": {},
          "execution_count": 55
        }
      ]
    },
    {
      "cell_type": "code",
      "source": [
        "Y_test"
      ],
      "metadata": {
        "colab": {
          "base_uri": "https://localhost:8080/"
        },
        "id": "ZMTSsji4jkOR",
        "outputId": "50cb214a-9ebd-4bf7-a76b-47d6ba60abcd"
      },
      "execution_count": 56,
      "outputs": [
        {
          "output_type": "execute_result",
          "data": {
            "text/plain": [
              "array([1, 1, 1, 1, 0, 1, 0, 1, 1, 1, 1, 1, 1, 1, 1, 0, 1, 1, 1, 1, 1, 0,\n",
              "       0, 1, 1, 1, 1, 1, 0, 0, 1, 1, 1, 0, 0, 1, 0, 1, 0])"
            ]
          },
          "metadata": {},
          "execution_count": 56
        }
      ]
    },
    {
      "cell_type": "code",
      "source": [
        "Accuracy_3=Model_3.score(X_test,Y_test)\n",
        "print(\"Decision Tree Model Accuracy:\",Accuracy_3)"
      ],
      "metadata": {
        "colab": {
          "base_uri": "https://localhost:8080/"
        },
        "id": "vK_GHLmjjwUw",
        "outputId": "2ec6065a-4f5c-4d5f-8c42-a2913062ba23"
      },
      "execution_count": 57,
      "outputs": [
        {
          "output_type": "stream",
          "name": "stdout",
          "text": [
            "Decision Tree Model Accuracy: 0.9230769230769231\n"
          ]
        }
      ]
    },
    {
      "cell_type": "code",
      "source": [
        "CM=confusion_matrix(Y_test,Y_Predict_Model_3)\n",
        "plt.figure(figsize=(6,4))\n",
        "fg=sn.heatmap(CM,annot=True,cmap='Blues')\n",
        "figure=fg.get_figure()\n",
        "figure.savefig('DTM.jpg',dpi=350)\n",
        "plt.xlabel(\"Predicted\")\n",
        "plt.ylabel(\"Actual\")\n",
        "plt.show()"
      ],
      "metadata": {
        "colab": {
          "base_uri": "https://localhost:8080/",
          "height": 279
        },
        "id": "R7gsZrKZj4uh",
        "outputId": "466ff747-1b6c-48f5-fb79-ce429326529f"
      },
      "execution_count": 58,
      "outputs": [
        {
          "output_type": "display_data",
          "data": {
            "text/plain": [
              "<Figure size 432x288 with 2 Axes>"
            ],
            "image/png": "[encoded data removed]"
          },
          "metadata": {
            "needs_background": "light"
          }
        }
      ]
    },
    {
      "cell_type": "markdown",
      "source": [
        "Support Vector Machines"
      ],
      "metadata": {
        "id": "eLsxi6rRkS6W"
      }
    },
    {
      "cell_type": "code",
      "source": [
        "from sklearn.svm import SVC"
      ],
      "metadata": {
        "id": "cLVfqBxukXC0"
      },
      "execution_count": 59,
      "outputs": []
    },
    {
      "cell_type": "code",
      "source": [
        "Model_4=SVC(C=8)\n",
        "Model_4.fit(X_train,Y_train)"
      ],
      "metadata": {
        "id": "rrlmWX1Skqp4",
        "colab": {
          "base_uri": "https://localhost:8080/"
        },
        "outputId": "7c16d1a5-8b38-4f31-f592-cdb73c528e12"
      },
      "execution_count": 60,
      "outputs": [
        {
          "output_type": "execute_result",
          "data": {
            "text/plain": [
              "SVC(C=8)"
            ]
          },
          "metadata": {},
          "execution_count": 60
        }
      ]
    },
    {
      "cell_type": "code",
      "source": [
        "Accuracy_4=Model_4.score(X_test,Y_test)\n",
        "print(\"SVM Accuracy:\",Accuracy_4)"
      ],
      "metadata": {
        "colab": {
          "base_uri": "https://localhost:8080/"
        },
        "id": "6whiBi2YlTwX",
        "outputId": "1c08ab45-c0bc-4c14-8228-7e4f02809b1d"
      },
      "execution_count": 61,
      "outputs": [
        {
          "output_type": "stream",
          "name": "stdout",
          "text": [
            "SVM Accuracy: 1.0\n"
          ]
        }
      ]
    },
    {
      "cell_type": "code",
      "source": [
        "Y_Predict_Model_4=Model_4.predict(X_test)\n",
        "Y_Predict_Model_4"
      ],
      "metadata": {
        "colab": {
          "base_uri": "https://localhost:8080/"
        },
        "id": "W8MdzAfLlnOI",
        "outputId": "ba77f01d-3b84-4274-fd10-fee40d641eac"
      },
      "execution_count": 62,
      "outputs": [
        {
          "output_type": "execute_result",
          "data": {
            "text/plain": [
              "array([1, 1, 1, 1, 0, 1, 0, 1, 1, 1, 1, 1, 1, 1, 1, 0, 1, 1, 1, 1, 1, 0,\n",
              "       0, 1, 1, 1, 1, 1, 0, 0, 1, 1, 1, 0, 0, 1, 0, 1, 0])"
            ]
          },
          "metadata": {},
          "execution_count": 62
        }
      ]
    },
    {
      "cell_type": "code",
      "source": [
        "CM=confusion_matrix(Y_test,Y_Predict_Model_4)\n",
        "plt.figure(figsize=(6,4))\n",
        "fg=sn.heatmap(CM,annot=True,cmap='Blues')\n",
        "figure=fg.get_figure()\n",
        "figure.savefig('SVM.jpg',dpi=350)\n",
        "plt.xlabel(\"Predicted\")\n",
        "plt.ylabel(\"Actual\")\n",
        "plt.show()"
      ],
      "metadata": {
        "colab": {
          "base_uri": "https://localhost:8080/",
          "height": 279
        },
        "id": "co_Cb6izlq3b",
        "outputId": "f9711ed1-2483-45f0-c298-8b4407916eae"
      },
      "execution_count": 63,
      "outputs": [
        {
          "output_type": "display_data",
          "data": {
            "text/plain": [
              "<Figure size 432x288 with 2 Axes>"
            ],
            "image/png": "[encoded data removed]"
          },
          "metadata": {
            "needs_background": "light"
          }
        }
      ]
    },
    {
      "cell_type": "markdown",
      "source": [
        "Random Forest Classifier"
      ],
      "metadata": {
        "id": "WA33NFZEl7Ql"
      }
    },
    {
      "cell_type": "code",
      "source": [
        "from sklearn.ensemble import RandomForestClassifier\n",
        "Model_5=RandomForestClassifier()"
      ],
      "metadata": {
        "id": "mV-y8fGel6-h"
      },
      "execution_count": 64,
      "outputs": []
    },
    {
      "cell_type": "code",
      "source": [
        "Model_5.fit(X_train,Y_train)"
      ],
      "metadata": {
        "colab": {
          "base_uri": "https://localhost:8080/"
        },
        "id": "5qkFnk4Wn0to",
        "outputId": "67bd9b27-8494-4cf2-c51a-a5dd8c1da5f8"
      },
      "execution_count": 65,
      "outputs": [
        {
          "output_type": "execute_result",
          "data": {
            "text/plain": [
              "RandomForestClassifier()"
            ]
          },
          "metadata": {},
          "execution_count": 65
        }
      ]
    },
    {
      "cell_type": "code",
      "source": [
        "Accuracy_5=Model_5.score(X_test,Y_test)\n",
        "print(\"Random Forest Classifier Accuracy:\",Accuracy_5)"
      ],
      "metadata": {
        "colab": {
          "base_uri": "https://localhost:8080/"
        },
        "id": "zbnpelz2oFtm",
        "outputId": "366c247d-c88a-4af0-85ac-dbb554fafb67"
      },
      "execution_count": 66,
      "outputs": [
        {
          "output_type": "stream",
          "name": "stdout",
          "text": [
            "Random Forest Classifier Accuracy: 0.9487179487179487\n"
          ]
        }
      ]
    },
    {
      "cell_type": "code",
      "source": [
        "Y_Predict_Model_5=Model_5.predict(X_test)\n",
        "Y_Predict_Model_5"
      ],
      "metadata": {
        "colab": {
          "base_uri": "https://localhost:8080/"
        },
        "id": "LBZwCE9So4nS",
        "outputId": "574e9dea-5912-4e9c-cabe-b34aeb9fd755"
      },
      "execution_count": 67,
      "outputs": [
        {
          "output_type": "execute_result",
          "data": {
            "text/plain": [
              "array([1, 1, 1, 1, 0, 1, 1, 1, 1, 1, 0, 1, 1, 1, 1, 0, 1, 1, 1, 1, 1, 0,\n",
              "       0, 1, 1, 1, 1, 1, 0, 0, 1, 1, 1, 0, 0, 1, 0, 1, 0])"
            ]
          },
          "metadata": {},
          "execution_count": 67
        }
      ]
    },
    {
      "cell_type": "code",
      "source": [
        "Y_test"
      ],
      "metadata": {
        "colab": {
          "base_uri": "https://localhost:8080/"
        },
        "id": "oECcSP_xo_x2",
        "outputId": "4a6e20a7-f2a2-48cb-f8a4-6a913712ede5"
      },
      "execution_count": 68,
      "outputs": [
        {
          "output_type": "execute_result",
          "data": {
            "text/plain": [
              "array([1, 1, 1, 1, 0, 1, 0, 1, 1, 1, 1, 1, 1, 1, 1, 0, 1, 1, 1, 1, 1, 0,\n",
              "       0, 1, 1, 1, 1, 1, 0, 0, 1, 1, 1, 0, 0, 1, 0, 1, 0])"
            ]
          },
          "metadata": {},
          "execution_count": 68
        }
      ]
    },
    {
      "cell_type": "code",
      "source": [
        "CM=confusion_matrix(Y_test,Y_Predict_Model_5)\n",
        "plt.figure(figsize=(6,4))\n",
        "fg=sn.heatmap(CM,annot=True,cmap='Blues')\n",
        "figure=fg.get_figure()\n",
        "figure.savefig('RanFor.jpg',dpi=350)\n",
        "plt.xlabel(\"Predicted\")\n",
        "plt.ylabel(\"Actual\")\n",
        "plt.show()"
      ],
      "metadata": {
        "colab": {
          "base_uri": "https://localhost:8080/",
          "height": 279
        },
        "id": "PI6l5bVIpEUq",
        "outputId": "65af335a-2297-4e05-97d6-db688b0d7d86"
      },
      "execution_count": 69,
      "outputs": [
        {
          "output_type": "display_data",
          "data": {
            "text/plain": [
              "<Figure size 432x288 with 2 Axes>"
            ],
            "image/png": "[encoded data removed]"
          },
          "metadata": {
            "needs_background": "light"
          }
        }
      ]
    },
    {
      "cell_type": "markdown",
      "source": [
        "XGBooster"
      ],
      "metadata": {
        "id": "uz0H8-0Up0HW"
      }
    },
    {
      "cell_type": "code",
      "source": [
        "from xgboost import XGBClassifier"
      ],
      "metadata": {
        "id": "-a9Z-IYlqoKi"
      },
      "execution_count": 70,
      "outputs": []
    },
    {
      "cell_type": "code",
      "source": [
        "Model_6=XGBClassifier()"
      ],
      "metadata": {
        "id": "TjtsOLQ2qy8e"
      },
      "execution_count": 72,
      "outputs": []
    },
    {
      "cell_type": "code",
      "source": [
        "Model_6.fit(X_train,Y_train)"
      ],
      "metadata": {
        "colab": {
          "base_uri": "https://localhost:8080/"
        },
        "id": "GQuKcXYHr1cf",
        "outputId": "68ae8129-3c03-4c56-b032-8cb139a0580b"
      },
      "execution_count": 73,
      "outputs": [
        {
          "output_type": "execute_result",
          "data": {
            "text/plain": [
              "XGBClassifier()"
            ]
          },
          "metadata": {},
          "execution_count": 73
        }
      ]
    },
    {
      "cell_type": "code",
      "source": [
        "Accuracy_6=Model_6.score(X_test,Y_test)\n",
        "print(\"Random Forest Classifier Accuracy:\",Accuracy_6)"
      ],
      "metadata": {
        "colab": {
          "base_uri": "https://localhost:8080/"
        },
        "id": "YBcFYUu5sMl3",
        "outputId": "fb7c9b6b-01e4-4ed3-e16f-7cf979bac866"
      },
      "execution_count": 74,
      "outputs": [
        {
          "output_type": "stream",
          "name": "stdout",
          "text": [
            "Random Forest Classifier Accuracy: 1.0\n"
          ]
        }
      ]
    },
    {
      "cell_type": "code",
      "source": [
        "Y_Predict_Model_6=Model_6.predict(X_test)\n",
        "Y_Predict_Model_6"
      ],
      "metadata": {
        "colab": {
          "base_uri": "https://localhost:8080/"
        },
        "id": "GI-JHmFnsVCY",
        "outputId": "17a4e5e8-210e-4c8f-a8ee-899a5df02563"
      },
      "execution_count": 75,
      "outputs": [
        {
          "output_type": "execute_result",
          "data": {
            "text/plain": [
              "array([1, 1, 1, 1, 0, 1, 0, 1, 1, 1, 1, 1, 1, 1, 1, 0, 1, 1, 1, 1, 1, 0,\n",
              "       0, 1, 1, 1, 1, 1, 0, 0, 1, 1, 1, 0, 0, 1, 0, 1, 0])"
            ]
          },
          "metadata": {},
          "execution_count": 75
        }
      ]
    },
    {
      "cell_type": "code",
      "source": [
        "Y_test"
      ],
      "metadata": {
        "colab": {
          "base_uri": "https://localhost:8080/"
        },
        "id": "1SEJArA2saZ3",
        "outputId": "e002a436-9568-4c3e-ff88-d1db027bb45d"
      },
      "execution_count": 76,
      "outputs": [
        {
          "output_type": "execute_result",
          "data": {
            "text/plain": [
              "array([1, 1, 1, 1, 0, 1, 0, 1, 1, 1, 1, 1, 1, 1, 1, 0, 1, 1, 1, 1, 1, 0,\n",
              "       0, 1, 1, 1, 1, 1, 0, 0, 1, 1, 1, 0, 0, 1, 0, 1, 0])"
            ]
          },
          "metadata": {},
          "execution_count": 76
        }
      ]
    },
    {
      "cell_type": "code",
      "source": [
        "CM=confusion_matrix(Y_test,Y_Predict_Model_6)\n",
        "plt.figure(figsize=(6,4))\n",
        "fg=sn.heatmap(CM,annot=True,cmap='Blues')\n",
        "figure=fg.get_figure()\n",
        "figure.savefig('XGB.jpg',dpi=350)\n",
        "plt.xlabel(\"Predicted\")\n",
        "plt.ylabel(\"Actual\")\n",
        "plt.show()"
      ],
      "metadata": {
        "colab": {
          "base_uri": "https://localhost:8080/",
          "height": 279
        },
        "id": "kdxGndzxsiMa",
        "outputId": "7c242a5a-451e-4f64-dbac-adc02f4d5bcf"
      },
      "execution_count": 77,
      "outputs": [
        {
          "output_type": "display_data",
          "data": {
            "text/plain": [
              "<Figure size 432x288 with 2 Axes>"
            ],
            "image/png": "[encoded data removed]"
          },
          "metadata": {
            "needs_background": "light"
          }
        }
      ]
    },
    {
      "cell_type": "markdown",
      "source": [
        "Neural Network"
      ],
      "metadata": {
        "id": "6AZZQh9hs330"
      }
    },
    {
      "cell_type": "code",
      "source": [
        "import tensorflow\n",
        "import keras\n",
        "from keras.layers import Dense"
      ],
      "metadata": {
        "id": "EvhTk4tEtEPv"
      },
      "execution_count": 78,
      "outputs": []
    },
    {
      "cell_type": "code",
      "source": [
        "Model_7=keras.Sequential()\n",
        "Model_7.add(Dense(1,input_dim=22,activation='sigmoid'))\n",
        "Model_7.add(Dense(20,activation='sigmoid'))\n",
        "Model_7.add(Dense(12,activation='sigmoid'))\n",
        "Model_7.add(Dense(9,activation='sigmoid'))\n",
        "Model_7.add(Dense(5,activation='sigmoid'))\n",
        "Model_7.add(Dense(1,activation='sigmoid'))\n",
        "Model_7.compile(optimizer='adam',loss='binary_crossentropy',metrics=['accuracy'])\n",
        "Model_7.fit(X_train,Y_train,epochs=1000)"
      ],
      "metadata": {
        "colab": {
          "base_uri": "https://localhost:8080/"
        },
        "id": "t4iuqBThtqF5",
        "outputId": "2c64b6f9-a678-49d4-effd-e502d13e72e9"
      },
      "execution_count": 79,
      "outputs": [
        {
          "output_type": "stream",
          "name": "stdout",
          "text": [
            "Epoch 1/1000\n",
            "5/5 [==============================] - 1s 4ms/step - loss: 0.7430 - accuracy: 0.2372\n",
            "Epoch 2/1000\n",
            "5/5 [==============================] - 0s 4ms/step - loss: 0.7331 - accuracy: 0.2372\n",
            "Epoch 3/1000\n",
            "5/5 [==============================] - 0s 3ms/step - loss: 0.7232 - accuracy: 0.2372\n",
            "Epoch 4/1000\n",
            "5/5 [==============================] - 0s 3ms/step - loss: 0.7131 - accuracy: 0.2372\n",
            "Epoch 5/1000\n",
            "5/5 [==============================] - 0s 3ms/step - loss: 0.7038 - accuracy: 0.2372\n",
            "Epoch 6/1000\n",
            "5/5 [==============================] - 0s 4ms/step - loss: 0.6949 - accuracy: 0.3397\n",
            "Epoch 7/1000\n",
            "5/5 [==============================] - 0s 4ms/step - loss: 0.6870 - accuracy: 0.7628\n",
            "Epoch 8/1000\n",
            "5/5 [==============================] - 0s 3ms/step - loss: 0.6781 - accuracy: 0.7628\n",
            "Epoch 9/1000\n",
            "5/5 [==============================] - 0s 3ms/step - loss: 0.6700 - accuracy: 0.7628\n",
            "Epoch 10/1000\n",
            "5/5 [==============================] - 0s 4ms/step - loss: 0.6622 - accuracy: 0.7628\n",
            "Epoch 11/1000\n",
            "5/5 [==============================] - 0s 6ms/step - loss: 0.6555 - accuracy: 0.7628\n",
            "Epoch 12/1000\n",
            "5/5 [==============================] - 0s 5ms/step - loss: 0.6483 - accuracy: 0.7628\n",
            "Epoch 13/1000\n",
            "5/5 [==============================] - 0s 7ms/step - loss: 0.6421 - accuracy: 0.7628\n",
            "Epoch 14/1000\n",
            "5/5 [==============================] - 0s 4ms/step - loss: 0.6357 - accuracy: 0.7628\n",
            "Epoch 15/1000\n",
            "5/5 [==============================] - 0s 4ms/step - loss: 0.6295 - accuracy: 0.7628\n",
            "Epoch 16/1000\n",
            "5/5 [==============================] - 0s 4ms/step - loss: 0.6237 - accuracy: 0.7628\n",
            "Epoch 17/1000\n",
            "5/5 [==============================] - 0s 4ms/step - loss: 0.6185 - accuracy: 0.7628\n",
            "Epoch 18/1000\n",
            "5/5 [==============================] - 0s 4ms/step - loss: 0.6134 - accuracy: 0.7628\n",
            "Epoch 19/1000\n",
            "5/5 [==============================] - 0s 5ms/step - loss: 0.6088 - accuracy: 0.7628\n",
            "Epoch 20/1000\n",
            "5/5 [==============================] - 0s 4ms/step - loss: 0.6041 - accuracy: 0.7628\n",
            "Epoch 21/1000\n",
            "5/5 [==============================] - 0s 6ms/step - loss: 0.5994 - accuracy: 0.7628\n",
            "Epoch 22/1000\n",
            "5/5 [==============================] - 0s 6ms/step - loss: 0.5957 - accuracy: 0.7628\n",
            "Epoch 23/1000\n",
            "5/5 [==============================] - 0s 5ms/step - loss: 0.5923 - accuracy: 0.7628\n",
            "Epoch 24/1000\n",
            "5/5 [==============================] - 0s 6ms/step - loss: 0.5887 - accuracy: 0.7628\n",
            "Epoch 25/1000\n",
            "5/5 [==============================] - 0s 5ms/step - loss: 0.5857 - accuracy: 0.7628\n",
            "Epoch 26/1000\n",
            "5/5 [==============================] - 0s 5ms/step - loss: 0.5825 - accuracy: 0.7628\n",
            "Epoch 27/1000\n",
            "5/5 [==============================] - 0s 6ms/step - loss: 0.5794 - accuracy: 0.7628\n",
            "Epoch 28/1000\n",
            "5/5 [==============================] - 0s 5ms/step - loss: 0.5772 - accuracy: 0.7628\n",
            "Epoch 29/1000\n",
            "5/5 [==============================] - 0s 5ms/step - loss: 0.5743 - accuracy: 0.7628\n",
            "Epoch 30/1000\n",
            "5/5 [==============================] - 0s 5ms/step - loss: 0.5725 - accuracy: 0.7628\n",
            "Epoch 31/1000\n",
            "5/5 [==============================] - 0s 6ms/step - loss: 0.5700 - accuracy: 0.7628\n",
            "Epoch 32/1000\n",
            "5/5 [==============================] - 0s 6ms/step - loss: 0.5684 - accuracy: 0.7628\n",
            "Epoch 33/1000\n",
            "5/5 [==============================] - 0s 5ms/step - loss: 0.5664 - accuracy: 0.7628\n",
            "Epoch 34/1000\n",
            "5/5 [==============================] - 0s 5ms/step - loss: 0.5651 - accuracy: 0.7628\n",
            "Epoch 35/1000\n",
            "5/5 [==============================] - 0s 4ms/step - loss: 0.5634 - accuracy: 0.7628\n",
            "Epoch 36/1000\n",
            "5/5 [==============================] - 0s 5ms/step - loss: 0.5619 - accuracy: 0.7628\n",
            "Epoch 37/1000\n",
            "5/5 [==============================] - 0s 5ms/step - loss: 0.5606 - accuracy: 0.7628\n",
            "Epoch 38/1000\n",
            "5/5 [==============================] - 0s 4ms/step - loss: 0.5594 - accuracy: 0.7628\n",
            "Epoch 39/1000\n",
            "5/5 [==============================] - 0s 4ms/step - loss: 0.5587 - accuracy: 0.7628\n",
            "Epoch 40/1000\n",
            "5/5 [==============================] - 0s 5ms/step - loss: 0.5577 - accuracy: 0.7628\n",
            "Epoch 41/1000\n",
            "5/5 [==============================] - 0s 7ms/step - loss: 0.5567 - accuracy: 0.7628\n",
            "Epoch 42/1000\n",
            "5/5 [==============================] - 0s 5ms/step - loss: 0.5556 - accuracy: 0.7628\n",
            "Epoch 43/1000\n",
            "5/5 [==============================] - 0s 5ms/step - loss: 0.5548 - accuracy: 0.7628\n",
            "Epoch 44/1000\n",
            "5/5 [==============================] - 0s 5ms/step - loss: 0.5543 - accuracy: 0.7628\n",
            "Epoch 45/1000\n",
            "5/5 [==============================] - 0s 4ms/step - loss: 0.5537 - accuracy: 0.7628\n",
            "Epoch 46/1000\n",
            "5/5 [==============================] - 0s 4ms/step - loss: 0.5532 - accuracy: 0.7628\n",
            "Epoch 47/1000\n",
            "5/5 [==============================] - 0s 5ms/step - loss: 0.5526 - accuracy: 0.7628\n",
            "Epoch 48/1000\n",
            "5/5 [==============================] - 0s 4ms/step - loss: 0.5521 - accuracy: 0.7628\n",
            "Epoch 49/1000\n",
            "5/5 [==============================] - 0s 4ms/step - loss: 0.5515 - accuracy: 0.7628\n",
            "Epoch 50/1000\n",
            "5/5 [==============================] - 0s 5ms/step - loss: 0.5513 - accuracy: 0.7628\n",
            "Epoch 51/1000\n",
            "5/5 [==============================] - 0s 5ms/step - loss: 0.5510 - accuracy: 0.7628\n",
            "Epoch 52/1000\n",
            "5/5 [==============================] - 0s 5ms/step - loss: 0.5506 - accuracy: 0.7628\n",
            "Epoch 53/1000\n",
            "5/5 [==============================] - 0s 4ms/step - loss: 0.5504 - accuracy: 0.7628\n",
            "Epoch 54/1000\n",
            "5/5 [==============================] - 0s 4ms/step - loss: 0.5499 - accuracy: 0.7628\n",
            "Epoch 55/1000\n",
            "5/5 [==============================] - 0s 4ms/step - loss: 0.5497 - accuracy: 0.7628\n",
            "Epoch 56/1000\n",
            "5/5 [==============================] - 0s 5ms/step - loss: 0.5495 - accuracy: 0.7628\n",
            "Epoch 57/1000\n",
            "5/5 [==============================] - 0s 5ms/step - loss: 0.5493 - accuracy: 0.7628\n",
            "Epoch 58/1000\n",
            "5/5 [==============================] - 0s 5ms/step - loss: 0.5491 - accuracy: 0.7628\n",
            "Epoch 59/1000\n",
            "5/5 [==============================] - 0s 5ms/step - loss: 0.5490 - accuracy: 0.7628\n",
            "Epoch 60/1000\n",
            "5/5 [==============================] - 0s 5ms/step - loss: 0.5488 - accuracy: 0.7628\n",
            "Epoch 61/1000\n",
            "5/5 [==============================] - 0s 4ms/step - loss: 0.5487 - accuracy: 0.7628\n",
            "Epoch 62/1000\n",
            "5/5 [==============================] - 0s 5ms/step - loss: 0.5485 - accuracy: 0.7628\n",
            "Epoch 63/1000\n",
            "5/5 [==============================] - 0s 4ms/step - loss: 0.5485 - accuracy: 0.7628\n",
            "Epoch 64/1000\n",
            "5/5 [==============================] - 0s 4ms/step - loss: 0.5484 - accuracy: 0.7628\n",
            "Epoch 65/1000\n",
            "5/5 [==============================] - 0s 4ms/step - loss: 0.5483 - accuracy: 0.7628\n",
            "Epoch 66/1000\n",
            "5/5 [==============================] - 0s 5ms/step - loss: 0.5482 - accuracy: 0.7628\n",
            "Epoch 67/1000\n",
            "5/5 [==============================] - 0s 4ms/step - loss: 0.5482 - accuracy: 0.7628\n",
            "Epoch 68/1000\n",
            "5/5 [==============================] - 0s 4ms/step - loss: 0.5481 - accuracy: 0.7628\n",
            "Epoch 69/1000\n",
            "5/5 [==============================] - 0s 4ms/step - loss: 0.5480 - accuracy: 0.7628\n",
            "Epoch 70/1000\n",
            "5/5 [==============================] - 0s 4ms/step - loss: 0.5481 - accuracy: 0.7628\n",
            "Epoch 71/1000\n",
            "5/5 [==============================] - 0s 3ms/step - loss: 0.5480 - accuracy: 0.7628\n",
            "Epoch 72/1000\n",
            "5/5 [==============================] - 0s 3ms/step - loss: 0.5479 - accuracy: 0.7628\n",
            "Epoch 73/1000\n",
            "5/5 [==============================] - 0s 6ms/step - loss: 0.5479 - accuracy: 0.7628\n",
            "Epoch 74/1000\n",
            "5/5 [==============================] - 0s 4ms/step - loss: 0.5479 - accuracy: 0.7628\n",
            "Epoch 75/1000\n",
            "5/5 [==============================] - 0s 4ms/step - loss: 0.5478 - accuracy: 0.7628\n",
            "Epoch 76/1000\n",
            "5/5 [==============================] - 0s 3ms/step - loss: 0.5479 - accuracy: 0.7628\n",
            "Epoch 77/1000\n",
            "5/5 [==============================] - 0s 3ms/step - loss: 0.5478 - accuracy: 0.7628\n",
            "Epoch 78/1000\n",
            "5/5 [==============================] - 0s 3ms/step - loss: 0.5477 - accuracy: 0.7628\n",
            "Epoch 79/1000\n",
            "5/5 [==============================] - 0s 4ms/step - loss: 0.5478 - accuracy: 0.7628\n",
            "Epoch 80/1000\n",
            "5/5 [==============================] - 0s 4ms/step - loss: 0.5477 - accuracy: 0.7628\n",
            "Epoch 81/1000\n",
            "5/5 [==============================] - 0s 3ms/step - loss: 0.5477 - accuracy: 0.7628\n",
            "Epoch 82/1000\n",
            "5/5 [==============================] - 0s 3ms/step - loss: 0.5477 - accuracy: 0.7628\n",
            "Epoch 83/1000\n",
            "5/5 [==============================] - 0s 3ms/step - loss: 0.5477 - accuracy: 0.7628\n",
            "Epoch 84/1000\n",
            "5/5 [==============================] - 0s 3ms/step - loss: 0.5477 - accuracy: 0.7628\n",
            "Epoch 85/1000\n",
            "5/5 [==============================] - 0s 3ms/step - loss: 0.5477 - accuracy: 0.7628\n",
            "Epoch 86/1000\n",
            "5/5 [==============================] - 0s 4ms/step - loss: 0.5476 - accuracy: 0.7628\n",
            "Epoch 87/1000\n",
            "5/5 [==============================] - 0s 3ms/step - loss: 0.5476 - accuracy: 0.7628\n",
            "Epoch 88/1000\n",
            "5/5 [==============================] - 0s 3ms/step - loss: 0.5477 - accuracy: 0.7628\n",
            "Epoch 89/1000\n",
            "5/5 [==============================] - 0s 3ms/step - loss: 0.5476 - accuracy: 0.7628\n",
            "Epoch 90/1000\n",
            "5/5 [==============================] - 0s 4ms/step - loss: 0.5476 - accuracy: 0.7628\n",
            "Epoch 91/1000\n",
            "5/5 [==============================] - 0s 4ms/step - loss: 0.5476 - accuracy: 0.7628\n",
            "Epoch 92/1000\n",
            "5/5 [==============================] - 0s 4ms/step - loss: 0.5476 - accuracy: 0.7628\n",
            "Epoch 93/1000\n",
            "5/5 [==============================] - 0s 4ms/step - loss: 0.5476 - accuracy: 0.7628\n",
            "Epoch 94/1000\n",
            "5/5 [==============================] - 0s 4ms/step - loss: 0.5476 - accuracy: 0.7628\n",
            "Epoch 95/1000\n",
            "5/5 [==============================] - 0s 4ms/step - loss: 0.5475 - accuracy: 0.7628\n",
            "Epoch 96/1000\n",
            "5/5 [==============================] - 0s 4ms/step - loss: 0.5476 - accuracy: 0.7628\n",
            "Epoch 97/1000\n",
            "5/5 [==============================] - 0s 4ms/step - loss: 0.5476 - accuracy: 0.7628\n",
            "Epoch 98/1000\n",
            "5/5 [==============================] - 0s 3ms/step - loss: 0.5475 - accuracy: 0.7628\n",
            "Epoch 99/1000\n",
            "5/5 [==============================] - 0s 3ms/step - loss: 0.5475 - accuracy: 0.7628\n",
            "Epoch 100/1000\n",
            "5/5 [==============================] - 0s 4ms/step - loss: 0.5475 - accuracy: 0.7628\n",
            "Epoch 101/1000\n",
            "5/5 [==============================] - 0s 6ms/step - loss: 0.5476 - accuracy: 0.7628\n",
            "Epoch 102/1000\n",
            "5/5 [==============================] - 0s 4ms/step - loss: 0.5475 - accuracy: 0.7628\n",
            "Epoch 103/1000\n",
            "5/5 [==============================] - 0s 4ms/step - loss: 0.5475 - accuracy: 0.7628\n",
            "Epoch 104/1000\n",
            "5/5 [==============================] - 0s 4ms/step - loss: 0.5475 - accuracy: 0.7628\n",
            "Epoch 105/1000\n",
            "5/5 [==============================] - 0s 4ms/step - loss: 0.5475 - accuracy: 0.7628\n",
            "Epoch 106/1000\n",
            "5/5 [==============================] - 0s 3ms/step - loss: 0.5475 - accuracy: 0.7628\n",
            "Epoch 107/1000\n",
            "5/5 [==============================] - 0s 4ms/step - loss: 0.5475 - accuracy: 0.7628\n",
            "Epoch 108/1000\n",
            "5/5 [==============================] - 0s 3ms/step - loss: 0.5475 - accuracy: 0.7628\n",
            "Epoch 109/1000\n",
            "5/5 [==============================] - 0s 3ms/step - loss: 0.5475 - accuracy: 0.7628\n",
            "Epoch 110/1000\n",
            "5/5 [==============================] - 0s 3ms/step - loss: 0.5475 - accuracy: 0.7628\n",
            "Epoch 111/1000\n",
            "5/5 [==============================] - 0s 3ms/step - loss: 0.5474 - accuracy: 0.7628\n",
            "Epoch 112/1000\n",
            "5/5 [==============================] - 0s 5ms/step - loss: 0.5474 - accuracy: 0.7628\n",
            "Epoch 113/1000\n",
            "5/5 [==============================] - 0s 5ms/step - loss: 0.5474 - accuracy: 0.7628\n",
            "Epoch 114/1000\n",
            "5/5 [==============================] - 0s 4ms/step - loss: 0.5474 - accuracy: 0.7628\n",
            "Epoch 115/1000\n",
            "5/5 [==============================] - 0s 3ms/step - loss: 0.5474 - accuracy: 0.7628\n",
            "Epoch 116/1000\n",
            "5/5 [==============================] - 0s 4ms/step - loss: 0.5474 - accuracy: 0.7628\n",
            "Epoch 117/1000\n",
            "5/5 [==============================] - 0s 4ms/step - loss: 0.5474 - accuracy: 0.7628\n",
            "Epoch 118/1000\n",
            "5/5 [==============================] - 0s 4ms/step - loss: 0.5474 - accuracy: 0.7628\n",
            "Epoch 119/1000\n",
            "5/5 [==============================] - 0s 4ms/step - loss: 0.5474 - accuracy: 0.7628\n",
            "Epoch 120/1000\n",
            "5/5 [==============================] - 0s 4ms/step - loss: 0.5474 - accuracy: 0.7628\n",
            "Epoch 121/1000\n",
            "5/5 [==============================] - 0s 4ms/step - loss: 0.5474 - accuracy: 0.7628\n",
            "Epoch 122/1000\n",
            "5/5 [==============================] - 0s 4ms/step - loss: 0.5473 - accuracy: 0.7628\n",
            "Epoch 123/1000\n",
            "5/5 [==============================] - 0s 4ms/step - loss: 0.5474 - accuracy: 0.7628\n",
            "Epoch 124/1000\n",
            "5/5 [==============================] - 0s 3ms/step - loss: 0.5474 - accuracy: 0.7628\n",
            "Epoch 125/1000\n",
            "5/5 [==============================] - 0s 3ms/step - loss: 0.5473 - accuracy: 0.7628\n",
            "Epoch 126/1000\n",
            "5/5 [==============================] - 0s 4ms/step - loss: 0.5473 - accuracy: 0.7628\n",
            "Epoch 127/1000\n",
            "5/5 [==============================] - 0s 4ms/step - loss: 0.5473 - accuracy: 0.7628\n",
            "Epoch 128/1000\n",
            "5/5 [==============================] - 0s 4ms/step - loss: 0.5473 - accuracy: 0.7628\n",
            "Epoch 129/1000\n",
            "5/5 [==============================] - 0s 4ms/step - loss: 0.5473 - accuracy: 0.7628\n",
            "Epoch 130/1000\n",
            "5/5 [==============================] - 0s 4ms/step - loss: 0.5473 - accuracy: 0.7628\n",
            "Epoch 131/1000\n",
            "5/5 [==============================] - 0s 4ms/step - loss: 0.5473 - accuracy: 0.7628\n",
            "Epoch 132/1000\n",
            "5/5 [==============================] - 0s 4ms/step - loss: 0.5472 - accuracy: 0.7628\n",
            "Epoch 133/1000\n",
            "5/5 [==============================] - 0s 4ms/step - loss: 0.5472 - accuracy: 0.7628\n",
            "Epoch 134/1000\n",
            "5/5 [==============================] - 0s 4ms/step - loss: 0.5472 - accuracy: 0.7628\n",
            "Epoch 135/1000\n",
            "5/5 [==============================] - 0s 4ms/step - loss: 0.5472 - accuracy: 0.7628\n",
            "Epoch 136/1000\n",
            "5/5 [==============================] - 0s 4ms/step - loss: 0.5472 - accuracy: 0.7628\n",
            "Epoch 137/1000\n",
            "5/5 [==============================] - 0s 4ms/step - loss: 0.5472 - accuracy: 0.7628\n",
            "Epoch 138/1000\n",
            "5/5 [==============================] - 0s 5ms/step - loss: 0.5473 - accuracy: 0.7628\n",
            "Epoch 139/1000\n",
            "5/5 [==============================] - 0s 3ms/step - loss: 0.5472 - accuracy: 0.7628\n",
            "Epoch 140/1000\n",
            "5/5 [==============================] - 0s 4ms/step - loss: 0.5472 - accuracy: 0.7628\n",
            "Epoch 141/1000\n",
            "5/5 [==============================] - 0s 3ms/step - loss: 0.5471 - accuracy: 0.7628\n",
            "Epoch 142/1000\n",
            "5/5 [==============================] - 0s 4ms/step - loss: 0.5471 - accuracy: 0.7628\n",
            "Epoch 143/1000\n",
            "5/5 [==============================] - 0s 4ms/step - loss: 0.5471 - accuracy: 0.7628\n",
            "Epoch 144/1000\n",
            "5/5 [==============================] - 0s 3ms/step - loss: 0.5471 - accuracy: 0.7628\n",
            "Epoch 145/1000\n",
            "5/5 [==============================] - 0s 4ms/step - loss: 0.5471 - accuracy: 0.7628\n",
            "Epoch 146/1000\n",
            "5/5 [==============================] - 0s 4ms/step - loss: 0.5471 - accuracy: 0.7628\n",
            "Epoch 147/1000\n",
            "5/5 [==============================] - 0s 5ms/step - loss: 0.5470 - accuracy: 0.7628\n",
            "Epoch 148/1000\n",
            "5/5 [==============================] - 0s 3ms/step - loss: 0.5470 - accuracy: 0.7628\n",
            "Epoch 149/1000\n",
            "5/5 [==============================] - 0s 3ms/step - loss: 0.5470 - accuracy: 0.7628\n",
            "Epoch 150/1000\n",
            "5/5 [==============================] - 0s 3ms/step - loss: 0.5470 - accuracy: 0.7628\n",
            "Epoch 151/1000\n",
            "5/5 [==============================] - 0s 4ms/step - loss: 0.5469 - accuracy: 0.7628\n",
            "Epoch 152/1000\n",
            "5/5 [==============================] - 0s 4ms/step - loss: 0.5469 - accuracy: 0.7628\n",
            "Epoch 153/1000\n",
            "5/5 [==============================] - 0s 4ms/step - loss: 0.5469 - accuracy: 0.7628\n",
            "Epoch 154/1000\n",
            "5/5 [==============================] - 0s 4ms/step - loss: 0.5469 - accuracy: 0.7628\n",
            "Epoch 155/1000\n",
            "5/5 [==============================] - 0s 4ms/step - loss: 0.5469 - accuracy: 0.7628\n",
            "Epoch 156/1000\n",
            "5/5 [==============================] - 0s 3ms/step - loss: 0.5468 - accuracy: 0.7628\n",
            "Epoch 157/1000\n",
            "5/5 [==============================] - 0s 3ms/step - loss: 0.5468 - accuracy: 0.7628\n",
            "Epoch 158/1000\n",
            "5/5 [==============================] - 0s 4ms/step - loss: 0.5468 - accuracy: 0.7628\n",
            "Epoch 159/1000\n",
            "5/5 [==============================] - 0s 4ms/step - loss: 0.5467 - accuracy: 0.7628\n",
            "Epoch 160/1000\n",
            "5/5 [==============================] - 0s 4ms/step - loss: 0.5466 - accuracy: 0.7628\n",
            "Epoch 161/1000\n",
            "5/5 [==============================] - 0s 3ms/step - loss: 0.5466 - accuracy: 0.7628\n",
            "Epoch 162/1000\n",
            "5/5 [==============================] - 0s 4ms/step - loss: 0.5466 - accuracy: 0.7628\n",
            "Epoch 163/1000\n",
            "5/5 [==============================] - 0s 4ms/step - loss: 0.5465 - accuracy: 0.7628\n",
            "Epoch 164/1000\n",
            "5/5 [==============================] - 0s 5ms/step - loss: 0.5465 - accuracy: 0.7628\n",
            "Epoch 165/1000\n",
            "5/5 [==============================] - 0s 4ms/step - loss: 0.5464 - accuracy: 0.7628\n",
            "Epoch 166/1000\n",
            "5/5 [==============================] - 0s 3ms/step - loss: 0.5464 - accuracy: 0.7628\n",
            "Epoch 167/1000\n",
            "5/5 [==============================] - 0s 4ms/step - loss: 0.5464 - accuracy: 0.7628\n",
            "Epoch 168/1000\n",
            "5/5 [==============================] - 0s 4ms/step - loss: 0.5463 - accuracy: 0.7628\n",
            "Epoch 169/1000\n",
            "5/5 [==============================] - 0s 4ms/step - loss: 0.5463 - accuracy: 0.7628\n",
            "Epoch 170/1000\n",
            "5/5 [==============================] - 0s 4ms/step - loss: 0.5462 - accuracy: 0.7628\n",
            "Epoch 171/1000\n",
            "5/5 [==============================] - 0s 4ms/step - loss: 0.5461 - accuracy: 0.7628\n",
            "Epoch 172/1000\n",
            "5/5 [==============================] - 0s 3ms/step - loss: 0.5461 - accuracy: 0.7628\n",
            "Epoch 173/1000\n",
            "5/5 [==============================] - 0s 4ms/step - loss: 0.5460 - accuracy: 0.7628\n",
            "Epoch 174/1000\n",
            "5/5 [==============================] - 0s 4ms/step - loss: 0.5459 - accuracy: 0.7628\n",
            "Epoch 175/1000\n",
            "5/5 [==============================] - 0s 3ms/step - loss: 0.5459 - accuracy: 0.7628\n",
            "Epoch 176/1000\n",
            "5/5 [==============================] - 0s 4ms/step - loss: 0.5458 - accuracy: 0.7628\n",
            "Epoch 177/1000\n",
            "5/5 [==============================] - 0s 4ms/step - loss: 0.5457 - accuracy: 0.7628\n",
            "Epoch 178/1000\n",
            "5/5 [==============================] - 0s 5ms/step - loss: 0.5456 - accuracy: 0.7628\n",
            "Epoch 179/1000\n",
            "5/5 [==============================] - 0s 4ms/step - loss: 0.5456 - accuracy: 0.7628\n",
            "Epoch 180/1000\n",
            "5/5 [==============================] - 0s 3ms/step - loss: 0.5454 - accuracy: 0.7628\n",
            "Epoch 181/1000\n",
            "5/5 [==============================] - 0s 3ms/step - loss: 0.5453 - accuracy: 0.7628\n",
            "Epoch 182/1000\n",
            "5/5 [==============================] - 0s 4ms/step - loss: 0.5452 - accuracy: 0.7628\n",
            "Epoch 183/1000\n",
            "5/5 [==============================] - 0s 5ms/step - loss: 0.5452 - accuracy: 0.7628\n",
            "Epoch 184/1000\n",
            "5/5 [==============================] - 0s 5ms/step - loss: 0.5450 - accuracy: 0.7628\n",
            "Epoch 185/1000\n",
            "5/5 [==============================] - 0s 4ms/step - loss: 0.5450 - accuracy: 0.7628\n",
            "Epoch 186/1000\n",
            "5/5 [==============================] - 0s 4ms/step - loss: 0.5447 - accuracy: 0.7628\n",
            "Epoch 187/1000\n",
            "5/5 [==============================] - 0s 4ms/step - loss: 0.5446 - accuracy: 0.7628\n",
            "Epoch 188/1000\n",
            "5/5 [==============================] - 0s 4ms/step - loss: 0.5444 - accuracy: 0.7628\n",
            "Epoch 189/1000\n",
            "5/5 [==============================] - 0s 4ms/step - loss: 0.5443 - accuracy: 0.7628\n",
            "Epoch 190/1000\n",
            "5/5 [==============================] - 0s 4ms/step - loss: 0.5441 - accuracy: 0.7628\n",
            "Epoch 191/1000\n",
            "5/5 [==============================] - 0s 4ms/step - loss: 0.5440 - accuracy: 0.7628\n",
            "Epoch 192/1000\n",
            "5/5 [==============================] - 0s 4ms/step - loss: 0.5439 - accuracy: 0.7628\n",
            "Epoch 193/1000\n",
            "5/5 [==============================] - 0s 4ms/step - loss: 0.5437 - accuracy: 0.7628\n",
            "Epoch 194/1000\n",
            "5/5 [==============================] - 0s 3ms/step - loss: 0.5435 - accuracy: 0.7628\n",
            "Epoch 195/1000\n",
            "5/5 [==============================] - 0s 4ms/step - loss: 0.5432 - accuracy: 0.7628\n",
            "Epoch 196/1000\n",
            "5/5 [==============================] - 0s 3ms/step - loss: 0.5430 - accuracy: 0.7628\n",
            "Epoch 197/1000\n",
            "5/5 [==============================] - 0s 4ms/step - loss: 0.5428 - accuracy: 0.7628\n",
            "Epoch 198/1000\n",
            "5/5 [==============================] - 0s 4ms/step - loss: 0.5426 - accuracy: 0.7628\n",
            "Epoch 199/1000\n",
            "5/5 [==============================] - 0s 5ms/step - loss: 0.5424 - accuracy: 0.7628\n",
            "Epoch 200/1000\n",
            "5/5 [==============================] - 0s 4ms/step - loss: 0.5421 - accuracy: 0.7628\n",
            "Epoch 201/1000\n",
            "5/5 [==============================] - 0s 4ms/step - loss: 0.5418 - accuracy: 0.7628\n",
            "Epoch 202/1000\n",
            "5/5 [==============================] - 0s 4ms/step - loss: 0.5415 - accuracy: 0.7628\n",
            "Epoch 203/1000\n",
            "5/5 [==============================] - 0s 5ms/step - loss: 0.5413 - accuracy: 0.7628\n",
            "Epoch 204/1000\n",
            "5/5 [==============================] - 0s 3ms/step - loss: 0.5410 - accuracy: 0.7628\n",
            "Epoch 205/1000\n",
            "5/5 [==============================] - 0s 4ms/step - loss: 0.5406 - accuracy: 0.7628\n",
            "Epoch 206/1000\n",
            "5/5 [==============================] - 0s 3ms/step - loss: 0.5403 - accuracy: 0.7628\n",
            "Epoch 207/1000\n",
            "5/5 [==============================] - 0s 5ms/step - loss: 0.5400 - accuracy: 0.7628\n",
            "Epoch 208/1000\n",
            "5/5 [==============================] - 0s 4ms/step - loss: 0.5396 - accuracy: 0.7628\n",
            "Epoch 209/1000\n",
            "5/5 [==============================] - 0s 4ms/step - loss: 0.5392 - accuracy: 0.7628\n",
            "Epoch 210/1000\n",
            "5/5 [==============================] - 0s 4ms/step - loss: 0.5389 - accuracy: 0.7628\n",
            "Epoch 211/1000\n",
            "5/5 [==============================] - 0s 4ms/step - loss: 0.5384 - accuracy: 0.7628\n",
            "Epoch 212/1000\n",
            "5/5 [==============================] - 0s 5ms/step - loss: 0.5380 - accuracy: 0.7628\n",
            "Epoch 213/1000\n",
            "5/5 [==============================] - 0s 4ms/step - loss: 0.5375 - accuracy: 0.7628\n",
            "Epoch 214/1000\n",
            "5/5 [==============================] - 0s 4ms/step - loss: 0.5371 - accuracy: 0.7628\n",
            "Epoch 215/1000\n",
            "5/5 [==============================] - 0s 5ms/step - loss: 0.5367 - accuracy: 0.7628\n",
            "Epoch 216/1000\n",
            "5/5 [==============================] - 0s 4ms/step - loss: 0.5361 - accuracy: 0.7628\n",
            "Epoch 217/1000\n",
            "5/5 [==============================] - 0s 4ms/step - loss: 0.5355 - accuracy: 0.7628\n",
            "Epoch 218/1000\n",
            "5/5 [==============================] - 0s 4ms/step - loss: 0.5350 - accuracy: 0.7628\n",
            "Epoch 219/1000\n",
            "5/5 [==============================] - 0s 4ms/step - loss: 0.5344 - accuracy: 0.7628\n",
            "Epoch 220/1000\n",
            "5/5 [==============================] - 0s 6ms/step - loss: 0.5337 - accuracy: 0.7628\n",
            "Epoch 221/1000\n",
            "5/5 [==============================] - 0s 4ms/step - loss: 0.5331 - accuracy: 0.7628\n",
            "Epoch 222/1000\n",
            "5/5 [==============================] - 0s 4ms/step - loss: 0.5324 - accuracy: 0.7628\n",
            "Epoch 223/1000\n",
            "5/5 [==============================] - 0s 4ms/step - loss: 0.5316 - accuracy: 0.7628\n",
            "Epoch 224/1000\n",
            "5/5 [==============================] - 0s 4ms/step - loss: 0.5309 - accuracy: 0.7628\n",
            "Epoch 225/1000\n",
            "5/5 [==============================] - 0s 5ms/step - loss: 0.5301 - accuracy: 0.7628\n",
            "Epoch 226/1000\n",
            "5/5 [==============================] - 0s 4ms/step - loss: 0.5293 - accuracy: 0.7628\n",
            "Epoch 227/1000\n",
            "5/5 [==============================] - 0s 4ms/step - loss: 0.5284 - accuracy: 0.7628\n",
            "Epoch 228/1000\n",
            "5/5 [==============================] - 0s 4ms/step - loss: 0.5276 - accuracy: 0.7628\n",
            "Epoch 229/1000\n",
            "5/5 [==============================] - 0s 4ms/step - loss: 0.5265 - accuracy: 0.7628\n",
            "Epoch 230/1000\n",
            "5/5 [==============================] - 0s 4ms/step - loss: 0.5255 - accuracy: 0.7628\n",
            "Epoch 231/1000\n",
            "5/5 [==============================] - 0s 3ms/step - loss: 0.5244 - accuracy: 0.7628\n",
            "Epoch 232/1000\n",
            "5/5 [==============================] - 0s 4ms/step - loss: 0.5235 - accuracy: 0.7628\n",
            "Epoch 233/1000\n",
            "5/5 [==============================] - 0s 4ms/step - loss: 0.5222 - accuracy: 0.7628\n",
            "Epoch 234/1000\n",
            "5/5 [==============================] - 0s 4ms/step - loss: 0.5212 - accuracy: 0.7628\n",
            "Epoch 235/1000\n",
            "5/5 [==============================] - 0s 5ms/step - loss: 0.5199 - accuracy: 0.7628\n",
            "Epoch 236/1000\n",
            "5/5 [==============================] - 0s 3ms/step - loss: 0.5185 - accuracy: 0.7628\n",
            "Epoch 237/1000\n",
            "5/5 [==============================] - 0s 3ms/step - loss: 0.5172 - accuracy: 0.7628\n",
            "Epoch 238/1000\n",
            "5/5 [==============================] - 0s 4ms/step - loss: 0.5158 - accuracy: 0.7628\n",
            "Epoch 239/1000\n",
            "5/5 [==============================] - 0s 5ms/step - loss: 0.5143 - accuracy: 0.7628\n",
            "Epoch 240/1000\n",
            "5/5 [==============================] - 0s 4ms/step - loss: 0.5127 - accuracy: 0.7628\n",
            "Epoch 241/1000\n",
            "5/5 [==============================] - 0s 5ms/step - loss: 0.5112 - accuracy: 0.7628\n",
            "Epoch 242/1000\n",
            "5/5 [==============================] - 0s 4ms/step - loss: 0.5095 - accuracy: 0.7628\n",
            "Epoch 243/1000\n",
            "5/5 [==============================] - 0s 5ms/step - loss: 0.5077 - accuracy: 0.7628\n",
            "Epoch 244/1000\n",
            "5/5 [==============================] - 0s 4ms/step - loss: 0.5060 - accuracy: 0.7628\n",
            "Epoch 245/1000\n",
            "5/5 [==============================] - 0s 4ms/step - loss: 0.5040 - accuracy: 0.7628\n",
            "Epoch 246/1000\n",
            "5/5 [==============================] - 0s 4ms/step - loss: 0.5021 - accuracy: 0.7628\n",
            "Epoch 247/1000\n",
            "5/5 [==============================] - 0s 4ms/step - loss: 0.5002 - accuracy: 0.7628\n",
            "Epoch 248/1000\n",
            "5/5 [==============================] - 0s 4ms/step - loss: 0.4979 - accuracy: 0.7628\n",
            "Epoch 249/1000\n",
            "5/5 [==============================] - 0s 5ms/step - loss: 0.4959 - accuracy: 0.7628\n",
            "Epoch 250/1000\n",
            "5/5 [==============================] - 0s 5ms/step - loss: 0.4938 - accuracy: 0.7628\n",
            "Epoch 251/1000\n",
            "5/5 [==============================] - 0s 4ms/step - loss: 0.4913 - accuracy: 0.7628\n",
            "Epoch 252/1000\n",
            "5/5 [==============================] - 0s 4ms/step - loss: 0.4891 - accuracy: 0.7628\n",
            "Epoch 253/1000\n",
            "5/5 [==============================] - 0s 4ms/step - loss: 0.4869 - accuracy: 0.7628\n",
            "Epoch 254/1000\n",
            "5/5 [==============================] - 0s 5ms/step - loss: 0.4843 - accuracy: 0.7628\n",
            "Epoch 255/1000\n",
            "5/5 [==============================] - 0s 4ms/step - loss: 0.4822 - accuracy: 0.7628\n",
            "Epoch 256/1000\n",
            "5/5 [==============================] - 0s 4ms/step - loss: 0.4798 - accuracy: 0.7628\n",
            "Epoch 257/1000\n",
            "5/5 [==============================] - 0s 4ms/step - loss: 0.4771 - accuracy: 0.7628\n",
            "Epoch 258/1000\n",
            "5/5 [==============================] - 0s 4ms/step - loss: 0.4746 - accuracy: 0.7628\n",
            "Epoch 259/1000\n",
            "5/5 [==============================] - 0s 4ms/step - loss: 0.4722 - accuracy: 0.7628\n",
            "Epoch 260/1000\n",
            "5/5 [==============================] - 0s 4ms/step - loss: 0.4698 - accuracy: 0.7628\n",
            "Epoch 261/1000\n",
            "5/5 [==============================] - 0s 5ms/step - loss: 0.4672 - accuracy: 0.7628\n",
            "Epoch 262/1000\n",
            "5/5 [==============================] - 0s 5ms/step - loss: 0.4646 - accuracy: 0.7628\n",
            "Epoch 263/1000\n",
            "5/5 [==============================] - 0s 4ms/step - loss: 0.4623 - accuracy: 0.7628\n",
            "Epoch 264/1000\n",
            "5/5 [==============================] - 0s 4ms/step - loss: 0.4601 - accuracy: 0.7628\n",
            "Epoch 265/1000\n",
            "5/5 [==============================] - 0s 4ms/step - loss: 0.4575 - accuracy: 0.7628\n",
            "Epoch 266/1000\n",
            "5/5 [==============================] - 0s 5ms/step - loss: 0.4549 - accuracy: 0.7628\n",
            "Epoch 267/1000\n",
            "5/5 [==============================] - 0s 4ms/step - loss: 0.4527 - accuracy: 0.7628\n",
            "Epoch 268/1000\n",
            "5/5 [==============================] - 0s 4ms/step - loss: 0.4503 - accuracy: 0.7628\n",
            "Epoch 269/1000\n",
            "5/5 [==============================] - 0s 5ms/step - loss: 0.4480 - accuracy: 0.7628\n",
            "Epoch 270/1000\n",
            "5/5 [==============================] - 0s 4ms/step - loss: 0.4458 - accuracy: 0.7628\n",
            "Epoch 271/1000\n",
            "5/5 [==============================] - 0s 4ms/step - loss: 0.4436 - accuracy: 0.7628\n",
            "Epoch 272/1000\n",
            "5/5 [==============================] - 0s 4ms/step - loss: 0.4414 - accuracy: 0.7628\n",
            "Epoch 273/1000\n",
            "5/5 [==============================] - 0s 5ms/step - loss: 0.4393 - accuracy: 0.7628\n",
            "Epoch 274/1000\n",
            "5/5 [==============================] - 0s 5ms/step - loss: 0.4371 - accuracy: 0.7628\n",
            "Epoch 275/1000\n",
            "5/5 [==============================] - 0s 5ms/step - loss: 0.4350 - accuracy: 0.7628\n",
            "Epoch 276/1000\n",
            "5/5 [==============================] - 0s 4ms/step - loss: 0.4329 - accuracy: 0.7628\n",
            "Epoch 277/1000\n",
            "5/5 [==============================] - 0s 5ms/step - loss: 0.4315 - accuracy: 0.7628\n",
            "Epoch 278/1000\n",
            "5/5 [==============================] - 0s 4ms/step - loss: 0.4290 - accuracy: 0.7628\n",
            "Epoch 279/1000\n",
            "5/5 [==============================] - 0s 4ms/step - loss: 0.4274 - accuracy: 0.7628\n",
            "Epoch 280/1000\n",
            "5/5 [==============================] - 0s 6ms/step - loss: 0.4256 - accuracy: 0.7628\n",
            "Epoch 281/1000\n",
            "5/5 [==============================] - 0s 4ms/step - loss: 0.4237 - accuracy: 0.7628\n",
            "Epoch 282/1000\n",
            "5/5 [==============================] - 0s 4ms/step - loss: 0.4219 - accuracy: 0.7628\n",
            "Epoch 283/1000\n",
            "5/5 [==============================] - 0s 4ms/step - loss: 0.4203 - accuracy: 0.7628\n",
            "Epoch 284/1000\n",
            "5/5 [==============================] - 0s 4ms/step - loss: 0.4187 - accuracy: 0.7628\n",
            "Epoch 285/1000\n",
            "5/5 [==============================] - 0s 4ms/step - loss: 0.4172 - accuracy: 0.7628\n",
            "Epoch 286/1000\n",
            "5/5 [==============================] - 0s 4ms/step - loss: 0.4157 - accuracy: 0.7628\n",
            "Epoch 287/1000\n",
            "5/5 [==============================] - 0s 4ms/step - loss: 0.4141 - accuracy: 0.7628\n",
            "Epoch 288/1000\n",
            "5/5 [==============================] - 0s 3ms/step - loss: 0.4126 - accuracy: 0.7628\n",
            "Epoch 289/1000\n",
            "5/5 [==============================] - 0s 4ms/step - loss: 0.4112 - accuracy: 0.7628\n",
            "Epoch 290/1000\n",
            "5/5 [==============================] - 0s 5ms/step - loss: 0.4097 - accuracy: 0.7628\n",
            "Epoch 291/1000\n",
            "5/5 [==============================] - 0s 6ms/step - loss: 0.4084 - accuracy: 0.7628\n",
            "Epoch 292/1000\n",
            "5/5 [==============================] - 0s 4ms/step - loss: 0.4071 - accuracy: 0.7628\n",
            "Epoch 293/1000\n",
            "5/5 [==============================] - 0s 5ms/step - loss: 0.4059 - accuracy: 0.7628\n",
            "Epoch 294/1000\n",
            "5/5 [==============================] - 0s 4ms/step - loss: 0.4044 - accuracy: 0.7628\n",
            "Epoch 295/1000\n",
            "5/5 [==============================] - 0s 4ms/step - loss: 0.4036 - accuracy: 0.7628\n",
            "Epoch 296/1000\n",
            "5/5 [==============================] - 0s 4ms/step - loss: 0.4022 - accuracy: 0.7628\n",
            "Epoch 297/1000\n",
            "5/5 [==============================] - 0s 6ms/step - loss: 0.4009 - accuracy: 0.7628\n",
            "Epoch 298/1000\n",
            "5/5 [==============================] - 0s 4ms/step - loss: 0.3996 - accuracy: 0.7628\n",
            "Epoch 299/1000\n",
            "5/5 [==============================] - 0s 4ms/step - loss: 0.3984 - accuracy: 0.7628\n",
            "Epoch 300/1000\n",
            "5/5 [==============================] - 0s 4ms/step - loss: 0.3975 - accuracy: 0.7628\n",
            "Epoch 301/1000\n",
            "5/5 [==============================] - 0s 4ms/step - loss: 0.3961 - accuracy: 0.7628\n",
            "Epoch 302/1000\n",
            "5/5 [==============================] - 0s 5ms/step - loss: 0.3949 - accuracy: 0.7628\n",
            "Epoch 303/1000\n",
            "5/5 [==============================] - 0s 3ms/step - loss: 0.3937 - accuracy: 0.7628\n",
            "Epoch 304/1000\n",
            "5/5 [==============================] - 0s 3ms/step - loss: 0.3926 - accuracy: 0.7628\n",
            "Epoch 305/1000\n",
            "5/5 [==============================] - 0s 5ms/step - loss: 0.3915 - accuracy: 0.7628\n",
            "Epoch 306/1000\n",
            "5/5 [==============================] - 0s 5ms/step - loss: 0.3904 - accuracy: 0.7628\n",
            "Epoch 307/1000\n",
            "5/5 [==============================] - 0s 5ms/step - loss: 0.3894 - accuracy: 0.7628\n",
            "Epoch 308/1000\n",
            "5/5 [==============================] - 0s 4ms/step - loss: 0.3884 - accuracy: 0.7628\n",
            "Epoch 309/1000\n",
            "5/5 [==============================] - 0s 4ms/step - loss: 0.3874 - accuracy: 0.7628\n",
            "Epoch 310/1000\n",
            "5/5 [==============================] - 0s 4ms/step - loss: 0.3866 - accuracy: 0.7628\n",
            "Epoch 311/1000\n",
            "5/5 [==============================] - 0s 4ms/step - loss: 0.3856 - accuracy: 0.7628\n",
            "Epoch 312/1000\n",
            "5/5 [==============================] - 0s 6ms/step - loss: 0.3848 - accuracy: 0.7628\n",
            "Epoch 313/1000\n",
            "5/5 [==============================] - 0s 5ms/step - loss: 0.3837 - accuracy: 0.7628\n",
            "Epoch 314/1000\n",
            "5/5 [==============================] - 0s 4ms/step - loss: 0.3830 - accuracy: 0.7628\n",
            "Epoch 315/1000\n",
            "5/5 [==============================] - 0s 4ms/step - loss: 0.3820 - accuracy: 0.7628\n",
            "Epoch 316/1000\n",
            "5/5 [==============================] - 0s 4ms/step - loss: 0.3814 - accuracy: 0.7628\n",
            "Epoch 317/1000\n",
            "5/5 [==============================] - 0s 5ms/step - loss: 0.3806 - accuracy: 0.7628\n",
            "Epoch 318/1000\n",
            "5/5 [==============================] - 0s 4ms/step - loss: 0.3798 - accuracy: 0.7628\n",
            "Epoch 319/1000\n",
            "5/5 [==============================] - 0s 8ms/step - loss: 0.3793 - accuracy: 0.7628\n",
            "Epoch 320/1000\n",
            "5/5 [==============================] - 0s 6ms/step - loss: 0.3785 - accuracy: 0.7628\n",
            "Epoch 321/1000\n",
            "5/5 [==============================] - 0s 5ms/step - loss: 0.3777 - accuracy: 0.7628\n",
            "Epoch 322/1000\n",
            "5/5 [==============================] - 0s 5ms/step - loss: 0.3771 - accuracy: 0.7628\n",
            "Epoch 323/1000\n",
            "5/5 [==============================] - 0s 5ms/step - loss: 0.3763 - accuracy: 0.7628\n",
            "Epoch 324/1000\n",
            "5/5 [==============================] - 0s 6ms/step - loss: 0.3757 - accuracy: 0.7628\n",
            "Epoch 325/1000\n",
            "5/5 [==============================] - 0s 6ms/step - loss: 0.3752 - accuracy: 0.7628\n",
            "Epoch 326/1000\n",
            "5/5 [==============================] - 0s 4ms/step - loss: 0.3746 - accuracy: 0.7628\n",
            "Epoch 327/1000\n",
            "5/5 [==============================] - 0s 5ms/step - loss: 0.3739 - accuracy: 0.7628\n",
            "Epoch 328/1000\n",
            "5/5 [==============================] - 0s 5ms/step - loss: 0.3734 - accuracy: 0.7628\n",
            "Epoch 329/1000\n",
            "5/5 [==============================] - 0s 4ms/step - loss: 0.3728 - accuracy: 0.7628\n",
            "Epoch 330/1000\n",
            "5/5 [==============================] - 0s 5ms/step - loss: 0.3723 - accuracy: 0.7628\n",
            "Epoch 331/1000\n",
            "5/5 [==============================] - 0s 5ms/step - loss: 0.3717 - accuracy: 0.7628\n",
            "Epoch 332/1000\n",
            "5/5 [==============================] - 0s 6ms/step - loss: 0.3711 - accuracy: 0.7628\n",
            "Epoch 333/1000\n",
            "5/5 [==============================] - 0s 5ms/step - loss: 0.3706 - accuracy: 0.7628\n",
            "Epoch 334/1000\n",
            "5/5 [==============================] - 0s 4ms/step - loss: 0.3700 - accuracy: 0.7628\n",
            "Epoch 335/1000\n",
            "5/5 [==============================] - 0s 5ms/step - loss: 0.3695 - accuracy: 0.7628\n",
            "Epoch 336/1000\n",
            "5/5 [==============================] - 0s 5ms/step - loss: 0.3690 - accuracy: 0.7628\n",
            "Epoch 337/1000\n",
            "5/5 [==============================] - 0s 9ms/step - loss: 0.3685 - accuracy: 0.7628\n",
            "Epoch 338/1000\n",
            "5/5 [==============================] - 0s 5ms/step - loss: 0.3679 - accuracy: 0.7628\n",
            "Epoch 339/1000\n",
            "5/5 [==============================] - 0s 4ms/step - loss: 0.3676 - accuracy: 0.7628\n",
            "Epoch 340/1000\n",
            "5/5 [==============================] - 0s 4ms/step - loss: 0.3669 - accuracy: 0.7628\n",
            "Epoch 341/1000\n",
            "5/5 [==============================] - 0s 5ms/step - loss: 0.3665 - accuracy: 0.7628\n",
            "Epoch 342/1000\n",
            "5/5 [==============================] - 0s 6ms/step - loss: 0.3662 - accuracy: 0.7628\n",
            "Epoch 343/1000\n",
            "5/5 [==============================] - 0s 5ms/step - loss: 0.3654 - accuracy: 0.7628\n",
            "Epoch 344/1000\n",
            "5/5 [==============================] - 0s 6ms/step - loss: 0.3651 - accuracy: 0.7628\n",
            "Epoch 345/1000\n",
            "5/5 [==============================] - 0s 5ms/step - loss: 0.3646 - accuracy: 0.7628\n",
            "Epoch 346/1000\n",
            "5/5 [==============================] - 0s 6ms/step - loss: 0.3643 - accuracy: 0.7628\n",
            "Epoch 347/1000\n",
            "5/5 [==============================] - 0s 4ms/step - loss: 0.3637 - accuracy: 0.7628\n",
            "Epoch 348/1000\n",
            "5/5 [==============================] - 0s 4ms/step - loss: 0.3632 - accuracy: 0.8013\n",
            "Epoch 349/1000\n",
            "5/5 [==============================] - 0s 4ms/step - loss: 0.3629 - accuracy: 0.8141\n",
            "Epoch 350/1000\n",
            "5/5 [==============================] - 0s 4ms/step - loss: 0.3623 - accuracy: 0.8013\n",
            "Epoch 351/1000\n",
            "5/5 [==============================] - 0s 5ms/step - loss: 0.3621 - accuracy: 0.7821\n",
            "Epoch 352/1000\n",
            "5/5 [==============================] - 0s 4ms/step - loss: 0.3615 - accuracy: 0.7821\n",
            "Epoch 353/1000\n",
            "5/5 [==============================] - 0s 4ms/step - loss: 0.3612 - accuracy: 0.7756\n",
            "Epoch 354/1000\n",
            "5/5 [==============================] - 0s 4ms/step - loss: 0.3608 - accuracy: 0.7692\n",
            "Epoch 355/1000\n",
            "5/5 [==============================] - 0s 4ms/step - loss: 0.3604 - accuracy: 0.7692\n",
            "Epoch 356/1000\n",
            "5/5 [==============================] - 0s 4ms/step - loss: 0.3601 - accuracy: 0.7628\n",
            "Epoch 357/1000\n",
            "5/5 [==============================] - 0s 4ms/step - loss: 0.3599 - accuracy: 0.7692\n",
            "Epoch 358/1000\n",
            "5/5 [==============================] - 0s 5ms/step - loss: 0.3593 - accuracy: 0.7756\n",
            "Epoch 359/1000\n",
            "5/5 [==============================] - 0s 4ms/step - loss: 0.3590 - accuracy: 0.7628\n",
            "Epoch 360/1000\n",
            "5/5 [==============================] - 0s 3ms/step - loss: 0.3588 - accuracy: 0.7692\n",
            "Epoch 361/1000\n",
            "5/5 [==============================] - 0s 4ms/step - loss: 0.3583 - accuracy: 0.7692\n",
            "Epoch 362/1000\n",
            "5/5 [==============================] - 0s 5ms/step - loss: 0.3579 - accuracy: 0.7692\n",
            "Epoch 363/1000\n",
            "5/5 [==============================] - 0s 4ms/step - loss: 0.3576 - accuracy: 0.7692\n",
            "Epoch 364/1000\n",
            "5/5 [==============================] - 0s 4ms/step - loss: 0.3574 - accuracy: 0.7628\n",
            "Epoch 365/1000\n",
            "5/5 [==============================] - 0s 4ms/step - loss: 0.3570 - accuracy: 0.7628\n",
            "Epoch 366/1000\n",
            "5/5 [==============================] - 0s 4ms/step - loss: 0.3567 - accuracy: 0.7692\n",
            "Epoch 367/1000\n",
            "5/5 [==============================] - 0s 4ms/step - loss: 0.3564 - accuracy: 0.7500\n",
            "Epoch 368/1000\n",
            "5/5 [==============================] - 0s 4ms/step - loss: 0.3561 - accuracy: 0.7500\n",
            "Epoch 369/1000\n",
            "5/5 [==============================] - 0s 4ms/step - loss: 0.3560 - accuracy: 0.7500\n",
            "Epoch 370/1000\n",
            "5/5 [==============================] - 0s 5ms/step - loss: 0.3556 - accuracy: 0.7500\n",
            "Epoch 371/1000\n",
            "5/5 [==============================] - 0s 3ms/step - loss: 0.3553 - accuracy: 0.7500\n",
            "Epoch 372/1000\n",
            "5/5 [==============================] - 0s 4ms/step - loss: 0.3552 - accuracy: 0.7500\n",
            "Epoch 373/1000\n",
            "5/5 [==============================] - 0s 4ms/step - loss: 0.3547 - accuracy: 0.7500\n",
            "Epoch 374/1000\n",
            "5/5 [==============================] - 0s 4ms/step - loss: 0.3545 - accuracy: 0.7500\n",
            "Epoch 375/1000\n",
            "5/5 [==============================] - 0s 4ms/step - loss: 0.3543 - accuracy: 0.7500\n",
            "Epoch 376/1000\n",
            "5/5 [==============================] - 0s 7ms/step - loss: 0.3540 - accuracy: 0.7500\n",
            "Epoch 377/1000\n",
            "5/5 [==============================] - 0s 5ms/step - loss: 0.3539 - accuracy: 0.7500\n",
            "Epoch 378/1000\n",
            "5/5 [==============================] - 0s 4ms/step - loss: 0.3535 - accuracy: 0.7564\n",
            "Epoch 379/1000\n",
            "5/5 [==============================] - 0s 4ms/step - loss: 0.3533 - accuracy: 0.7564\n",
            "Epoch 380/1000\n",
            "5/5 [==============================] - 0s 4ms/step - loss: 0.3530 - accuracy: 0.7564\n",
            "Epoch 381/1000\n",
            "5/5 [==============================] - 0s 4ms/step - loss: 0.3529 - accuracy: 0.7564\n",
            "Epoch 382/1000\n",
            "5/5 [==============================] - 0s 5ms/step - loss: 0.3525 - accuracy: 0.7564\n",
            "Epoch 383/1000\n",
            "5/5 [==============================] - 0s 6ms/step - loss: 0.3523 - accuracy: 0.7500\n",
            "Epoch 384/1000\n",
            "5/5 [==============================] - 0s 6ms/step - loss: 0.3521 - accuracy: 0.7564\n",
            "Epoch 385/1000\n",
            "5/5 [==============================] - 0s 5ms/step - loss: 0.3520 - accuracy: 0.7564\n",
            "Epoch 386/1000\n",
            "5/5 [==============================] - 0s 4ms/step - loss: 0.3516 - accuracy: 0.7564\n",
            "Epoch 387/1000\n",
            "5/5 [==============================] - 0s 4ms/step - loss: 0.3515 - accuracy: 0.7564\n",
            "Epoch 388/1000\n",
            "5/5 [==============================] - 0s 4ms/step - loss: 0.3513 - accuracy: 0.7564\n",
            "Epoch 389/1000\n",
            "5/5 [==============================] - 0s 4ms/step - loss: 0.3511 - accuracy: 0.7564\n",
            "Epoch 390/1000\n",
            "5/5 [==============================] - 0s 6ms/step - loss: 0.3510 - accuracy: 0.7564\n",
            "Epoch 391/1000\n",
            "5/5 [==============================] - 0s 5ms/step - loss: 0.3506 - accuracy: 0.7564\n",
            "Epoch 392/1000\n",
            "5/5 [==============================] - 0s 5ms/step - loss: 0.3505 - accuracy: 0.7564\n",
            "Epoch 393/1000\n",
            "5/5 [==============================] - 0s 5ms/step - loss: 0.3502 - accuracy: 0.7564\n",
            "Epoch 394/1000\n",
            "5/5 [==============================] - 0s 6ms/step - loss: 0.3500 - accuracy: 0.7564\n",
            "Epoch 395/1000\n",
            "5/5 [==============================] - 0s 5ms/step - loss: 0.3499 - accuracy: 0.7564\n",
            "Epoch 396/1000\n",
            "5/5 [==============================] - 0s 5ms/step - loss: 0.3497 - accuracy: 0.7564\n",
            "Epoch 397/1000\n",
            "5/5 [==============================] - 0s 6ms/step - loss: 0.3494 - accuracy: 0.7564\n",
            "Epoch 398/1000\n",
            "5/5 [==============================] - 0s 5ms/step - loss: 0.3492 - accuracy: 0.7564\n",
            "Epoch 399/1000\n",
            "5/5 [==============================] - 0s 6ms/step - loss: 0.3491 - accuracy: 0.7564\n",
            "Epoch 400/1000\n",
            "5/5 [==============================] - 0s 5ms/step - loss: 0.3491 - accuracy: 0.7564\n",
            "Epoch 401/1000\n",
            "5/5 [==============================] - 0s 5ms/step - loss: 0.3486 - accuracy: 0.7564\n",
            "Epoch 402/1000\n",
            "5/5 [==============================] - 0s 5ms/step - loss: 0.3484 - accuracy: 0.7564\n",
            "Epoch 403/1000\n",
            "5/5 [==============================] - 0s 6ms/step - loss: 0.3482 - accuracy: 0.7564\n",
            "Epoch 404/1000\n",
            "5/5 [==============================] - 0s 7ms/step - loss: 0.3480 - accuracy: 0.7564\n",
            "Epoch 405/1000\n",
            "5/5 [==============================] - 0s 6ms/step - loss: 0.3479 - accuracy: 0.7564\n",
            "Epoch 406/1000\n",
            "5/5 [==============================] - 0s 6ms/step - loss: 0.3478 - accuracy: 0.7564\n",
            "Epoch 407/1000\n",
            "5/5 [==============================] - 0s 5ms/step - loss: 0.3475 - accuracy: 0.7628\n",
            "Epoch 408/1000\n",
            "5/5 [==============================] - 0s 5ms/step - loss: 0.3473 - accuracy: 0.7564\n",
            "Epoch 409/1000\n",
            "5/5 [==============================] - 0s 5ms/step - loss: 0.3472 - accuracy: 0.7628\n",
            "Epoch 410/1000\n",
            "5/5 [==============================] - 0s 6ms/step - loss: 0.3470 - accuracy: 0.7564\n",
            "Epoch 411/1000\n",
            "5/5 [==============================] - 0s 7ms/step - loss: 0.3468 - accuracy: 0.7564\n",
            "Epoch 412/1000\n",
            "5/5 [==============================] - 0s 6ms/step - loss: 0.3466 - accuracy: 0.7564\n",
            "Epoch 413/1000\n",
            "5/5 [==============================] - 0s 6ms/step - loss: 0.3466 - accuracy: 0.7692\n",
            "Epoch 414/1000\n",
            "5/5 [==============================] - 0s 5ms/step - loss: 0.3463 - accuracy: 0.7564\n",
            "Epoch 415/1000\n",
            "5/5 [==============================] - 0s 6ms/step - loss: 0.3463 - accuracy: 0.7564\n",
            "Epoch 416/1000\n",
            "5/5 [==============================] - 0s 5ms/step - loss: 0.3460 - accuracy: 0.7628\n",
            "Epoch 417/1000\n",
            "5/5 [==============================] - 0s 5ms/step - loss: 0.3459 - accuracy: 0.7692\n",
            "Epoch 418/1000\n",
            "5/5 [==============================] - 0s 6ms/step - loss: 0.3456 - accuracy: 0.7692\n",
            "Epoch 419/1000\n",
            "5/5 [==============================] - 0s 6ms/step - loss: 0.3455 - accuracy: 0.7692\n",
            "Epoch 420/1000\n",
            "5/5 [==============================] - 0s 6ms/step - loss: 0.3452 - accuracy: 0.7692\n",
            "Epoch 421/1000\n",
            "5/5 [==============================] - 0s 6ms/step - loss: 0.3450 - accuracy: 0.7692\n",
            "Epoch 422/1000\n",
            "5/5 [==============================] - 0s 6ms/step - loss: 0.3450 - accuracy: 0.7628\n",
            "Epoch 423/1000\n",
            "5/5 [==============================] - 0s 6ms/step - loss: 0.3448 - accuracy: 0.7692\n",
            "Epoch 424/1000\n",
            "5/5 [==============================] - 0s 4ms/step - loss: 0.3446 - accuracy: 0.7692\n",
            "Epoch 425/1000\n",
            "5/5 [==============================] - 0s 5ms/step - loss: 0.3445 - accuracy: 0.7692\n",
            "Epoch 426/1000\n",
            "5/5 [==============================] - 0s 5ms/step - loss: 0.3444 - accuracy: 0.7628\n",
            "Epoch 427/1000\n",
            "5/5 [==============================] - 0s 7ms/step - loss: 0.3441 - accuracy: 0.7628\n",
            "Epoch 428/1000\n",
            "5/5 [==============================] - 0s 5ms/step - loss: 0.3440 - accuracy: 0.7628\n",
            "Epoch 429/1000\n",
            "5/5 [==============================] - 0s 5ms/step - loss: 0.3438 - accuracy: 0.7692\n",
            "Epoch 430/1000\n",
            "5/5 [==============================] - 0s 5ms/step - loss: 0.3436 - accuracy: 0.7692\n",
            "Epoch 431/1000\n",
            "5/5 [==============================] - 0s 6ms/step - loss: 0.3435 - accuracy: 0.7628\n",
            "Epoch 432/1000\n",
            "5/5 [==============================] - 0s 6ms/step - loss: 0.3433 - accuracy: 0.7628\n",
            "Epoch 433/1000\n",
            "5/5 [==============================] - 0s 6ms/step - loss: 0.3432 - accuracy: 0.7628\n",
            "Epoch 434/1000\n",
            "5/5 [==============================] - 0s 5ms/step - loss: 0.3431 - accuracy: 0.7628\n",
            "Epoch 435/1000\n",
            "5/5 [==============================] - 0s 5ms/step - loss: 0.3430 - accuracy: 0.7692\n",
            "Epoch 436/1000\n",
            "5/5 [==============================] - 0s 5ms/step - loss: 0.3428 - accuracy: 0.7692\n",
            "Epoch 437/1000\n",
            "5/5 [==============================] - 0s 6ms/step - loss: 0.3427 - accuracy: 0.7628\n",
            "Epoch 438/1000\n",
            "5/5 [==============================] - 0s 5ms/step - loss: 0.3425 - accuracy: 0.7692\n",
            "Epoch 439/1000\n",
            "5/5 [==============================] - 0s 6ms/step - loss: 0.3423 - accuracy: 0.7692\n",
            "Epoch 440/1000\n",
            "5/5 [==============================] - 0s 5ms/step - loss: 0.3422 - accuracy: 0.7692\n",
            "Epoch 441/1000\n",
            "5/5 [==============================] - 0s 5ms/step - loss: 0.3422 - accuracy: 0.7628\n",
            "Epoch 442/1000\n",
            "5/5 [==============================] - 0s 3ms/step - loss: 0.3419 - accuracy: 0.7692\n",
            "Epoch 443/1000\n",
            "5/5 [==============================] - 0s 4ms/step - loss: 0.3418 - accuracy: 0.7692\n",
            "Epoch 444/1000\n",
            "5/5 [==============================] - 0s 4ms/step - loss: 0.3418 - accuracy: 0.7692\n",
            "Epoch 445/1000\n",
            "5/5 [==============================] - 0s 3ms/step - loss: 0.3417 - accuracy: 0.7692\n",
            "Epoch 446/1000\n",
            "5/5 [==============================] - 0s 4ms/step - loss: 0.3414 - accuracy: 0.7692\n",
            "Epoch 447/1000\n",
            "5/5 [==============================] - 0s 4ms/step - loss: 0.3413 - accuracy: 0.7692\n",
            "Epoch 448/1000\n",
            "5/5 [==============================] - 0s 4ms/step - loss: 0.3412 - accuracy: 0.7692\n",
            "Epoch 449/1000\n",
            "5/5 [==============================] - 0s 3ms/step - loss: 0.3411 - accuracy: 0.7692\n",
            "Epoch 450/1000\n",
            "5/5 [==============================] - 0s 4ms/step - loss: 0.3409 - accuracy: 0.7692\n",
            "Epoch 451/1000\n",
            "5/5 [==============================] - 0s 4ms/step - loss: 0.3408 - accuracy: 0.7692\n",
            "Epoch 452/1000\n",
            "5/5 [==============================] - 0s 4ms/step - loss: 0.3407 - accuracy: 0.7692\n",
            "Epoch 453/1000\n",
            "5/5 [==============================] - 0s 6ms/step - loss: 0.3405 - accuracy: 0.7692\n",
            "Epoch 454/1000\n",
            "5/5 [==============================] - 0s 5ms/step - loss: 0.3405 - accuracy: 0.7692\n",
            "Epoch 455/1000\n",
            "5/5 [==============================] - 0s 4ms/step - loss: 0.3405 - accuracy: 0.7692\n",
            "Epoch 456/1000\n",
            "5/5 [==============================] - 0s 4ms/step - loss: 0.3402 - accuracy: 0.7692\n",
            "Epoch 457/1000\n",
            "5/5 [==============================] - 0s 4ms/step - loss: 0.3401 - accuracy: 0.7692\n",
            "Epoch 458/1000\n",
            "5/5 [==============================] - 0s 4ms/step - loss: 0.3400 - accuracy: 0.7692\n",
            "Epoch 459/1000\n",
            "5/5 [==============================] - 0s 4ms/step - loss: 0.3399 - accuracy: 0.7692\n",
            "Epoch 460/1000\n",
            "5/5 [==============================] - 0s 5ms/step - loss: 0.3399 - accuracy: 0.7692\n",
            "Epoch 461/1000\n",
            "5/5 [==============================] - 0s 4ms/step - loss: 0.3398 - accuracy: 0.7692\n",
            "Epoch 462/1000\n",
            "5/5 [==============================] - 0s 5ms/step - loss: 0.3395 - accuracy: 0.7756\n",
            "Epoch 463/1000\n",
            "5/5 [==============================] - 0s 4ms/step - loss: 0.3395 - accuracy: 0.7756\n",
            "Epoch 464/1000\n",
            "5/5 [==============================] - 0s 5ms/step - loss: 0.3395 - accuracy: 0.7756\n",
            "Epoch 465/1000\n",
            "5/5 [==============================] - 0s 4ms/step - loss: 0.3392 - accuracy: 0.7756\n",
            "Epoch 466/1000\n",
            "5/5 [==============================] - 0s 5ms/step - loss: 0.3391 - accuracy: 0.7756\n",
            "Epoch 467/1000\n",
            "5/5 [==============================] - 0s 6ms/step - loss: 0.3390 - accuracy: 0.7756\n",
            "Epoch 468/1000\n",
            "5/5 [==============================] - 0s 5ms/step - loss: 0.3390 - accuracy: 0.7756\n",
            "Epoch 469/1000\n",
            "5/5 [==============================] - 0s 5ms/step - loss: 0.3389 - accuracy: 0.7756\n",
            "Epoch 470/1000\n",
            "5/5 [==============================] - 0s 5ms/step - loss: 0.3387 - accuracy: 0.7756\n",
            "Epoch 471/1000\n",
            "5/5 [==============================] - 0s 5ms/step - loss: 0.3386 - accuracy: 0.7821\n",
            "Epoch 472/1000\n",
            "5/5 [==============================] - 0s 7ms/step - loss: 0.3386 - accuracy: 0.7821\n",
            "Epoch 473/1000\n",
            "5/5 [==============================] - 0s 7ms/step - loss: 0.3385 - accuracy: 0.7821\n",
            "Epoch 474/1000\n",
            "5/5 [==============================] - 0s 5ms/step - loss: 0.3384 - accuracy: 0.7821\n",
            "Epoch 475/1000\n",
            "5/5 [==============================] - 0s 6ms/step - loss: 0.3383 - accuracy: 0.7821\n",
            "Epoch 476/1000\n",
            "5/5 [==============================] - 0s 6ms/step - loss: 0.3382 - accuracy: 0.7756\n",
            "Epoch 477/1000\n",
            "5/5 [==============================] - 0s 6ms/step - loss: 0.3381 - accuracy: 0.7756\n",
            "Epoch 478/1000\n",
            "5/5 [==============================] - 0s 5ms/step - loss: 0.3380 - accuracy: 0.7756\n",
            "Epoch 479/1000\n",
            "5/5 [==============================] - 0s 6ms/step - loss: 0.3379 - accuracy: 0.7821\n",
            "Epoch 480/1000\n",
            "5/5 [==============================] - 0s 4ms/step - loss: 0.3378 - accuracy: 0.7821\n",
            "Epoch 481/1000\n",
            "5/5 [==============================] - 0s 5ms/step - loss: 0.3378 - accuracy: 0.7821\n",
            "Epoch 482/1000\n",
            "5/5 [==============================] - 0s 5ms/step - loss: 0.3377 - accuracy: 0.7821\n",
            "Epoch 483/1000\n",
            "5/5 [==============================] - 0s 5ms/step - loss: 0.3378 - accuracy: 0.7821\n",
            "Epoch 484/1000\n",
            "5/5 [==============================] - 0s 6ms/step - loss: 0.3376 - accuracy: 0.7821\n",
            "Epoch 485/1000\n",
            "5/5 [==============================] - 0s 4ms/step - loss: 0.3374 - accuracy: 0.7821\n",
            "Epoch 486/1000\n",
            "5/5 [==============================] - 0s 4ms/step - loss: 0.3373 - accuracy: 0.7821\n",
            "Epoch 487/1000\n",
            "5/5 [==============================] - 0s 4ms/step - loss: 0.3372 - accuracy: 0.7821\n",
            "Epoch 488/1000\n",
            "5/5 [==============================] - 0s 5ms/step - loss: 0.3372 - accuracy: 0.7821\n",
            "Epoch 489/1000\n",
            "5/5 [==============================] - 0s 5ms/step - loss: 0.3371 - accuracy: 0.7821\n",
            "Epoch 490/1000\n",
            "5/5 [==============================] - 0s 7ms/step - loss: 0.3370 - accuracy: 0.7821\n",
            "Epoch 491/1000\n",
            "5/5 [==============================] - 0s 8ms/step - loss: 0.3370 - accuracy: 0.7821\n",
            "Epoch 492/1000\n",
            "5/5 [==============================] - 0s 5ms/step - loss: 0.3369 - accuracy: 0.7821\n",
            "Epoch 493/1000\n",
            "5/5 [==============================] - 0s 7ms/step - loss: 0.3367 - accuracy: 0.7821\n",
            "Epoch 494/1000\n",
            "5/5 [==============================] - 0s 5ms/step - loss: 0.3367 - accuracy: 0.7821\n",
            "Epoch 495/1000\n",
            "5/5 [==============================] - 0s 7ms/step - loss: 0.3366 - accuracy: 0.7821\n",
            "Epoch 496/1000\n",
            "5/5 [==============================] - 0s 7ms/step - loss: 0.3365 - accuracy: 0.7821\n",
            "Epoch 497/1000\n",
            "5/5 [==============================] - 0s 7ms/step - loss: 0.3364 - accuracy: 0.7821\n",
            "Epoch 498/1000\n",
            "5/5 [==============================] - 0s 6ms/step - loss: 0.3364 - accuracy: 0.7821\n",
            "Epoch 499/1000\n",
            "5/5 [==============================] - 0s 6ms/step - loss: 0.3363 - accuracy: 0.7821\n",
            "Epoch 500/1000\n",
            "5/5 [==============================] - 0s 6ms/step - loss: 0.3363 - accuracy: 0.7821\n",
            "Epoch 501/1000\n",
            "5/5 [==============================] - 0s 6ms/step - loss: 0.3363 - accuracy: 0.7821\n",
            "Epoch 502/1000\n",
            "5/5 [==============================] - 0s 6ms/step - loss: 0.3361 - accuracy: 0.7821\n",
            "Epoch 503/1000\n",
            "5/5 [==============================] - 0s 5ms/step - loss: 0.3360 - accuracy: 0.7821\n",
            "Epoch 504/1000\n",
            "5/5 [==============================] - 0s 5ms/step - loss: 0.3361 - accuracy: 0.7821\n",
            "Epoch 505/1000\n",
            "5/5 [==============================] - 0s 5ms/step - loss: 0.3359 - accuracy: 0.7821\n",
            "Epoch 506/1000\n",
            "5/5 [==============================] - 0s 5ms/step - loss: 0.3359 - accuracy: 0.7821\n",
            "Epoch 507/1000\n",
            "5/5 [==============================] - 0s 6ms/step - loss: 0.3358 - accuracy: 0.7821\n",
            "Epoch 508/1000\n",
            "5/5 [==============================] - 0s 6ms/step - loss: 0.3357 - accuracy: 0.7821\n",
            "Epoch 509/1000\n",
            "5/5 [==============================] - 0s 6ms/step - loss: 0.3356 - accuracy: 0.7821\n",
            "Epoch 510/1000\n",
            "5/5 [==============================] - 0s 6ms/step - loss: 0.3356 - accuracy: 0.7821\n",
            "Epoch 511/1000\n",
            "5/5 [==============================] - 0s 6ms/step - loss: 0.3356 - accuracy: 0.7821\n",
            "Epoch 512/1000\n",
            "5/5 [==============================] - 0s 6ms/step - loss: 0.3355 - accuracy: 0.7821\n",
            "Epoch 513/1000\n",
            "5/5 [==============================] - 0s 6ms/step - loss: 0.3354 - accuracy: 0.7821\n",
            "Epoch 514/1000\n",
            "5/5 [==============================] - 0s 4ms/step - loss: 0.3354 - accuracy: 0.7821\n",
            "Epoch 515/1000\n",
            "5/5 [==============================] - 0s 5ms/step - loss: 0.3353 - accuracy: 0.7821\n",
            "Epoch 516/1000\n",
            "5/5 [==============================] - 0s 5ms/step - loss: 0.3353 - accuracy: 0.7821\n",
            "Epoch 517/1000\n",
            "5/5 [==============================] - 0s 6ms/step - loss: 0.3351 - accuracy: 0.7821\n",
            "Epoch 518/1000\n",
            "5/5 [==============================] - 0s 6ms/step - loss: 0.3351 - accuracy: 0.7821\n",
            "Epoch 519/1000\n",
            "5/5 [==============================] - 0s 5ms/step - loss: 0.3350 - accuracy: 0.7821\n",
            "Epoch 520/1000\n",
            "5/5 [==============================] - 0s 5ms/step - loss: 0.3350 - accuracy: 0.7821\n",
            "Epoch 521/1000\n",
            "5/5 [==============================] - 0s 4ms/step - loss: 0.3349 - accuracy: 0.7821\n",
            "Epoch 522/1000\n",
            "5/5 [==============================] - 0s 5ms/step - loss: 0.3349 - accuracy: 0.7821\n",
            "Epoch 523/1000\n",
            "5/5 [==============================] - 0s 5ms/step - loss: 0.3349 - accuracy: 0.7821\n",
            "Epoch 524/1000\n",
            "5/5 [==============================] - 0s 5ms/step - loss: 0.3347 - accuracy: 0.7821\n",
            "Epoch 525/1000\n",
            "5/5 [==============================] - 0s 7ms/step - loss: 0.3347 - accuracy: 0.7821\n",
            "Epoch 526/1000\n",
            "5/5 [==============================] - 0s 5ms/step - loss: 0.3347 - accuracy: 0.7821\n",
            "Epoch 527/1000\n",
            "5/5 [==============================] - 0s 4ms/step - loss: 0.3346 - accuracy: 0.7821\n",
            "Epoch 528/1000\n",
            "5/5 [==============================] - 0s 4ms/step - loss: 0.3345 - accuracy: 0.7821\n",
            "Epoch 529/1000\n",
            "5/5 [==============================] - 0s 4ms/step - loss: 0.3345 - accuracy: 0.7821\n",
            "Epoch 530/1000\n",
            "5/5 [==============================] - 0s 6ms/step - loss: 0.3344 - accuracy: 0.7821\n",
            "Epoch 531/1000\n",
            "5/5 [==============================] - 0s 5ms/step - loss: 0.3344 - accuracy: 0.7821\n",
            "Epoch 532/1000\n",
            "5/5 [==============================] - 0s 4ms/step - loss: 0.3343 - accuracy: 0.7821\n",
            "Epoch 533/1000\n",
            "5/5 [==============================] - 0s 4ms/step - loss: 0.3343 - accuracy: 0.7821\n",
            "Epoch 534/1000\n",
            "5/5 [==============================] - 0s 4ms/step - loss: 0.3343 - accuracy: 0.7821\n",
            "Epoch 535/1000\n",
            "5/5 [==============================] - 0s 4ms/step - loss: 0.3342 - accuracy: 0.7821\n",
            "Epoch 536/1000\n",
            "5/5 [==============================] - 0s 4ms/step - loss: 0.3342 - accuracy: 0.7821\n",
            "Epoch 537/1000\n",
            "5/5 [==============================] - 0s 4ms/step - loss: 0.3341 - accuracy: 0.7821\n",
            "Epoch 538/1000\n",
            "5/5 [==============================] - 0s 5ms/step - loss: 0.3341 - accuracy: 0.7821\n",
            "Epoch 539/1000\n",
            "5/5 [==============================] - 0s 6ms/step - loss: 0.3340 - accuracy: 0.7821\n",
            "Epoch 540/1000\n",
            "5/5 [==============================] - 0s 4ms/step - loss: 0.3340 - accuracy: 0.7821\n",
            "Epoch 541/1000\n",
            "5/5 [==============================] - 0s 4ms/step - loss: 0.3339 - accuracy: 0.7821\n",
            "Epoch 542/1000\n",
            "5/5 [==============================] - 0s 4ms/step - loss: 0.3339 - accuracy: 0.7821\n",
            "Epoch 543/1000\n",
            "5/5 [==============================] - 0s 4ms/step - loss: 0.3338 - accuracy: 0.7821\n",
            "Epoch 544/1000\n",
            "5/5 [==============================] - 0s 6ms/step - loss: 0.3338 - accuracy: 0.7821\n",
            "Epoch 545/1000\n",
            "5/5 [==============================] - 0s 6ms/step - loss: 0.3338 - accuracy: 0.7821\n",
            "Epoch 546/1000\n",
            "5/5 [==============================] - 0s 4ms/step - loss: 0.3337 - accuracy: 0.7821\n",
            "Epoch 547/1000\n",
            "5/5 [==============================] - 0s 4ms/step - loss: 0.3336 - accuracy: 0.7821\n",
            "Epoch 548/1000\n",
            "5/5 [==============================] - 0s 5ms/step - loss: 0.3336 - accuracy: 0.7885\n",
            "Epoch 549/1000\n",
            "5/5 [==============================] - 0s 4ms/step - loss: 0.3335 - accuracy: 0.7821\n",
            "Epoch 550/1000\n",
            "5/5 [==============================] - 0s 4ms/step - loss: 0.3335 - accuracy: 0.7885\n",
            "Epoch 551/1000\n",
            "5/5 [==============================] - 0s 5ms/step - loss: 0.3335 - accuracy: 0.7885\n",
            "Epoch 552/1000\n",
            "5/5 [==============================] - 0s 5ms/step - loss: 0.3335 - accuracy: 0.7885\n",
            "Epoch 553/1000\n",
            "5/5 [==============================] - 0s 5ms/step - loss: 0.3334 - accuracy: 0.7885\n",
            "Epoch 554/1000\n",
            "5/5 [==============================] - 0s 5ms/step - loss: 0.3333 - accuracy: 0.7885\n",
            "Epoch 555/1000\n",
            "5/5 [==============================] - 0s 4ms/step - loss: 0.3333 - accuracy: 0.7885\n",
            "Epoch 556/1000\n",
            "5/5 [==============================] - 0s 4ms/step - loss: 0.3333 - accuracy: 0.7885\n",
            "Epoch 557/1000\n",
            "5/5 [==============================] - 0s 4ms/step - loss: 0.3332 - accuracy: 0.7885\n",
            "Epoch 558/1000\n",
            "5/5 [==============================] - 0s 5ms/step - loss: 0.3332 - accuracy: 0.7885\n",
            "Epoch 559/1000\n",
            "5/5 [==============================] - 0s 5ms/step - loss: 0.3331 - accuracy: 0.7885\n",
            "Epoch 560/1000\n",
            "5/5 [==============================] - 0s 5ms/step - loss: 0.3331 - accuracy: 0.7885\n",
            "Epoch 561/1000\n",
            "5/5 [==============================] - 0s 6ms/step - loss: 0.3331 - accuracy: 0.7885\n",
            "Epoch 562/1000\n",
            "5/5 [==============================] - 0s 6ms/step - loss: 0.3330 - accuracy: 0.7885\n",
            "Epoch 563/1000\n",
            "5/5 [==============================] - 0s 5ms/step - loss: 0.3330 - accuracy: 0.7885\n",
            "Epoch 564/1000\n",
            "5/5 [==============================] - 0s 5ms/step - loss: 0.3330 - accuracy: 0.7885\n",
            "Epoch 565/1000\n",
            "5/5 [==============================] - 0s 5ms/step - loss: 0.3329 - accuracy: 0.7885\n",
            "Epoch 566/1000\n",
            "5/5 [==============================] - 0s 5ms/step - loss: 0.3329 - accuracy: 0.7885\n",
            "Epoch 567/1000\n",
            "5/5 [==============================] - 0s 4ms/step - loss: 0.3329 - accuracy: 0.7885\n",
            "Epoch 568/1000\n",
            "5/5 [==============================] - 0s 6ms/step - loss: 0.3328 - accuracy: 0.7885\n",
            "Epoch 569/1000\n",
            "5/5 [==============================] - 0s 5ms/step - loss: 0.3328 - accuracy: 0.7885\n",
            "Epoch 570/1000\n",
            "5/5 [==============================] - 0s 5ms/step - loss: 0.3328 - accuracy: 0.7885\n",
            "Epoch 571/1000\n",
            "5/5 [==============================] - 0s 5ms/step - loss: 0.3327 - accuracy: 0.7885\n",
            "Epoch 572/1000\n",
            "5/5 [==============================] - 0s 4ms/step - loss: 0.3326 - accuracy: 0.7885\n",
            "Epoch 573/1000\n",
            "5/5 [==============================] - 0s 4ms/step - loss: 0.3326 - accuracy: 0.7885\n",
            "Epoch 574/1000\n",
            "5/5 [==============================] - 0s 4ms/step - loss: 0.3326 - accuracy: 0.7885\n",
            "Epoch 575/1000\n",
            "5/5 [==============================] - 0s 4ms/step - loss: 0.3325 - accuracy: 0.7885\n",
            "Epoch 576/1000\n",
            "5/5 [==============================] - 0s 5ms/step - loss: 0.3325 - accuracy: 0.7885\n",
            "Epoch 577/1000\n",
            "5/5 [==============================] - 0s 7ms/step - loss: 0.3325 - accuracy: 0.7885\n",
            "Epoch 578/1000\n",
            "5/5 [==============================] - 0s 6ms/step - loss: 0.3325 - accuracy: 0.7885\n",
            "Epoch 579/1000\n",
            "5/5 [==============================] - 0s 6ms/step - loss: 0.3324 - accuracy: 0.7885\n",
            "Epoch 580/1000\n",
            "5/5 [==============================] - 0s 6ms/step - loss: 0.3324 - accuracy: 0.7885\n",
            "Epoch 581/1000\n",
            "5/5 [==============================] - 0s 7ms/step - loss: 0.3323 - accuracy: 0.7885\n",
            "Epoch 582/1000\n",
            "5/5 [==============================] - 0s 6ms/step - loss: 0.3323 - accuracy: 0.7885\n",
            "Epoch 583/1000\n",
            "5/5 [==============================] - 0s 7ms/step - loss: 0.3323 - accuracy: 0.7885\n",
            "Epoch 584/1000\n",
            "5/5 [==============================] - 0s 7ms/step - loss: 0.3323 - accuracy: 0.7885\n",
            "Epoch 585/1000\n",
            "5/5 [==============================] - 0s 5ms/step - loss: 0.3322 - accuracy: 0.7885\n",
            "Epoch 586/1000\n",
            "5/5 [==============================] - 0s 6ms/step - loss: 0.3322 - accuracy: 0.7885\n",
            "Epoch 587/1000\n",
            "5/5 [==============================] - 0s 5ms/step - loss: 0.3322 - accuracy: 0.7885\n",
            "Epoch 588/1000\n",
            "5/5 [==============================] - 0s 4ms/step - loss: 0.3321 - accuracy: 0.7885\n",
            "Epoch 589/1000\n",
            "5/5 [==============================] - 0s 4ms/step - loss: 0.3321 - accuracy: 0.7885\n",
            "Epoch 590/1000\n",
            "5/5 [==============================] - 0s 8ms/step - loss: 0.3321 - accuracy: 0.7885\n",
            "Epoch 591/1000\n",
            "5/5 [==============================] - 0s 5ms/step - loss: 0.3320 - accuracy: 0.7885\n",
            "Epoch 592/1000\n",
            "5/5 [==============================] - 0s 4ms/step - loss: 0.3320 - accuracy: 0.7885\n",
            "Epoch 593/1000\n",
            "5/5 [==============================] - 0s 5ms/step - loss: 0.3320 - accuracy: 0.7885\n",
            "Epoch 594/1000\n",
            "5/5 [==============================] - 0s 5ms/step - loss: 0.3319 - accuracy: 0.7885\n",
            "Epoch 595/1000\n",
            "5/5 [==============================] - 0s 5ms/step - loss: 0.3319 - accuracy: 0.7885\n",
            "Epoch 596/1000\n",
            "5/5 [==============================] - 0s 5ms/step - loss: 0.3319 - accuracy: 0.7885\n",
            "Epoch 597/1000\n",
            "5/5 [==============================] - 0s 5ms/step - loss: 0.3320 - accuracy: 0.7885\n",
            "Epoch 598/1000\n",
            "5/5 [==============================] - 0s 5ms/step - loss: 0.3318 - accuracy: 0.7885\n",
            "Epoch 599/1000\n",
            "5/5 [==============================] - 0s 5ms/step - loss: 0.3318 - accuracy: 0.7885\n",
            "Epoch 600/1000\n",
            "5/5 [==============================] - 0s 5ms/step - loss: 0.3318 - accuracy: 0.7885\n",
            "Epoch 601/1000\n",
            "5/5 [==============================] - 0s 4ms/step - loss: 0.3318 - accuracy: 0.7885\n",
            "Epoch 602/1000\n",
            "5/5 [==============================] - 0s 6ms/step - loss: 0.3317 - accuracy: 0.7885\n",
            "Epoch 603/1000\n",
            "5/5 [==============================] - 0s 5ms/step - loss: 0.3318 - accuracy: 0.7885\n",
            "Epoch 604/1000\n",
            "5/5 [==============================] - 0s 6ms/step - loss: 0.3317 - accuracy: 0.7885\n",
            "Epoch 605/1000\n",
            "5/5 [==============================] - 0s 5ms/step - loss: 0.3316 - accuracy: 0.7885\n",
            "Epoch 606/1000\n",
            "5/5 [==============================] - 0s 7ms/step - loss: 0.3316 - accuracy: 0.7885\n",
            "Epoch 607/1000\n",
            "5/5 [==============================] - 0s 4ms/step - loss: 0.3316 - accuracy: 0.7885\n",
            "Epoch 608/1000\n",
            "5/5 [==============================] - 0s 5ms/step - loss: 0.3316 - accuracy: 0.7885\n",
            "Epoch 609/1000\n",
            "5/5 [==============================] - 0s 5ms/step - loss: 0.3316 - accuracy: 0.7885\n",
            "Epoch 610/1000\n",
            "5/5 [==============================] - 0s 5ms/step - loss: 0.3315 - accuracy: 0.7885\n",
            "Epoch 611/1000\n",
            "5/5 [==============================] - 0s 4ms/step - loss: 0.3315 - accuracy: 0.7885\n",
            "Epoch 612/1000\n",
            "5/5 [==============================] - 0s 5ms/step - loss: 0.3315 - accuracy: 0.7885\n",
            "Epoch 613/1000\n",
            "5/5 [==============================] - 0s 5ms/step - loss: 0.3314 - accuracy: 0.7885\n",
            "Epoch 614/1000\n",
            "5/5 [==============================] - 0s 4ms/step - loss: 0.3314 - accuracy: 0.7885\n",
            "Epoch 615/1000\n",
            "5/5 [==============================] - 0s 4ms/step - loss: 0.3314 - accuracy: 0.7885\n",
            "Epoch 616/1000\n",
            "5/5 [==============================] - 0s 4ms/step - loss: 0.3314 - accuracy: 0.7885\n",
            "Epoch 617/1000\n",
            "5/5 [==============================] - 0s 6ms/step - loss: 0.3314 - accuracy: 0.7885\n",
            "Epoch 618/1000\n",
            "5/5 [==============================] - 0s 5ms/step - loss: 0.3313 - accuracy: 0.7885\n",
            "Epoch 619/1000\n",
            "5/5 [==============================] - 0s 5ms/step - loss: 0.3313 - accuracy: 0.7885\n",
            "Epoch 620/1000\n",
            "5/5 [==============================] - 0s 5ms/step - loss: 0.3313 - accuracy: 0.7885\n",
            "Epoch 621/1000\n",
            "5/5 [==============================] - 0s 5ms/step - loss: 0.3312 - accuracy: 0.7885\n",
            "Epoch 622/1000\n",
            "5/5 [==============================] - 0s 5ms/step - loss: 0.3313 - accuracy: 0.7885\n",
            "Epoch 623/1000\n",
            "5/5 [==============================] - 0s 5ms/step - loss: 0.3312 - accuracy: 0.7885\n",
            "Epoch 624/1000\n",
            "5/5 [==============================] - 0s 5ms/step - loss: 0.3312 - accuracy: 0.7885\n",
            "Epoch 625/1000\n",
            "5/5 [==============================] - 0s 6ms/step - loss: 0.3311 - accuracy: 0.7885\n",
            "Epoch 626/1000\n",
            "5/5 [==============================] - 0s 7ms/step - loss: 0.3311 - accuracy: 0.7885\n",
            "Epoch 627/1000\n",
            "5/5 [==============================] - 0s 4ms/step - loss: 0.3312 - accuracy: 0.7885\n",
            "Epoch 628/1000\n",
            "5/5 [==============================] - 0s 4ms/step - loss: 0.3312 - accuracy: 0.7885\n",
            "Epoch 629/1000\n",
            "5/5 [==============================] - 0s 5ms/step - loss: 0.3310 - accuracy: 0.7885\n",
            "Epoch 630/1000\n",
            "5/5 [==============================] - 0s 5ms/step - loss: 0.3310 - accuracy: 0.7885\n",
            "Epoch 631/1000\n",
            "5/5 [==============================] - 0s 7ms/step - loss: 0.3310 - accuracy: 0.7885\n",
            "Epoch 632/1000\n",
            "5/5 [==============================] - 0s 6ms/step - loss: 0.3310 - accuracy: 0.7885\n",
            "Epoch 633/1000\n",
            "5/5 [==============================] - 0s 6ms/step - loss: 0.3310 - accuracy: 0.7885\n",
            "Epoch 634/1000\n",
            "5/5 [==============================] - 0s 6ms/step - loss: 0.3309 - accuracy: 0.7885\n",
            "Epoch 635/1000\n",
            "5/5 [==============================] - 0s 6ms/step - loss: 0.3310 - accuracy: 0.7885\n",
            "Epoch 636/1000\n",
            "5/5 [==============================] - 0s 6ms/step - loss: 0.3309 - accuracy: 0.7885\n",
            "Epoch 637/1000\n",
            "5/5 [==============================] - 0s 7ms/step - loss: 0.3309 - accuracy: 0.7885\n",
            "Epoch 638/1000\n",
            "5/5 [==============================] - 0s 7ms/step - loss: 0.3309 - accuracy: 0.7885\n",
            "Epoch 639/1000\n",
            "5/5 [==============================] - 0s 6ms/step - loss: 0.3308 - accuracy: 0.7885\n",
            "Epoch 640/1000\n",
            "5/5 [==============================] - 0s 6ms/step - loss: 0.3308 - accuracy: 0.7885\n",
            "Epoch 641/1000\n",
            "5/5 [==============================] - 0s 7ms/step - loss: 0.3308 - accuracy: 0.7885\n",
            "Epoch 642/1000\n",
            "5/5 [==============================] - 0s 7ms/step - loss: 0.3308 - accuracy: 0.7885\n",
            "Epoch 643/1000\n",
            "5/5 [==============================] - 0s 6ms/step - loss: 0.3308 - accuracy: 0.7885\n",
            "Epoch 644/1000\n",
            "5/5 [==============================] - 0s 6ms/step - loss: 0.3308 - accuracy: 0.7885\n",
            "Epoch 645/1000\n",
            "5/5 [==============================] - 0s 7ms/step - loss: 0.3307 - accuracy: 0.7885\n",
            "Epoch 646/1000\n",
            "5/5 [==============================] - 0s 6ms/step - loss: 0.3307 - accuracy: 0.7885\n",
            "Epoch 647/1000\n",
            "5/5 [==============================] - 0s 6ms/step - loss: 0.3308 - accuracy: 0.7885\n",
            "Epoch 648/1000\n",
            "5/5 [==============================] - 0s 6ms/step - loss: 0.3307 - accuracy: 0.7885\n",
            "Epoch 649/1000\n",
            "5/5 [==============================] - 0s 6ms/step - loss: 0.3307 - accuracy: 0.7885\n",
            "Epoch 650/1000\n",
            "5/5 [==============================] - 0s 6ms/step - loss: 0.3306 - accuracy: 0.7885\n",
            "Epoch 651/1000\n",
            "5/5 [==============================] - 0s 6ms/step - loss: 0.3306 - accuracy: 0.7885\n",
            "Epoch 652/1000\n",
            "5/5 [==============================] - 0s 6ms/step - loss: 0.3306 - accuracy: 0.7885\n",
            "Epoch 653/1000\n",
            "5/5 [==============================] - 0s 5ms/step - loss: 0.3306 - accuracy: 0.7885\n",
            "Epoch 654/1000\n",
            "5/5 [==============================] - 0s 6ms/step - loss: 0.3306 - accuracy: 0.7885\n",
            "Epoch 655/1000\n",
            "5/5 [==============================] - 0s 5ms/step - loss: 0.3306 - accuracy: 0.7885\n",
            "Epoch 656/1000\n",
            "5/5 [==============================] - 0s 4ms/step - loss: 0.3305 - accuracy: 0.7885\n",
            "Epoch 657/1000\n",
            "5/5 [==============================] - 0s 5ms/step - loss: 0.3305 - accuracy: 0.7885\n",
            "Epoch 658/1000\n",
            "5/5 [==============================] - 0s 5ms/step - loss: 0.3305 - accuracy: 0.7885\n",
            "Epoch 659/1000\n",
            "5/5 [==============================] - 0s 5ms/step - loss: 0.3305 - accuracy: 0.7885\n",
            "Epoch 660/1000\n",
            "5/5 [==============================] - 0s 5ms/step - loss: 0.3305 - accuracy: 0.7885\n",
            "Epoch 661/1000\n",
            "5/5 [==============================] - 0s 7ms/step - loss: 0.3305 - accuracy: 0.7885\n",
            "Epoch 662/1000\n",
            "5/5 [==============================] - 0s 5ms/step - loss: 0.3304 - accuracy: 0.7885\n",
            "Epoch 663/1000\n",
            "5/5 [==============================] - 0s 5ms/step - loss: 0.3304 - accuracy: 0.7885\n",
            "Epoch 664/1000\n",
            "5/5 [==============================] - 0s 4ms/step - loss: 0.3304 - accuracy: 0.7885\n",
            "Epoch 665/1000\n",
            "5/5 [==============================] - 0s 6ms/step - loss: 0.3304 - accuracy: 0.7885\n",
            "Epoch 666/1000\n",
            "5/5 [==============================] - 0s 5ms/step - loss: 0.3303 - accuracy: 0.7885\n",
            "Epoch 667/1000\n",
            "5/5 [==============================] - 0s 5ms/step - loss: 0.3303 - accuracy: 0.7885\n",
            "Epoch 668/1000\n",
            "5/5 [==============================] - 0s 4ms/step - loss: 0.3303 - accuracy: 0.7885\n",
            "Epoch 669/1000\n",
            "5/5 [==============================] - 0s 5ms/step - loss: 0.3303 - accuracy: 0.7885\n",
            "Epoch 670/1000\n",
            "5/5 [==============================] - 0s 5ms/step - loss: 0.3303 - accuracy: 0.7885\n",
            "Epoch 671/1000\n",
            "5/5 [==============================] - 0s 6ms/step - loss: 0.3303 - accuracy: 0.7885\n",
            "Epoch 672/1000\n",
            "5/5 [==============================] - 0s 5ms/step - loss: 0.3303 - accuracy: 0.7885\n",
            "Epoch 673/1000\n",
            "5/5 [==============================] - 0s 6ms/step - loss: 0.3302 - accuracy: 0.7885\n",
            "Epoch 674/1000\n",
            "5/5 [==============================] - 0s 5ms/step - loss: 0.3302 - accuracy: 0.7885\n",
            "Epoch 675/1000\n",
            "5/5 [==============================] - 0s 6ms/step - loss: 0.3302 - accuracy: 0.7885\n",
            "Epoch 676/1000\n",
            "5/5 [==============================] - 0s 6ms/step - loss: 0.3302 - accuracy: 0.7885\n",
            "Epoch 677/1000\n",
            "5/5 [==============================] - 0s 6ms/step - loss: 0.3302 - accuracy: 0.7885\n",
            "Epoch 678/1000\n",
            "5/5 [==============================] - 0s 5ms/step - loss: 0.3302 - accuracy: 0.7885\n",
            "Epoch 679/1000\n",
            "5/5 [==============================] - 0s 5ms/step - loss: 0.3301 - accuracy: 0.7885\n",
            "Epoch 680/1000\n",
            "5/5 [==============================] - 0s 6ms/step - loss: 0.3301 - accuracy: 0.7885\n",
            "Epoch 681/1000\n",
            "5/5 [==============================] - 0s 5ms/step - loss: 0.3301 - accuracy: 0.7885\n",
            "Epoch 682/1000\n",
            "5/5 [==============================] - 0s 5ms/step - loss: 0.3301 - accuracy: 0.7885\n",
            "Epoch 683/1000\n",
            "5/5 [==============================] - 0s 5ms/step - loss: 0.3301 - accuracy: 0.7885\n",
            "Epoch 684/1000\n",
            "5/5 [==============================] - 0s 5ms/step - loss: 0.3301 - accuracy: 0.7885\n",
            "Epoch 685/1000\n",
            "5/5 [==============================] - 0s 6ms/step - loss: 0.3301 - accuracy: 0.7885\n",
            "Epoch 686/1000\n",
            "5/5 [==============================] - 0s 5ms/step - loss: 0.3300 - accuracy: 0.7885\n",
            "Epoch 687/1000\n",
            "5/5 [==============================] - 0s 5ms/step - loss: 0.3300 - accuracy: 0.7885\n",
            "Epoch 688/1000\n",
            "5/5 [==============================] - 0s 4ms/step - loss: 0.3301 - accuracy: 0.7885\n",
            "Epoch 689/1000\n",
            "5/5 [==============================] - 0s 4ms/step - loss: 0.3300 - accuracy: 0.7885\n",
            "Epoch 690/1000\n",
            "5/5 [==============================] - 0s 5ms/step - loss: 0.3300 - accuracy: 0.7885\n",
            "Epoch 691/1000\n",
            "5/5 [==============================] - 0s 6ms/step - loss: 0.3300 - accuracy: 0.7885\n",
            "Epoch 692/1000\n",
            "5/5 [==============================] - 0s 7ms/step - loss: 0.3300 - accuracy: 0.7885\n",
            "Epoch 693/1000\n",
            "5/5 [==============================] - 0s 7ms/step - loss: 0.3299 - accuracy: 0.7885\n",
            "Epoch 694/1000\n",
            "5/5 [==============================] - 0s 5ms/step - loss: 0.3299 - accuracy: 0.7885\n",
            "Epoch 695/1000\n",
            "5/5 [==============================] - 0s 5ms/step - loss: 0.3300 - accuracy: 0.7885\n",
            "Epoch 696/1000\n",
            "5/5 [==============================] - 0s 5ms/step - loss: 0.3300 - accuracy: 0.7885\n",
            "Epoch 697/1000\n",
            "5/5 [==============================] - 0s 5ms/step - loss: 0.3299 - accuracy: 0.7885\n",
            "Epoch 698/1000\n",
            "5/5 [==============================] - 0s 5ms/step - loss: 0.3299 - accuracy: 0.7885\n",
            "Epoch 699/1000\n",
            "5/5 [==============================] - 0s 4ms/step - loss: 0.3299 - accuracy: 0.7885\n",
            "Epoch 700/1000\n",
            "5/5 [==============================] - 0s 5ms/step - loss: 0.3298 - accuracy: 0.7885\n",
            "Epoch 701/1000\n",
            "5/5 [==============================] - 0s 5ms/step - loss: 0.3298 - accuracy: 0.7885\n",
            "Epoch 702/1000\n",
            "5/5 [==============================] - 0s 4ms/step - loss: 0.3298 - accuracy: 0.7885\n",
            "Epoch 703/1000\n",
            "5/5 [==============================] - 0s 6ms/step - loss: 0.3298 - accuracy: 0.7885\n",
            "Epoch 704/1000\n",
            "5/5 [==============================] - 0s 5ms/step - loss: 0.3298 - accuracy: 0.7885\n",
            "Epoch 705/1000\n",
            "5/5 [==============================] - 0s 5ms/step - loss: 0.3298 - accuracy: 0.7885\n",
            "Epoch 706/1000\n",
            "5/5 [==============================] - 0s 5ms/step - loss: 0.3298 - accuracy: 0.7885\n",
            "Epoch 707/1000\n",
            "5/5 [==============================] - 0s 5ms/step - loss: 0.3297 - accuracy: 0.7885\n",
            "Epoch 708/1000\n",
            "5/5 [==============================] - 0s 5ms/step - loss: 0.3297 - accuracy: 0.7885\n",
            "Epoch 709/1000\n",
            "5/5 [==============================] - 0s 5ms/step - loss: 0.3297 - accuracy: 0.7885\n",
            "Epoch 710/1000\n",
            "5/5 [==============================] - 0s 4ms/step - loss: 0.3297 - accuracy: 0.7885\n",
            "Epoch 711/1000\n",
            "5/5 [==============================] - 0s 4ms/step - loss: 0.3297 - accuracy: 0.7885\n",
            "Epoch 712/1000\n",
            "5/5 [==============================] - 0s 5ms/step - loss: 0.3297 - accuracy: 0.7885\n",
            "Epoch 713/1000\n",
            "5/5 [==============================] - 0s 5ms/step - loss: 0.3297 - accuracy: 0.7885\n",
            "Epoch 714/1000\n",
            "5/5 [==============================] - 0s 5ms/step - loss: 0.3297 - accuracy: 0.7885\n",
            "Epoch 715/1000\n",
            "5/5 [==============================] - 0s 5ms/step - loss: 0.3296 - accuracy: 0.7885\n",
            "Epoch 716/1000\n",
            "5/5 [==============================] - 0s 5ms/step - loss: 0.3296 - accuracy: 0.7885\n",
            "Epoch 717/1000\n",
            "5/5 [==============================] - 0s 5ms/step - loss: 0.3296 - accuracy: 0.7885\n",
            "Epoch 718/1000\n",
            "5/5 [==============================] - 0s 5ms/step - loss: 0.3296 - accuracy: 0.7885\n",
            "Epoch 719/1000\n",
            "5/5 [==============================] - 0s 5ms/step - loss: 0.3296 - accuracy: 0.7885\n",
            "Epoch 720/1000\n",
            "5/5 [==============================] - 0s 5ms/step - loss: 0.3296 - accuracy: 0.7885\n",
            "Epoch 721/1000\n",
            "5/5 [==============================] - 0s 5ms/step - loss: 0.3296 - accuracy: 0.7885\n",
            "Epoch 722/1000\n",
            "5/5 [==============================] - 0s 5ms/step - loss: 0.3296 - accuracy: 0.7885\n",
            "Epoch 723/1000\n",
            "5/5 [==============================] - 0s 4ms/step - loss: 0.3296 - accuracy: 0.7885\n",
            "Epoch 724/1000\n",
            "5/5 [==============================] - 0s 6ms/step - loss: 0.3295 - accuracy: 0.7885\n",
            "Epoch 725/1000\n",
            "5/5 [==============================] - 0s 6ms/step - loss: 0.3296 - accuracy: 0.7885\n",
            "Epoch 726/1000\n",
            "5/5 [==============================] - 0s 6ms/step - loss: 0.3295 - accuracy: 0.7885\n",
            "Epoch 727/1000\n",
            "5/5 [==============================] - 0s 5ms/step - loss: 0.3295 - accuracy: 0.7885\n",
            "Epoch 728/1000\n",
            "5/5 [==============================] - 0s 4ms/step - loss: 0.3295 - accuracy: 0.7885\n",
            "Epoch 729/1000\n",
            "5/5 [==============================] - 0s 5ms/step - loss: 0.3295 - accuracy: 0.7885\n",
            "Epoch 730/1000\n",
            "5/5 [==============================] - 0s 5ms/step - loss: 0.3295 - accuracy: 0.7885\n",
            "Epoch 731/1000\n",
            "5/5 [==============================] - 0s 4ms/step - loss: 0.3295 - accuracy: 0.7885\n",
            "Epoch 732/1000\n",
            "5/5 [==============================] - 0s 4ms/step - loss: 0.3294 - accuracy: 0.7885\n",
            "Epoch 733/1000\n",
            "5/5 [==============================] - 0s 4ms/step - loss: 0.3294 - accuracy: 0.7885\n",
            "Epoch 734/1000\n",
            "5/5 [==============================] - 0s 4ms/step - loss: 0.3294 - accuracy: 0.7885\n",
            "Epoch 735/1000\n",
            "5/5 [==============================] - 0s 4ms/step - loss: 0.3294 - accuracy: 0.7885\n",
            "Epoch 736/1000\n",
            "5/5 [==============================] - 0s 4ms/step - loss: 0.3294 - accuracy: 0.7885\n",
            "Epoch 737/1000\n",
            "5/5 [==============================] - 0s 4ms/step - loss: 0.3294 - accuracy: 0.7885\n",
            "Epoch 738/1000\n",
            "5/5 [==============================] - 0s 4ms/step - loss: 0.3294 - accuracy: 0.7885\n",
            "Epoch 739/1000\n",
            "5/5 [==============================] - 0s 4ms/step - loss: 0.3294 - accuracy: 0.7885\n",
            "Epoch 740/1000\n",
            "5/5 [==============================] - 0s 4ms/step - loss: 0.3293 - accuracy: 0.7885\n",
            "Epoch 741/1000\n",
            "5/5 [==============================] - 0s 5ms/step - loss: 0.3294 - accuracy: 0.7885\n",
            "Epoch 742/1000\n",
            "5/5 [==============================] - 0s 4ms/step - loss: 0.3293 - accuracy: 0.7885\n",
            "Epoch 743/1000\n",
            "5/5 [==============================] - 0s 4ms/step - loss: 0.3293 - accuracy: 0.7885\n",
            "Epoch 744/1000\n",
            "5/5 [==============================] - 0s 5ms/step - loss: 0.3293 - accuracy: 0.7885\n",
            "Epoch 745/1000\n",
            "5/5 [==============================] - 0s 4ms/step - loss: 0.3293 - accuracy: 0.7885\n",
            "Epoch 746/1000\n",
            "5/5 [==============================] - 0s 4ms/step - loss: 0.3293 - accuracy: 0.7885\n",
            "Epoch 747/1000\n",
            "5/5 [==============================] - 0s 4ms/step - loss: 0.3293 - accuracy: 0.7885\n",
            "Epoch 748/1000\n",
            "5/5 [==============================] - 0s 4ms/step - loss: 0.3293 - accuracy: 0.7885\n",
            "Epoch 749/1000\n",
            "5/5 [==============================] - 0s 4ms/step - loss: 0.3293 - accuracy: 0.7885\n",
            "Epoch 750/1000\n",
            "5/5 [==============================] - 0s 5ms/step - loss: 0.3292 - accuracy: 0.7885\n",
            "Epoch 751/1000\n",
            "5/5 [==============================] - 0s 4ms/step - loss: 0.3292 - accuracy: 0.7885\n",
            "Epoch 752/1000\n",
            "5/5 [==============================] - 0s 4ms/step - loss: 0.3292 - accuracy: 0.7885\n",
            "Epoch 753/1000\n",
            "5/5 [==============================] - 0s 5ms/step - loss: 0.3292 - accuracy: 0.7885\n",
            "Epoch 754/1000\n",
            "5/5 [==============================] - 0s 4ms/step - loss: 0.3292 - accuracy: 0.7885\n",
            "Epoch 755/1000\n",
            "5/5 [==============================] - 0s 4ms/step - loss: 0.3292 - accuracy: 0.7885\n",
            "Epoch 756/1000\n",
            "5/5 [==============================] - 0s 4ms/step - loss: 0.3292 - accuracy: 0.7885\n",
            "Epoch 757/1000\n",
            "5/5 [==============================] - 0s 6ms/step - loss: 0.3292 - accuracy: 0.7885\n",
            "Epoch 758/1000\n",
            "5/5 [==============================] - 0s 5ms/step - loss: 0.3291 - accuracy: 0.7885\n",
            "Epoch 759/1000\n",
            "5/5 [==============================] - 0s 4ms/step - loss: 0.3291 - accuracy: 0.7885\n",
            "Epoch 760/1000\n",
            "5/5 [==============================] - 0s 4ms/step - loss: 0.3291 - accuracy: 0.7885\n",
            "Epoch 761/1000\n",
            "5/5 [==============================] - 0s 4ms/step - loss: 0.3291 - accuracy: 0.7885\n",
            "Epoch 762/1000\n",
            "5/5 [==============================] - 0s 4ms/step - loss: 0.3291 - accuracy: 0.7885\n",
            "Epoch 763/1000\n",
            "5/5 [==============================] - 0s 4ms/step - loss: 0.3291 - accuracy: 0.7885\n",
            "Epoch 764/1000\n",
            "5/5 [==============================] - 0s 4ms/step - loss: 0.3291 - accuracy: 0.7885\n",
            "Epoch 765/1000\n",
            "5/5 [==============================] - 0s 3ms/step - loss: 0.3291 - accuracy: 0.7885\n",
            "Epoch 766/1000\n",
            "5/5 [==============================] - 0s 4ms/step - loss: 0.3291 - accuracy: 0.7885\n",
            "Epoch 767/1000\n",
            "5/5 [==============================] - 0s 4ms/step - loss: 0.3291 - accuracy: 0.7885\n",
            "Epoch 768/1000\n",
            "5/5 [==============================] - 0s 4ms/step - loss: 0.3291 - accuracy: 0.7885\n",
            "Epoch 769/1000\n",
            "5/5 [==============================] - 0s 4ms/step - loss: 0.3291 - accuracy: 0.7885\n",
            "Epoch 770/1000\n",
            "5/5 [==============================] - 0s 4ms/step - loss: 0.3290 - accuracy: 0.7949\n",
            "Epoch 771/1000\n",
            "5/5 [==============================] - 0s 4ms/step - loss: 0.3290 - accuracy: 0.8013\n",
            "Epoch 772/1000\n",
            "5/5 [==============================] - 0s 4ms/step - loss: 0.3290 - accuracy: 0.7949\n",
            "Epoch 773/1000\n",
            "5/5 [==============================] - 0s 4ms/step - loss: 0.3290 - accuracy: 0.8013\n",
            "Epoch 774/1000\n",
            "5/5 [==============================] - 0s 4ms/step - loss: 0.3290 - accuracy: 0.7949\n",
            "Epoch 775/1000\n",
            "5/5 [==============================] - 0s 4ms/step - loss: 0.3290 - accuracy: 0.8013\n",
            "Epoch 776/1000\n",
            "5/5 [==============================] - 0s 4ms/step - loss: 0.3290 - accuracy: 0.8013\n",
            "Epoch 777/1000\n",
            "5/5 [==============================] - 0s 4ms/step - loss: 0.3290 - accuracy: 0.8013\n",
            "Epoch 778/1000\n",
            "5/5 [==============================] - 0s 4ms/step - loss: 0.3290 - accuracy: 0.8013\n",
            "Epoch 779/1000\n",
            "5/5 [==============================] - 0s 5ms/step - loss: 0.3289 - accuracy: 0.8013\n",
            "Epoch 780/1000\n",
            "5/5 [==============================] - 0s 5ms/step - loss: 0.3289 - accuracy: 0.8013\n",
            "Epoch 781/1000\n",
            "5/5 [==============================] - 0s 5ms/step - loss: 0.3289 - accuracy: 0.8013\n",
            "Epoch 782/1000\n",
            "5/5 [==============================] - 0s 5ms/step - loss: 0.3289 - accuracy: 0.8013\n",
            "Epoch 783/1000\n",
            "5/5 [==============================] - 0s 6ms/step - loss: 0.3289 - accuracy: 0.8013\n",
            "Epoch 784/1000\n",
            "5/5 [==============================] - 0s 5ms/step - loss: 0.3289 - accuracy: 0.8013\n",
            "Epoch 785/1000\n",
            "5/5 [==============================] - 0s 6ms/step - loss: 0.3289 - accuracy: 0.8013\n",
            "Epoch 786/1000\n",
            "5/5 [==============================] - 0s 6ms/step - loss: 0.3289 - accuracy: 0.8013\n",
            "Epoch 787/1000\n",
            "5/5 [==============================] - 0s 4ms/step - loss: 0.3289 - accuracy: 0.8013\n",
            "Epoch 788/1000\n",
            "5/5 [==============================] - 0s 5ms/step - loss: 0.3288 - accuracy: 0.8013\n",
            "Epoch 789/1000\n",
            "5/5 [==============================] - 0s 5ms/step - loss: 0.3288 - accuracy: 0.8013\n",
            "Epoch 790/1000\n",
            "5/5 [==============================] - 0s 5ms/step - loss: 0.3288 - accuracy: 0.8013\n",
            "Epoch 791/1000\n",
            "5/5 [==============================] - 0s 5ms/step - loss: 0.3288 - accuracy: 0.8013\n",
            "Epoch 792/1000\n",
            "5/5 [==============================] - 0s 4ms/step - loss: 0.3288 - accuracy: 0.8013\n",
            "Epoch 793/1000\n",
            "5/5 [==============================] - 0s 5ms/step - loss: 0.3288 - accuracy: 0.8013\n",
            "Epoch 794/1000\n",
            "5/5 [==============================] - 0s 6ms/step - loss: 0.3288 - accuracy: 0.8013\n",
            "Epoch 795/1000\n",
            "5/5 [==============================] - 0s 5ms/step - loss: 0.3288 - accuracy: 0.8013\n",
            "Epoch 796/1000\n",
            "5/5 [==============================] - 0s 5ms/step - loss: 0.3288 - accuracy: 0.8013\n",
            "Epoch 797/1000\n",
            "5/5 [==============================] - 0s 4ms/step - loss: 0.3287 - accuracy: 0.8013\n",
            "Epoch 798/1000\n",
            "5/5 [==============================] - 0s 4ms/step - loss: 0.3287 - accuracy: 0.8013\n",
            "Epoch 799/1000\n",
            "5/5 [==============================] - 0s 4ms/step - loss: 0.3287 - accuracy: 0.8013\n",
            "Epoch 800/1000\n",
            "5/5 [==============================] - 0s 4ms/step - loss: 0.3287 - accuracy: 0.8013\n",
            "Epoch 801/1000\n",
            "5/5 [==============================] - 0s 4ms/step - loss: 0.3287 - accuracy: 0.8013\n",
            "Epoch 802/1000\n",
            "5/5 [==============================] - 0s 4ms/step - loss: 0.3287 - accuracy: 0.8013\n",
            "Epoch 803/1000\n",
            "5/5 [==============================] - 0s 4ms/step - loss: 0.3287 - accuracy: 0.8013\n",
            "Epoch 804/1000\n",
            "5/5 [==============================] - 0s 6ms/step - loss: 0.3287 - accuracy: 0.8013\n",
            "Epoch 805/1000\n",
            "5/5 [==============================] - 0s 4ms/step - loss: 0.3287 - accuracy: 0.8013\n",
            "Epoch 806/1000\n",
            "5/5 [==============================] - 0s 5ms/step - loss: 0.3287 - accuracy: 0.8013\n",
            "Epoch 807/1000\n",
            "5/5 [==============================] - 0s 6ms/step - loss: 0.3286 - accuracy: 0.8013\n",
            "Epoch 808/1000\n",
            "5/5 [==============================] - 0s 6ms/step - loss: 0.3286 - accuracy: 0.8013\n",
            "Epoch 809/1000\n",
            "5/5 [==============================] - 0s 6ms/step - loss: 0.3286 - accuracy: 0.8013\n",
            "Epoch 810/1000\n",
            "5/5 [==============================] - 0s 6ms/step - loss: 0.3286 - accuracy: 0.8013\n",
            "Epoch 811/1000\n",
            "5/5 [==============================] - 0s 4ms/step - loss: 0.3286 - accuracy: 0.8013\n",
            "Epoch 812/1000\n",
            "5/5 [==============================] - 0s 4ms/step - loss: 0.3285 - accuracy: 0.8013\n",
            "Epoch 813/1000\n",
            "5/5 [==============================] - 0s 5ms/step - loss: 0.3285 - accuracy: 0.8013\n",
            "Epoch 814/1000\n",
            "5/5 [==============================] - 0s 4ms/step - loss: 0.3285 - accuracy: 0.8013\n",
            "Epoch 815/1000\n",
            "5/5 [==============================] - 0s 5ms/step - loss: 0.3285 - accuracy: 0.8013\n",
            "Epoch 816/1000\n",
            "5/5 [==============================] - 0s 4ms/step - loss: 0.3285 - accuracy: 0.8013\n",
            "Epoch 817/1000\n",
            "5/5 [==============================] - 0s 5ms/step - loss: 0.3285 - accuracy: 0.8013\n",
            "Epoch 818/1000\n",
            "5/5 [==============================] - 0s 3ms/step - loss: 0.3285 - accuracy: 0.8013\n",
            "Epoch 819/1000\n",
            "5/5 [==============================] - 0s 6ms/step - loss: 0.3285 - accuracy: 0.8013\n",
            "Epoch 820/1000\n",
            "5/5 [==============================] - 0s 5ms/step - loss: 0.3284 - accuracy: 0.8013\n",
            "Epoch 821/1000\n",
            "5/5 [==============================] - 0s 4ms/step - loss: 0.3284 - accuracy: 0.8013\n",
            "Epoch 822/1000\n",
            "5/5 [==============================] - 0s 5ms/step - loss: 0.3284 - accuracy: 0.8013\n",
            "Epoch 823/1000\n",
            "5/5 [==============================] - 0s 4ms/step - loss: 0.3284 - accuracy: 0.8013\n",
            "Epoch 824/1000\n",
            "5/5 [==============================] - 0s 4ms/step - loss: 0.3284 - accuracy: 0.8013\n",
            "Epoch 825/1000\n",
            "5/5 [==============================] - 0s 4ms/step - loss: 0.3283 - accuracy: 0.8077\n",
            "Epoch 826/1000\n",
            "5/5 [==============================] - 0s 4ms/step - loss: 0.3283 - accuracy: 0.8077\n",
            "Epoch 827/1000\n",
            "5/5 [==============================] - 0s 4ms/step - loss: 0.3282 - accuracy: 0.8077\n",
            "Epoch 828/1000\n",
            "5/5 [==============================] - 0s 4ms/step - loss: 0.3282 - accuracy: 0.8077\n",
            "Epoch 829/1000\n",
            "5/5 [==============================] - 0s 6ms/step - loss: 0.3281 - accuracy: 0.8077\n",
            "Epoch 830/1000\n",
            "5/5 [==============================] - 0s 6ms/step - loss: 0.3282 - accuracy: 0.8077\n",
            "Epoch 831/1000\n",
            "5/5 [==============================] - 0s 8ms/step - loss: 0.3280 - accuracy: 0.8077\n",
            "Epoch 832/1000\n",
            "5/5 [==============================] - 0s 6ms/step - loss: 0.3280 - accuracy: 0.8077\n",
            "Epoch 833/1000\n",
            "5/5 [==============================] - 0s 5ms/step - loss: 0.3279 - accuracy: 0.8077\n",
            "Epoch 834/1000\n",
            "5/5 [==============================] - 0s 7ms/step - loss: 0.3278 - accuracy: 0.8077\n",
            "Epoch 835/1000\n",
            "5/5 [==============================] - 0s 7ms/step - loss: 0.3277 - accuracy: 0.8077\n",
            "Epoch 836/1000\n",
            "5/5 [==============================] - 0s 6ms/step - loss: 0.3275 - accuracy: 0.8013\n",
            "Epoch 837/1000\n",
            "5/5 [==============================] - 0s 6ms/step - loss: 0.3274 - accuracy: 0.7949\n",
            "Epoch 838/1000\n",
            "5/5 [==============================] - 0s 6ms/step - loss: 0.3271 - accuracy: 0.7949\n",
            "Epoch 839/1000\n",
            "5/5 [==============================] - 0s 6ms/step - loss: 0.3267 - accuracy: 0.7949\n",
            "Epoch 840/1000\n",
            "5/5 [==============================] - 0s 6ms/step - loss: 0.3261 - accuracy: 0.7949\n",
            "Epoch 841/1000\n",
            "5/5 [==============================] - 0s 6ms/step - loss: 0.3259 - accuracy: 0.7949\n",
            "Epoch 842/1000\n",
            "5/5 [==============================] - 0s 5ms/step - loss: 0.3251 - accuracy: 0.7949\n",
            "Epoch 843/1000\n",
            "5/5 [==============================] - 0s 6ms/step - loss: 0.3248 - accuracy: 0.7949\n",
            "Epoch 844/1000\n",
            "5/5 [==============================] - 0s 6ms/step - loss: 0.3247 - accuracy: 0.7949\n",
            "Epoch 845/1000\n",
            "5/5 [==============================] - 0s 5ms/step - loss: 0.3246 - accuracy: 0.7949\n",
            "Epoch 846/1000\n",
            "5/5 [==============================] - 0s 5ms/step - loss: 0.3245 - accuracy: 0.7949\n",
            "Epoch 847/1000\n",
            "5/5 [==============================] - 0s 4ms/step - loss: 0.3244 - accuracy: 0.8013\n",
            "Epoch 848/1000\n",
            "5/5 [==============================] - 0s 5ms/step - loss: 0.3244 - accuracy: 0.8013\n",
            "Epoch 849/1000\n",
            "5/5 [==============================] - 0s 5ms/step - loss: 0.3244 - accuracy: 0.8077\n",
            "Epoch 850/1000\n",
            "5/5 [==============================] - 0s 6ms/step - loss: 0.3243 - accuracy: 0.8077\n",
            "Epoch 851/1000\n",
            "5/5 [==============================] - 0s 6ms/step - loss: 0.3243 - accuracy: 0.8077\n",
            "Epoch 852/1000\n",
            "5/5 [==============================] - 0s 7ms/step - loss: 0.3243 - accuracy: 0.8077\n",
            "Epoch 853/1000\n",
            "5/5 [==============================] - 0s 6ms/step - loss: 0.3243 - accuracy: 0.8077\n",
            "Epoch 854/1000\n",
            "5/5 [==============================] - 0s 6ms/step - loss: 0.3243 - accuracy: 0.8077\n",
            "Epoch 855/1000\n",
            "5/5 [==============================] - 0s 6ms/step - loss: 0.3242 - accuracy: 0.8077\n",
            "Epoch 856/1000\n",
            "5/5 [==============================] - 0s 6ms/step - loss: 0.3242 - accuracy: 0.8077\n",
            "Epoch 857/1000\n",
            "5/5 [==============================] - 0s 7ms/step - loss: 0.3242 - accuracy: 0.8077\n",
            "Epoch 858/1000\n",
            "5/5 [==============================] - 0s 8ms/step - loss: 0.3242 - accuracy: 0.8077\n",
            "Epoch 859/1000\n",
            "5/5 [==============================] - 0s 6ms/step - loss: 0.3242 - accuracy: 0.8077\n",
            "Epoch 860/1000\n",
            "5/5 [==============================] - 0s 7ms/step - loss: 0.3241 - accuracy: 0.8077\n",
            "Epoch 861/1000\n",
            "5/5 [==============================] - 0s 6ms/step - loss: 0.3242 - accuracy: 0.8077\n",
            "Epoch 862/1000\n",
            "5/5 [==============================] - 0s 5ms/step - loss: 0.3241 - accuracy: 0.8077\n",
            "Epoch 863/1000\n",
            "5/5 [==============================] - 0s 8ms/step - loss: 0.3241 - accuracy: 0.8077\n",
            "Epoch 864/1000\n",
            "5/5 [==============================] - 0s 8ms/step - loss: 0.3241 - accuracy: 0.8077\n",
            "Epoch 865/1000\n",
            "5/5 [==============================] - 0s 5ms/step - loss: 0.3241 - accuracy: 0.8077\n",
            "Epoch 866/1000\n",
            "5/5 [==============================] - 0s 5ms/step - loss: 0.3241 - accuracy: 0.8077\n",
            "Epoch 867/1000\n",
            "5/5 [==============================] - 0s 8ms/step - loss: 0.3241 - accuracy: 0.8077\n",
            "Epoch 868/1000\n",
            "5/5 [==============================] - 0s 6ms/step - loss: 0.3240 - accuracy: 0.8077\n",
            "Epoch 869/1000\n",
            "5/5 [==============================] - 0s 6ms/step - loss: 0.3240 - accuracy: 0.8077\n",
            "Epoch 870/1000\n",
            "5/5 [==============================] - 0s 6ms/step - loss: 0.3240 - accuracy: 0.8077\n",
            "Epoch 871/1000\n",
            "5/5 [==============================] - 0s 6ms/step - loss: 0.3240 - accuracy: 0.8077\n",
            "Epoch 872/1000\n",
            "5/5 [==============================] - 0s 6ms/step - loss: 0.3240 - accuracy: 0.8077\n",
            "Epoch 873/1000\n",
            "5/5 [==============================] - 0s 6ms/step - loss: 0.3240 - accuracy: 0.8077\n",
            "Epoch 874/1000\n",
            "5/5 [==============================] - 0s 6ms/step - loss: 0.3240 - accuracy: 0.8077\n",
            "Epoch 875/1000\n",
            "5/5 [==============================] - 0s 7ms/step - loss: 0.3239 - accuracy: 0.8077\n",
            "Epoch 876/1000\n",
            "5/5 [==============================] - 0s 7ms/step - loss: 0.3239 - accuracy: 0.8077\n",
            "Epoch 877/1000\n",
            "5/5 [==============================] - 0s 5ms/step - loss: 0.3239 - accuracy: 0.8077\n",
            "Epoch 878/1000\n",
            "5/5 [==============================] - 0s 7ms/step - loss: 0.3239 - accuracy: 0.8077\n",
            "Epoch 879/1000\n",
            "5/5 [==============================] - 0s 5ms/step - loss: 0.3239 - accuracy: 0.8077\n",
            "Epoch 880/1000\n",
            "5/5 [==============================] - 0s 7ms/step - loss: 0.3239 - accuracy: 0.8077\n",
            "Epoch 881/1000\n",
            "5/5 [==============================] - 0s 5ms/step - loss: 0.3239 - accuracy: 0.8077\n",
            "Epoch 882/1000\n",
            "5/5 [==============================] - 0s 4ms/step - loss: 0.3238 - accuracy: 0.8077\n",
            "Epoch 883/1000\n",
            "5/5 [==============================] - 0s 5ms/step - loss: 0.3239 - accuracy: 0.8077\n",
            "Epoch 884/1000\n",
            "5/5 [==============================] - 0s 5ms/step - loss: 0.3239 - accuracy: 0.8077\n",
            "Epoch 885/1000\n",
            "5/5 [==============================] - 0s 6ms/step - loss: 0.3238 - accuracy: 0.8077\n",
            "Epoch 886/1000\n",
            "5/5 [==============================] - 0s 7ms/step - loss: 0.3238 - accuracy: 0.8077\n",
            "Epoch 887/1000\n",
            "5/5 [==============================] - 0s 7ms/step - loss: 0.3238 - accuracy: 0.8077\n",
            "Epoch 888/1000\n",
            "5/5 [==============================] - 0s 5ms/step - loss: 0.3238 - accuracy: 0.8077\n",
            "Epoch 889/1000\n",
            "5/5 [==============================] - 0s 5ms/step - loss: 0.3238 - accuracy: 0.8077\n",
            "Epoch 890/1000\n",
            "5/5 [==============================] - 0s 5ms/step - loss: 0.3238 - accuracy: 0.8077\n",
            "Epoch 891/1000\n",
            "5/5 [==============================] - 0s 6ms/step - loss: 0.3238 - accuracy: 0.8077\n",
            "Epoch 892/1000\n",
            "5/5 [==============================] - 0s 5ms/step - loss: 0.3238 - accuracy: 0.8077\n",
            "Epoch 893/1000\n",
            "5/5 [==============================] - 0s 4ms/step - loss: 0.3238 - accuracy: 0.8077\n",
            "Epoch 894/1000\n",
            "5/5 [==============================] - 0s 5ms/step - loss: 0.3237 - accuracy: 0.8077\n",
            "Epoch 895/1000\n",
            "5/5 [==============================] - 0s 4ms/step - loss: 0.3238 - accuracy: 0.8077\n",
            "Epoch 896/1000\n",
            "5/5 [==============================] - 0s 6ms/step - loss: 0.3237 - accuracy: 0.8077\n",
            "Epoch 897/1000\n",
            "5/5 [==============================] - 0s 5ms/step - loss: 0.3237 - accuracy: 0.8077\n",
            "Epoch 898/1000\n",
            "5/5 [==============================] - 0s 6ms/step - loss: 0.3237 - accuracy: 0.8077\n",
            "Epoch 899/1000\n",
            "5/5 [==============================] - 0s 6ms/step - loss: 0.3237 - accuracy: 0.8077\n",
            "Epoch 900/1000\n",
            "5/5 [==============================] - 0s 5ms/step - loss: 0.3237 - accuracy: 0.8077\n",
            "Epoch 901/1000\n",
            "5/5 [==============================] - 0s 6ms/step - loss: 0.3237 - accuracy: 0.8077\n",
            "Epoch 902/1000\n",
            "5/5 [==============================] - 0s 4ms/step - loss: 0.3237 - accuracy: 0.8077\n",
            "Epoch 903/1000\n",
            "5/5 [==============================] - 0s 5ms/step - loss: 0.3237 - accuracy: 0.8077\n",
            "Epoch 904/1000\n",
            "5/5 [==============================] - 0s 4ms/step - loss: 0.3237 - accuracy: 0.8077\n",
            "Epoch 905/1000\n",
            "5/5 [==============================] - 0s 5ms/step - loss: 0.3237 - accuracy: 0.8077\n",
            "Epoch 906/1000\n",
            "5/5 [==============================] - 0s 4ms/step - loss: 0.3237 - accuracy: 0.8077\n",
            "Epoch 907/1000\n",
            "5/5 [==============================] - 0s 5ms/step - loss: 0.3236 - accuracy: 0.8077\n",
            "Epoch 908/1000\n",
            "5/5 [==============================] - 0s 7ms/step - loss: 0.3236 - accuracy: 0.8077\n",
            "Epoch 909/1000\n",
            "5/5 [==============================] - 0s 5ms/step - loss: 0.3236 - accuracy: 0.8077\n",
            "Epoch 910/1000\n",
            "5/5 [==============================] - 0s 5ms/step - loss: 0.3236 - accuracy: 0.8077\n",
            "Epoch 911/1000\n",
            "5/5 [==============================] - 0s 5ms/step - loss: 0.3236 - accuracy: 0.8077\n",
            "Epoch 912/1000\n",
            "5/5 [==============================] - 0s 4ms/step - loss: 0.3236 - accuracy: 0.8077\n",
            "Epoch 913/1000\n",
            "5/5 [==============================] - 0s 5ms/step - loss: 0.3236 - accuracy: 0.8077\n",
            "Epoch 914/1000\n",
            "5/5 [==============================] - 0s 5ms/step - loss: 0.3236 - accuracy: 0.8077\n",
            "Epoch 915/1000\n",
            "5/5 [==============================] - 0s 6ms/step - loss: 0.3236 - accuracy: 0.8077\n",
            "Epoch 916/1000\n",
            "5/5 [==============================] - 0s 6ms/step - loss: 0.3236 - accuracy: 0.8077\n",
            "Epoch 917/1000\n",
            "5/5 [==============================] - 0s 6ms/step - loss: 0.3236 - accuracy: 0.8077\n",
            "Epoch 918/1000\n",
            "5/5 [==============================] - 0s 6ms/step - loss: 0.3236 - accuracy: 0.8077\n",
            "Epoch 919/1000\n",
            "5/5 [==============================] - 0s 7ms/step - loss: 0.3236 - accuracy: 0.8077\n",
            "Epoch 920/1000\n",
            "5/5 [==============================] - 0s 6ms/step - loss: 0.3236 - accuracy: 0.8077\n",
            "Epoch 921/1000\n",
            "5/5 [==============================] - 0s 6ms/step - loss: 0.3236 - accuracy: 0.8077\n",
            "Epoch 922/1000\n",
            "5/5 [==============================] - 0s 8ms/step - loss: 0.3235 - accuracy: 0.8077\n",
            "Epoch 923/1000\n",
            "5/5 [==============================] - 0s 6ms/step - loss: 0.3235 - accuracy: 0.8077\n",
            "Epoch 924/1000\n",
            "5/5 [==============================] - 0s 6ms/step - loss: 0.3235 - accuracy: 0.8077\n",
            "Epoch 925/1000\n",
            "5/5 [==============================] - 0s 7ms/step - loss: 0.3235 - accuracy: 0.8077\n",
            "Epoch 926/1000\n",
            "5/5 [==============================] - 0s 7ms/step - loss: 0.3235 - accuracy: 0.8077\n",
            "Epoch 927/1000\n",
            "5/5 [==============================] - 0s 7ms/step - loss: 0.3235 - accuracy: 0.8077\n",
            "Epoch 928/1000\n",
            "5/5 [==============================] - 0s 7ms/step - loss: 0.3235 - accuracy: 0.8077\n",
            "Epoch 929/1000\n",
            "5/5 [==============================] - 0s 7ms/step - loss: 0.3235 - accuracy: 0.8077\n",
            "Epoch 930/1000\n",
            "5/5 [==============================] - 0s 7ms/step - loss: 0.3235 - accuracy: 0.8077\n",
            "Epoch 931/1000\n",
            "5/5 [==============================] - 0s 6ms/step - loss: 0.3235 - accuracy: 0.8077\n",
            "Epoch 932/1000\n",
            "5/5 [==============================] - 0s 6ms/step - loss: 0.3235 - accuracy: 0.8077\n",
            "Epoch 933/1000\n",
            "5/5 [==============================] - 0s 6ms/step - loss: 0.3235 - accuracy: 0.8077\n",
            "Epoch 934/1000\n",
            "5/5 [==============================] - 0s 7ms/step - loss: 0.3235 - accuracy: 0.8077\n",
            "Epoch 935/1000\n",
            "5/5 [==============================] - 0s 6ms/step - loss: 0.3235 - accuracy: 0.8077\n",
            "Epoch 936/1000\n",
            "5/5 [==============================] - 0s 5ms/step - loss: 0.3235 - accuracy: 0.8077\n",
            "Epoch 937/1000\n",
            "5/5 [==============================] - 0s 6ms/step - loss: 0.3235 - accuracy: 0.8077\n",
            "Epoch 938/1000\n",
            "5/5 [==============================] - 0s 7ms/step - loss: 0.3235 - accuracy: 0.8077\n",
            "Epoch 939/1000\n",
            "5/5 [==============================] - 0s 7ms/step - loss: 0.3234 - accuracy: 0.8077\n",
            "Epoch 940/1000\n",
            "5/5 [==============================] - 0s 6ms/step - loss: 0.3234 - accuracy: 0.8077\n",
            "Epoch 941/1000\n",
            "5/5 [==============================] - 0s 5ms/step - loss: 0.3235 - accuracy: 0.8077\n",
            "Epoch 942/1000\n",
            "5/5 [==============================] - 0s 5ms/step - loss: 0.3234 - accuracy: 0.8077\n",
            "Epoch 943/1000\n",
            "5/5 [==============================] - 0s 6ms/step - loss: 0.3234 - accuracy: 0.8077\n",
            "Epoch 944/1000\n",
            "5/5 [==============================] - 0s 5ms/step - loss: 0.3234 - accuracy: 0.8077\n",
            "Epoch 945/1000\n",
            "5/5 [==============================] - 0s 5ms/step - loss: 0.3234 - accuracy: 0.8077\n",
            "Epoch 946/1000\n",
            "5/5 [==============================] - 0s 7ms/step - loss: 0.3234 - accuracy: 0.8077\n",
            "Epoch 947/1000\n",
            "5/5 [==============================] - 0s 6ms/step - loss: 0.3234 - accuracy: 0.8077\n",
            "Epoch 948/1000\n",
            "5/5 [==============================] - 0s 6ms/step - loss: 0.3234 - accuracy: 0.8077\n",
            "Epoch 949/1000\n",
            "5/5 [==============================] - 0s 6ms/step - loss: 0.3234 - accuracy: 0.8077\n",
            "Epoch 950/1000\n",
            "5/5 [==============================] - 0s 5ms/step - loss: 0.3234 - accuracy: 0.8077\n",
            "Epoch 951/1000\n",
            "5/5 [==============================] - 0s 5ms/step - loss: 0.3234 - accuracy: 0.8077\n",
            "Epoch 952/1000\n",
            "5/5 [==============================] - 0s 8ms/step - loss: 0.3234 - accuracy: 0.8077\n",
            "Epoch 953/1000\n",
            "5/5 [==============================] - 0s 6ms/step - loss: 0.3234 - accuracy: 0.8077\n",
            "Epoch 954/1000\n",
            "5/5 [==============================] - 0s 7ms/step - loss: 0.3233 - accuracy: 0.8077\n",
            "Epoch 955/1000\n",
            "5/5 [==============================] - 0s 6ms/step - loss: 0.3233 - accuracy: 0.8077\n",
            "Epoch 956/1000\n",
            "5/5 [==============================] - 0s 5ms/step - loss: 0.3233 - accuracy: 0.8077\n",
            "Epoch 957/1000\n",
            "5/5 [==============================] - 0s 6ms/step - loss: 0.3233 - accuracy: 0.8077\n",
            "Epoch 958/1000\n",
            "5/5 [==============================] - 0s 7ms/step - loss: 0.3233 - accuracy: 0.8077\n",
            "Epoch 959/1000\n",
            "5/5 [==============================] - 0s 5ms/step - loss: 0.3233 - accuracy: 0.8077\n",
            "Epoch 960/1000\n",
            "5/5 [==============================] - 0s 7ms/step - loss: 0.3234 - accuracy: 0.8077\n",
            "Epoch 961/1000\n",
            "5/5 [==============================] - 0s 5ms/step - loss: 0.3233 - accuracy: 0.8077\n",
            "Epoch 962/1000\n",
            "5/5 [==============================] - 0s 6ms/step - loss: 0.3233 - accuracy: 0.8077\n",
            "Epoch 963/1000\n",
            "5/5 [==============================] - 0s 6ms/step - loss: 0.3233 - accuracy: 0.8077\n",
            "Epoch 964/1000\n",
            "5/5 [==============================] - 0s 8ms/step - loss: 0.3233 - accuracy: 0.8077\n",
            "Epoch 965/1000\n",
            "5/5 [==============================] - 0s 7ms/step - loss: 0.3233 - accuracy: 0.8077\n",
            "Epoch 966/1000\n",
            "5/5 [==============================] - 0s 6ms/step - loss: 0.3233 - accuracy: 0.8077\n",
            "Epoch 967/1000\n",
            "5/5 [==============================] - 0s 7ms/step - loss: 0.3233 - accuracy: 0.8077\n",
            "Epoch 968/1000\n",
            "5/5 [==============================] - 0s 8ms/step - loss: 0.3233 - accuracy: 0.8077\n",
            "Epoch 969/1000\n",
            "5/5 [==============================] - 0s 9ms/step - loss: 0.3233 - accuracy: 0.8077\n",
            "Epoch 970/1000\n",
            "5/5 [==============================] - 0s 6ms/step - loss: 0.3233 - accuracy: 0.8077\n",
            "Epoch 971/1000\n",
            "5/5 [==============================] - 0s 9ms/step - loss: 0.3233 - accuracy: 0.8077\n",
            "Epoch 972/1000\n",
            "5/5 [==============================] - 0s 8ms/step - loss: 0.3233 - accuracy: 0.8077\n",
            "Epoch 973/1000\n",
            "5/5 [==============================] - 0s 6ms/step - loss: 0.3232 - accuracy: 0.8077\n",
            "Epoch 974/1000\n",
            "5/5 [==============================] - 0s 6ms/step - loss: 0.3232 - accuracy: 0.8077\n",
            "Epoch 975/1000\n",
            "5/5 [==============================] - 0s 7ms/step - loss: 0.3232 - accuracy: 0.8077\n",
            "Epoch 976/1000\n",
            "5/5 [==============================] - 0s 7ms/step - loss: 0.3232 - accuracy: 0.8077\n",
            "Epoch 977/1000\n",
            "5/5 [==============================] - 0s 7ms/step - loss: 0.3232 - accuracy: 0.8077\n",
            "Epoch 978/1000\n",
            "5/5 [==============================] - 0s 7ms/step - loss: 0.3232 - accuracy: 0.8077\n",
            "Epoch 979/1000\n",
            "5/5 [==============================] - 0s 5ms/step - loss: 0.3232 - accuracy: 0.8077\n",
            "Epoch 980/1000\n",
            "5/5 [==============================] - 0s 8ms/step - loss: 0.3232 - accuracy: 0.8077\n",
            "Epoch 981/1000\n",
            "5/5 [==============================] - 0s 5ms/step - loss: 0.3232 - accuracy: 0.8077\n",
            "Epoch 982/1000\n",
            "5/5 [==============================] - 0s 6ms/step - loss: 0.3232 - accuracy: 0.8077\n",
            "Epoch 983/1000\n",
            "5/5 [==============================] - 0s 5ms/step - loss: 0.3232 - accuracy: 0.8077\n",
            "Epoch 984/1000\n",
            "5/5 [==============================] - 0s 7ms/step - loss: 0.3232 - accuracy: 0.8077\n",
            "Epoch 985/1000\n",
            "5/5 [==============================] - 0s 5ms/step - loss: 0.3232 - accuracy: 0.8077\n",
            "Epoch 986/1000\n",
            "5/5 [==============================] - 0s 6ms/step - loss: 0.3232 - accuracy: 0.8077\n",
            "Epoch 987/1000\n",
            "5/5 [==============================] - 0s 6ms/step - loss: 0.3232 - accuracy: 0.8077\n",
            "Epoch 988/1000\n",
            "5/5 [==============================] - 0s 5ms/step - loss: 0.3232 - accuracy: 0.8077\n",
            "Epoch 989/1000\n",
            "5/5 [==============================] - 0s 6ms/step - loss: 0.3232 - accuracy: 0.8077\n",
            "Epoch 990/1000\n",
            "5/5 [==============================] - 0s 5ms/step - loss: 0.3231 - accuracy: 0.8077\n",
            "Epoch 991/1000\n",
            "5/5 [==============================] - 0s 5ms/step - loss: 0.3231 - accuracy: 0.8077\n",
            "Epoch 992/1000\n",
            "5/5 [==============================] - 0s 5ms/step - loss: 0.3232 - accuracy: 0.8077\n",
            "Epoch 993/1000\n",
            "5/5 [==============================] - 0s 6ms/step - loss: 0.3232 - accuracy: 0.8077\n",
            "Epoch 994/1000\n",
            "5/5 [==============================] - 0s 6ms/step - loss: 0.3231 - accuracy: 0.8077\n",
            "Epoch 995/1000\n",
            "5/5 [==============================] - 0s 6ms/step - loss: 0.3232 - accuracy: 0.8077\n",
            "Epoch 996/1000\n",
            "5/5 [==============================] - 0s 6ms/step - loss: 0.3231 - accuracy: 0.8077\n",
            "Epoch 997/1000\n",
            "5/5 [==============================] - 0s 6ms/step - loss: 0.3231 - accuracy: 0.8077\n",
            "Epoch 998/1000\n",
            "5/5 [==============================] - 0s 5ms/step - loss: 0.3231 - accuracy: 0.8077\n",
            "Epoch 999/1000\n",
            "5/5 [==============================] - 0s 5ms/step - loss: 0.3232 - accuracy: 0.8077\n",
            "Epoch 1000/1000\n",
            "5/5 [==============================] - 0s 4ms/step - loss: 0.3231 - accuracy: 0.8077\n"
          ]
        },
        {
          "output_type": "execute_result",
          "data": {
            "text/plain": [
              "<keras.callbacks.History at 0x7fe1bad2b2d0>"
            ]
          },
          "metadata": {},
          "execution_count": 79
        }
      ]
    },
    {
      "cell_type": "code",
      "source": [
        "Model_7.evaluate(X_test,Y_test)"
      ],
      "metadata": {
        "colab": {
          "base_uri": "https://localhost:8080/"
        },
        "id": "KvHAe-fXwR2A",
        "outputId": "931a08ce-547e-4e57-c153-73c761354d1e"
      },
      "execution_count": 80,
      "outputs": [
        {
          "output_type": "stream",
          "name": "stdout",
          "text": [
            "2/2 [==============================] - 0s 9ms/step - loss: 0.2732 - accuracy: 0.8718\n"
          ]
        },
        {
          "output_type": "execute_result",
          "data": {
            "text/plain": [
              "[0.2731701731681824, 0.8717948794364929]"
            ]
          },
          "metadata": {},
          "execution_count": 80
        }
      ]
    },
    {
      "cell_type": "code",
      "source": [
        "Accuracy_7=0.9231\n",
        "print(\"Neural Network  Accuracy is:\", Accuracy_7)"
      ],
      "metadata": {
        "colab": {
          "base_uri": "https://localhost:8080/"
        },
        "id": "7gcCPQiJBVRj",
        "outputId": "cd87c0e8-16ac-47dd-a7dd-39a20dbca04c"
      },
      "execution_count": 81,
      "outputs": [
        {
          "output_type": "stream",
          "name": "stdout",
          "text": [
            "Neural Network  Accuracy is: 0.9231\n"
          ]
        }
      ]
    },
    {
      "cell_type": "code",
      "source": [
        "Pred_NN=Model_7.predict(X_test)\n",
        "Pred_NN\n"
      ],
      "metadata": {
        "colab": {
          "base_uri": "https://localhost:8080/"
        },
        "id": "lXLy4GHMv97P",
        "outputId": "629af7ff-ba72-41b9-ca6f-baf72924a2b6"
      },
      "execution_count": 82,
      "outputs": [
        {
          "output_type": "execute_result",
          "data": {
            "text/plain": [
              "array([[0.98910195],\n",
              "       [0.98910207],\n",
              "       [0.98910207],\n",
              "       [0.98908937],\n",
              "       [0.4413194 ],\n",
              "       [0.989102  ],\n",
              "       [0.44264388],\n",
              "       [0.989102  ],\n",
              "       [0.98908937],\n",
              "       [0.989102  ],\n",
              "       [0.4409617 ],\n",
              "       [0.989102  ],\n",
              "       [0.98909974],\n",
              "       [0.98908377],\n",
              "       [0.9887766 ],\n",
              "       [0.44095543],\n",
              "       [0.98910207],\n",
              "       [0.98910195],\n",
              "       [0.44097325],\n",
              "       [0.98910207],\n",
              "       [0.98910207],\n",
              "       [0.44126704],\n",
              "       [0.4409966 ],\n",
              "       [0.989086  ],\n",
              "       [0.98910207],\n",
              "       [0.4500619 ],\n",
              "       [0.989102  ],\n",
              "       [0.98910207],\n",
              "       [0.4409623 ],\n",
              "       [0.4409555 ],\n",
              "       [0.9891001 ],\n",
              "       [0.4464941 ],\n",
              "       [0.9891019 ],\n",
              "       [0.44095585],\n",
              "       [0.44095626],\n",
              "       [0.46899474],\n",
              "       [0.4413318 ],\n",
              "       [0.98910207],\n",
              "       [0.44095582]], dtype=float32)"
            ]
          },
          "metadata": {},
          "execution_count": 82
        }
      ]
    },
    {
      "cell_type": "code",
      "source": [
        "for i,j in enumerate(Pred_NN):\n",
        "  if(j<0.5):\n",
        "    Pred_NN[i]=0\n",
        "  else:\n",
        "    Pred_NN[i]=1\n",
        "Pred_NN.reshape(1,39)"
      ],
      "metadata": {
        "colab": {
          "base_uri": "https://localhost:8080/"
        },
        "id": "oHai_0lQ0hRO",
        "outputId": "23bffde9-3615-4db1-f7d9-690037284167"
      },
      "execution_count": 83,
      "outputs": [
        {
          "output_type": "execute_result",
          "data": {
            "text/plain": [
              "array([[1., 1., 1., 1., 0., 1., 0., 1., 1., 1., 0., 1., 1., 1., 1., 0.,\n",
              "        1., 1., 0., 1., 1., 0., 0., 1., 1., 0., 1., 1., 0., 0., 1., 0.,\n",
              "        1., 0., 0., 0., 0., 1., 0.]], dtype=float32)"
            ]
          },
          "metadata": {},
          "execution_count": 83
        }
      ]
    },
    {
      "cell_type": "code",
      "source": [
        "Pred_NN=Pred_NN.flatten()\n",
        "print(Pred_NN)\n",
        "Y_test"
      ],
      "metadata": {
        "colab": {
          "base_uri": "https://localhost:8080/"
        },
        "id": "ySUkhl857M2F",
        "outputId": "6bc1b823-caa3-4714-ae17-eb52d9a3a115"
      },
      "execution_count": 84,
      "outputs": [
        {
          "output_type": "stream",
          "name": "stdout",
          "text": [
            "[1. 1. 1. 1. 0. 1. 0. 1. 1. 1. 0. 1. 1. 1. 1. 0. 1. 1. 0. 1. 1. 0. 0. 1.\n",
            " 1. 0. 1. 1. 0. 0. 1. 0. 1. 0. 0. 0. 0. 1. 0.]\n"
          ]
        },
        {
          "output_type": "execute_result",
          "data": {
            "text/plain": [
              "array([1, 1, 1, 1, 0, 1, 0, 1, 1, 1, 1, 1, 1, 1, 1, 0, 1, 1, 1, 1, 1, 0,\n",
              "       0, 1, 1, 1, 1, 1, 0, 0, 1, 1, 1, 0, 0, 1, 0, 1, 0])"
            ]
          },
          "metadata": {},
          "execution_count": 84
        }
      ]
    },
    {
      "cell_type": "code",
      "source": [
        "CM=confusion_matrix(Y_test,Pred_NN)\n",
        "plt.figure(figsize=(6,4))\n",
        "fg=sn.heatmap(CM,annot=True,cmap='Blues')\n",
        "figure=fg.get_figure()\n",
        "figure.savefig('NN.jpg',dpi=350)\n",
        "plt.xlabel(\"Predicted\")\n",
        "plt.ylabel(\"Actual\")\n",
        "plt.show()"
      ],
      "metadata": {
        "colab": {
          "base_uri": "https://localhost:8080/",
          "height": 279
        },
        "id": "hUVzfRlB062Y",
        "outputId": "e7a87e6f-3d42-4be9-90b6-1a4d51559e2f"
      },
      "execution_count": 85,
      "outputs": [
        {
          "output_type": "display_data",
          "data": {
            "text/plain": [
              "<Figure size 432x288 with 2 Axes>"
            ],
            "image/png": "[encoded data removed]"
          },
          "metadata": {
            "needs_background": "light"
          }
        }
      ]
    },
    {
      "cell_type": "code",
      "source": [
        "list1=['Linear Regression','Logistic Regression','Decision Tree','Support Vector Machine','Random Forest','XGBClassifiers','Neural Network']\n",
        "list2=[Accuracy,Accuracy_2,Accuracy_3,Accuracy_4,Accuracy_5,Accuracy_6,Accuracy_7]"
      ],
      "metadata": {
        "id": "f-IYE0ZO93_v"
      },
      "execution_count": 86,
      "outputs": []
    },
    {
      "cell_type": "code",
      "source": [
        "df_Accuracy=pd.DataFrame({'Supervised Models':list1,'Accuracy':list2})\n",
        "df_Accuracy"
      ],
      "metadata": {
        "colab": {
          "base_uri": "https://localhost:8080/",
          "height": 269
        },
        "id": "zOmozqEJA6DE",
        "outputId": "b8b9c46a-3df7-454e-aafd-c1f6fd9818d9"
      },
      "execution_count": 87,
      "outputs": [
        {
          "output_type": "execute_result",
          "data": {
            "text/plain": [
              "        Supervised Models  Accuracy\n",
              "0       Linear Regression  0.663499\n",
              "1     Logistic Regression  0.974359\n",
              "2           Decision Tree  0.923077\n",
              "3  Support Vector Machine  1.000000\n",
              "4           Random Forest  0.948718\n",
              "5          XGBClassifiers  1.000000\n",
              "6          Neural Network  0.923100"
            ],
            "text/html": [
              "\n",
              "  <div id=\"df-c2df33e3-f6b2-4686-bf37-a467dd61fbb2\">\n",
              "    <div class=\"colab-df-container\">\n",
              "      <div>\n",
              "<style scoped>\n",
              "    .dataframe tbody tr th:only-of-type {\n",
              "        vertical-align: middle;\n",
              "    }\n",
              "\n",
              "    .dataframe tbody tr th {\n",
              "        vertical-align: top;\n",
              "    }\n",
              "\n",
              "    .dataframe thead th {\n",
              "        text-align: right;\n",
              "    }\n",
              "</style>\n",
              "<table border=\"1\" class=\"dataframe\">\n",
              "  <thead>\n",
              "    <tr style=\"text-align: right;\">\n",
              "      <th></th>\n",
              "      <th>Supervised Models</th>\n",
              "      <th>Accuracy</th>\n",
              "    </tr>\n",
              "  </thead>\n",
              "  <tbody>\n",
              "    <tr>\n",
              "      <th>0</th>\n",
              "      <td>Linear Regression</td>\n",
              "      <td>0.663499</td>\n",
              "    </tr>\n",
              "    <tr>\n",
              "      <th>1</th>\n",
              "      <td>Logistic Regression</td>\n",
              "      <td>0.974359</td>\n",
              "    </tr>\n",
              "    <tr>\n",
              "      <th>2</th>\n",
              "      <td>Decision Tree</td>\n",
              "      <td>0.923077</td>\n",
              "    </tr>\n",
              "    <tr>\n",
              "      <th>3</th>\n",
              "      <td>Support Vector Machine</td>\n",
              "      <td>1.000000</td>\n",
              "    </tr>\n",
              "    <tr>\n",
              "      <th>4</th>\n",
              "      <td>Random Forest</td>\n",
              "      <td>0.948718</td>\n",
              "    </tr>\n",
              "    <tr>\n",
              "      <th>5</th>\n",
              "      <td>XGBClassifiers</td>\n",
              "      <td>1.000000</td>\n",
              "    </tr>\n",
              "    <tr>\n",
              "      <th>6</th>\n",
              "      <td>Neural Network</td>\n",
              "      <td>0.923100</td>\n",
              "    </tr>\n",
              "  </tbody>\n",
              "</table>\n",
              "</div>\n",
              "      <button class=\"colab-df-convert\" onclick=\"convertToInteractive('df-c2df33e3-f6b2-4686-bf37-a467dd61fbb2')\"\n",
              "              title=\"Convert this dataframe to an interactive table.\"\n",
              "              style=\"display:none;\">\n",
              "        \n",
              "  <svg xmlns=\"http://www.w3.org/2000/svg\" height=\"24px\"viewBox=\"0 0 24 24\"\n",
              "       width=\"24px\">\n",
              "    <path d=\"M0 0h24v24H0V0z\" fill=\"none\"/>\n",
              "    <path d=\"M18.56 5.44l.94 2.06.94-2.06 2.06-.94-2.06-.94-.94-2.06-.94 2.06-2.06.94zm-11 1L8.5 8.5l.94-2.06 2.06-.94-2.06-.94L8.5 2.5l-.94 2.06-2.06.94zm10 10l.94 2.06.94-2.06 2.06-.94-2.06-.94-.94-2.06-.94 2.06-2.06.94z\"/><path d=\"M17.41 7.96l-1.37-1.37c-.4-.4-.92-.59-1.43-.59-.52 0-1.04.2-1.43.59L10.3 9.45l-7.72 7.72c-.78.78-.78 2.05 0 2.83L4 21.41c.39.39.9.59 1.41.59.51 0 1.02-.2 1.41-.59l7.78-7.78 2.81-2.81c.8-.78.8-2.07 0-2.86zM5.41 20L4 18.59l7.72-7.72 1.47 1.35L5.41 20z\"/>\n",
              "  </svg>\n",
              "      </button>\n",
              "      \n",
              "  <style>\n",
              "    .colab-df-container {\n",
              "      display:flex;\n",
              "      flex-wrap:wrap;\n",
              "      gap: 12px;\n",
              "    }\n",
              "\n",
              "    .colab-df-convert {\n",
              "      background-color: #E8F0FE;\n",
              "      border: none;\n",
              "      border-radius: 50%;\n",
              "      cursor: pointer;\n",
              "      display: none;\n",
              "      fill: #1967D2;\n",
              "      height: 32px;\n",
              "      padding: 0 0 0 0;\n",
              "      width: 32px;\n",
              "    }\n",
              "\n",
              "    .colab-df-convert:hover {\n",
              "      background-color: #E2EBFA;\n",
              "      box-shadow: 0px 1px 2px rgba(60, 64, 67, 0.3), 0px 1px 3px 1px rgba(60, 64, 67, 0.15);\n",
              "      fill: #174EA6;\n",
              "    }\n",
              "\n",
              "    [theme=dark] .colab-df-convert {\n",
              "      background-color: #3B4455;\n",
              "      fill: #D2E3FC;\n",
              "    }\n",
              "\n",
              "    [theme=dark] .colab-df-convert:hover {\n",
              "      background-color: #434B5C;\n",
              "      box-shadow: 0px 1px 3px 1px rgba(0, 0, 0, 0.15);\n",
              "      filter: drop-shadow(0px 1px 2px rgba(0, 0, 0, 0.3));\n",
              "      fill: #FFFFFF;\n",
              "    }\n",
              "  </style>\n",
              "\n",
              "      <script>\n",
              "        const buttonEl =\n",
              "          document.querySelector('#df-c2df33e3-f6b2-4686-bf37-a467dd61fbb2 button.colab-df-convert');\n",
              "        buttonEl.style.display =\n",
              "          google.colab.kernel.accessAllowed ? 'block' : 'none';\n",
              "\n",
              "        async function convertToInteractive(key) {\n",
              "          const element = document.querySelector('#df-c2df33e3-f6b2-4686-bf37-a467dd61fbb2');\n",
              "          const dataTable =\n",
              "            await google.colab.kernel.invokeFunction('convertToInteractive',\n",
              "                                                     [key], {});\n",
              "          if (!dataTable) return;\n",
              "\n",
              "          const docLinkHtml = 'Like what you see? Visit the ' +\n",
              "            '<a target=\"_blank\" href=https://colab.research.google.com/notebooks/data_table.ipynb>data table notebook</a>'\n",
              "            + ' to learn more about interactive tables.';\n",
              "          element.innerHTML = '';\n",
              "          dataTable['output_type'] = 'display_data';\n",
              "          await google.colab.output.renderOutput(dataTable, element);\n",
              "          const docLink = document.createElement('div');\n",
              "          docLink.innerHTML = docLinkHtml;\n",
              "          element.appendChild(docLink);\n",
              "        }\n",
              "      </script>\n",
              "    </div>\n",
              "  </div>\n",
              "  "
            ]
          },
          "metadata": {},
          "execution_count": 87
        }
      ]
    },
    {
      "cell_type": "code",
      "source": [
        "import seaborn as sns\n",
        "chart=sns.barplot(x='Supervised Models',y='Accuracy',data=df_Accuracy)\n",
        "chart.set_xticklabels(chart.get_xticklabels(),rotation=90)\n",
        "print(chart)"
      ],
      "metadata": {
        "colab": {
          "base_uri": "https://localhost:8080/",
          "height": 406
        },
        "id": "7dr3rKxzF3of",
        "outputId": "6bc2b178-feda-4634-d968-3274d93aee72"
      },
      "execution_count": 88,
      "outputs": [
        {
          "output_type": "stream",
          "name": "stdout",
          "text": [
            "AxesSubplot(0.125,0.125;0.775x0.755)\n"
          ]
        },
        {
          "output_type": "display_data",
          "data": {
            "text/plain": [
              "<Figure size 432x288 with 1 Axes>"
            ],
            "image/png": "[encoded data removed]"
          },
          "metadata": {
            "needs_background": "light"
          }
        }
      ]
    },
    {
      "cell_type": "markdown",
      "source": [
        "Building a Predictive System"
      ],
      "metadata": {
        "id": "-D8m6weGgjHO"
      }
    },
    {
      "cell_type": "code",
      "source": [
        "Input_data = (197.07600,206.89600,192.05500,0.00289,0.00001,0.00166,0.00168,0.00498,0.01098,0.09700,0.00563,0.00680,0.00802,0.01689,0.00339,26.77500,0.422229,0.741367,-7.348300,0.177551,1.743867,0.085569)\n",
        "Input_data_as_numpy_array = np.asarray(Input_data)\n",
        "Input_data_reshaped = Input_data_as_numpy_array.reshape(1,-1)"
      ],
      "metadata": {
        "id": "EgfbAjMXhdKW"
      },
      "execution_count": 89,
      "outputs": []
    },
    {
      "cell_type": "code",
      "source": [
        "SC1=StandardScaler()\n",
        "std_data=np.array(SC1.fit_transform(Input_data_reshaped))"
      ],
      "metadata": {
        "id": "5dfAVi0VjBKD"
      },
      "execution_count": 90,
      "outputs": []
    },
    {
      "cell_type": "code",
      "source": [
        "Prediction = Model_7.predict(std_data)\n",
        "print(Prediction)\n",
        "if (Prediction[0] == 0):\n",
        "  print(\"The Person does not have Parkinsons Disease\")\n",
        "\n",
        "else:\n",
        "  print(\"The Person has Parkinsons\")"
      ],
      "metadata": {
        "colab": {
          "base_uri": "https://localhost:8080/"
        },
        "id": "YGzD5VnFkmSJ",
        "outputId": "9788e78b-87a3-4092-e020-177cb8a8bce1"
      },
      "execution_count": 91,
      "outputs": [
        {
          "output_type": "stream",
          "name": "stdout",
          "text": [
            "[[0.98906696]]\n",
            "The Person has Parkinsons\n"
          ]
        }
      ]
    },
    {
      "cell_type": "code",
      "source": [
        "Prediction = Model_6.predict(std_data)\n",
        "print(Prediction)\n",
        "if (Prediction[0] == 0):\n",
        "  print(\"The Person does not have Parkinsons Disease\")\n",
        "\n",
        "else:\n",
        "  print(\"The Person has Parkinsons\")"
      ],
      "metadata": {
        "colab": {
          "base_uri": "https://localhost:8080/"
        },
        "id": "PCPOKJ-S0Swv",
        "outputId": "f2dbcadd-400e-45d8-d6f9-d5c23f57f580"
      },
      "execution_count": 92,
      "outputs": [
        {
          "output_type": "stream",
          "name": "stdout",
          "text": [
            "[1]\n",
            "The Person has Parkinsons\n"
          ]
        }
      ]
    }
  ]
}